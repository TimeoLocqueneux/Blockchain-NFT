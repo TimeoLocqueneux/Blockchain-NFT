{
 "cells": [
  {
   "cell_type": "code",
   "execution_count": 28,
   "metadata": {},
   "outputs": [
    {
     "name": "stdout",
     "output_type": "stream",
     "text": [
      "The autoreload extension is already loaded. To reload it, use:\n",
      "  %reload_ext autoreload\n"
     ]
    }
   ],
   "source": [
    "%load_ext autoreload\n",
    "%autoreload 2\n",
    "\n",
    "from sys import path\n",
    "\n",
    "path.append('../scripts')\n"
   ]
  },
  {
   "cell_type": "code",
   "execution_count": 29,
   "metadata": {},
   "outputs": [],
   "source": [
    "import requests\n",
    "from IPython.display import Image\n",
    "\n",
    "\n",
    "\n"
   ]
  },
  {
   "cell_type": "code",
   "execution_count": 30,
   "metadata": {},
   "outputs": [],
   "source": [
    "def get_pokemon_info(name):\n",
    "\n",
    "    base_url = \"https://pokeapi.co/api/v2/\"\n",
    "\n",
    "    url = f\"{base_url}/pokemon/{name}\"\n",
    "    response = requests.get(url)\n",
    "\n",
    "    if response.status_code == 200:\n",
    "\n",
    "        pokemon_info =  response.json()\n",
    "        url1 = pokemon_info[\"sprites\"]['front_default']\n",
    "        url2 = pokemon_info['types'][0]['type']['name']\n",
    "        \n",
    "        return [url1, url2]\n",
    "\n",
    "    else:\n",
    "        print(f\"Failed to retrieve data. Error {response.status_code}\")\n"
   ]
  },
  {
   "cell_type": "code",
   "execution_count": 31,
   "metadata": {},
   "outputs": [],
   "source": [
    "# from certificate import Certificate\n",
    "# from wallet import Wallet\n",
    "\n",
    "# Alice = Wallet()\n",
    "# cert = Certificate(Alice.publicKey)\n",
    "# Alice.sign(cert)\n",
    "# cert.is_legit()\n"
   ]
  },
  {
   "cell_type": "markdown",
   "metadata": {},
   "source": [
    "# INITIALISATION"
   ]
  },
  {
   "cell_type": "code",
   "execution_count": 32,
   "metadata": {},
   "outputs": [],
   "source": [
    "from node import BlockchainNode\n",
    "from network import Node\n",
    "from wallet import Wallet\n",
    "from proof_of_stake import ProofOfStake\n",
    "\n",
    "walletNode1 = Wallet()\n",
    "walletNode2 = Wallet()\n",
    "walletNode3 = Wallet()\n",
    "\n",
    "walletAlice = Wallet()\n",
    "walletSacha = Wallet()\n",
    "walletTiméo = Wallet()\n",
    "\n",
    "pos = ProofOfStake(walletNode1.publicKey)\n",
    "\n",
    "def reset_blockchain():\n",
    "    Node.reset_network()\n",
    "    global node1, node2, node3\n",
    "    node1 = BlockchainNode(walletNode1, pos)\n",
    "    node2 = BlockchainNode(walletNode2, pos)\n",
    "    node3 = BlockchainNode(walletNode3, pos)\n",
    "\n",
    "\n"
   ]
  },
  {
   "cell_type": "markdown",
   "metadata": {},
   "source": [
    "# Smart contract importation"
   ]
  },
  {
   "cell_type": "code",
   "execution_count": 33,
   "metadata": {},
   "outputs": [
    {
     "name": "stdout",
     "output_type": "stream",
     "text": [
      "{'self': <smart_contract.SmartContractDefinition object at 0x0000026F1B533440>, 'size': 8, 'Collection': <class 'smart_contract.Collection'>}\n"
     ]
    }
   ],
   "source": [
    "from smart_contract import SmartContractDefinition, SmartContractWritingOperation\n",
    "from CollectionNFT import Collection\n",
    "from certificate import Certificate\n",
    "import inspect\n",
    "\n",
    "\n",
    "reset_blockchain()\n",
    "collection = inspect.getsource(Collection)\n",
    "dummySmartContractDefinition = SmartContractDefinition(walletSacha.publicKey, collection)\n",
    "walletAlice.sign(dummySmartContractDefinition)\n",
    "\n",
    "collection_nft = dummySmartContractDefinition.instantiate_collection(8)\n",
    "\n",
    "\n",
    "\n",
    "\n",
    "    \n",
    "# change_ownership_SmartContractWritingOperation = SmartContractWritingOperation(\n",
    "#     walletAlice.publicKey,\n",
    "#     collection.hash(),\n",
    "#     'change_ownership',\n",
    "#     ['receiver publicKey']\n",
    "# )\n",
    "\n",
    "\n",
    "# open_mint_SmartContractWritingOperation = SmartContractWritingOperation(\n",
    "#     walletAlice.publicKey,\n",
    "#     collection.hash(),\n",
    "#     'open_minting',\n",
    "#     ['time in seconds']\n",
    "# )\n",
    "\n",
    "\n",
    "\n",
    "\n"
   ]
  },
  {
   "cell_type": "markdown",
   "metadata": {},
   "source": [
    "Users can “mint” tokens under certain conditions :  \n",
    "- Once the limit of N has been reached, there is no minting allowed anymore. \n",
    "- There should be a “mint” period. The owner of the collection can open the collection"
   ]
  },
  {
   "cell_type": "code",
   "execution_count": 34,
   "metadata": {},
   "outputs": [
    {
     "name": "stdout",
     "output_type": "stream",
     "text": [
      "[10000]\n",
      "Minting is open\n",
      "[]\n",
      "Minting\n",
      "Minted !\n",
      "ownership changed\n"
     ]
    }
   ],
   "source": [
    "open_minting_SmartContractWritingOperation = SmartContractWritingOperation(\n",
    "    walletAlice.publicKey,\n",
    "    dummySmartContractDefinition.hash(),\n",
    "    'open_minting',\n",
    "    [10000]\n",
    ")\n",
    "walletAlice.sign(open_minting_SmartContractWritingOperation)\n",
    "open_minting_SmartContractWritingOperation.apply_on_contract(collection_nft)\n",
    "node1.new_certificate(open_minting_SmartContractWritingOperation)\n",
    "\n",
    "\n",
    "for i in range(4):\n",
    "    certificate = Certificate(walletAlice.publicKey)\n",
    "    walletAlice.sign(certificate)\n",
    "    node1.new_certificate(certificate)\n",
    "\n",
    "\n",
    "\n",
    "    \n",
    "\n",
    "mint_token_SmartContractWritingOperation = SmartContractWritingOperation(\n",
    "    walletAlice.publicKey,\n",
    "    dummySmartContractDefinition.hash(),\n",
    "    'mint_token',\n",
    "    []\n",
    ")\n",
    "walletAlice.sign(mint_token_SmartContractWritingOperation)\n",
    "mint_token_SmartContractWritingOperation.apply_on_contract(collection_nft)\n",
    "node1.new_certificate(mint_token_SmartContractWritingOperation)\n",
    "\n",
    "\n",
    "for i in range(4):\n",
    "    certificate = Certificate(walletAlice.publicKey)\n",
    "    walletAlice.sign(certificate)\n",
    "    node1.new_certificate(certificate)"
   ]
  },
  {
   "cell_type": "code",
   "execution_count": 35,
   "metadata": {},
   "outputs": [
    {
     "name": "stdout",
     "output_type": "stream",
     "text": [
      "[]\n",
      "Minting\n",
      "Minted !\n",
      "ownership changed\n"
     ]
    }
   ],
   "source": [
    "mint_token_SmartContractWritingOperation = SmartContractWritingOperation(\n",
    "    walletAlice.publicKey,\n",
    "    dummySmartContractDefinition.hash(),\n",
    "    'mint_token',\n",
    "    []\n",
    ")\n",
    "walletAlice.sign(mint_token_SmartContractWritingOperation)\n",
    "mint_token_SmartContractWritingOperation.apply_on_contract(collection_nft)\n",
    "node1.new_certificate(mint_token_SmartContractWritingOperation)\n",
    "\n",
    "\n",
    "for i in range(4):\n",
    "    certificate = Certificate(walletAlice.publicKey)\n",
    "    walletAlice.sign(certificate)\n",
    "    node1.new_certificate(certificate)"
   ]
  },
  {
   "cell_type": "code",
   "execution_count": 36,
   "metadata": {},
   "outputs": [
    {
     "name": "stdout",
     "output_type": "stream",
     "text": [
      "[10000]\n",
      "Minting is open\n",
      "[]\n",
      "Minting\n",
      "Minted !\n",
      "ownership changed\n",
      "[]\n",
      "Minting\n",
      "Minted !\n",
      "ownership changed\n",
      "[]\n",
      "Minting\n",
      "Minted !\n",
      "ownership changed\n",
      "[]\n",
      "Minting\n",
      "Minted !\n",
      "ownership changed\n",
      "[]\n",
      "Minting\n",
      "Minted !\n",
      "ownership changed\n",
      "[]\n",
      "Minting\n",
      "Minted !\n",
      "ownership changed\n",
      "[]\n",
      "Limit of tokens reached\n",
      "ownership changed\n",
      "[]\n",
      "Limit of tokens reached\n",
      "ownership changed\n",
      "[]\n",
      "Limit of tokens reached\n",
      "ownership changed\n",
      "[]\n",
      "Limit of tokens reached\n",
      "ownership changed\n"
     ]
    }
   ],
   "source": [
    "open_minting_SmartContractWritingOperation = SmartContractWritingOperation(\n",
    "    walletAlice.publicKey,\n",
    "    dummySmartContractDefinition.hash(),\n",
    "    'open_minting',\n",
    "    [10000]\n",
    ")\n",
    "walletAlice.sign(open_minting_SmartContractWritingOperation)\n",
    "open_minting_SmartContractWritingOperation.apply_on_contract(collection_nft)\n",
    "node1.new_certificate(open_minting_SmartContractWritingOperation)\n",
    "\n",
    "\n",
    "for i in range(4):\n",
    "    certificate = Certificate(walletAlice.publicKey)\n",
    "    walletAlice.sign(certificate)\n",
    "    node1.new_certificate(certificate)\n",
    "\n",
    "\n",
    "\n",
    "    \n",
    "\n",
    "mint_token_SmartContractWritingOperation = SmartContractWritingOperation(\n",
    "    walletAlice.publicKey,\n",
    "    dummySmartContractDefinition.hash(),\n",
    "    'mint_token',\n",
    "    []\n",
    ")\n",
    "\n",
    "for i in range (10):\n",
    "    walletAlice.sign(mint_token_SmartContractWritingOperation)\n",
    "    mint_token_SmartContractWritingOperation.apply_on_contract(collection_nft)\n",
    "    node1.new_certificate(mint_token_SmartContractWritingOperation)\n",
    "\n",
    "\n",
    "    for i in range(4):\n",
    "        certificate = Certificate(walletAlice.publicKey)\n",
    "        walletAlice.sign(certificate)\n",
    "        node1.new_certificate(certificate)\n"
   ]
  },
  {
   "cell_type": "markdown",
   "metadata": {},
   "source": [
    "Create a collection of N tokens that all have a distinguishable identifier"
   ]
  },
  {
   "cell_type": "code",
   "execution_count": 41,
   "metadata": {},
   "outputs": [
    {
     "name": "stdout",
     "output_type": "stream",
     "text": [
      "{'Token No0': {'name': 'pikachu', 'image_link': 'https://raw.githubusercontent.com/PokeAPI/sprites/master/sprites/pokemon/25.png', 'description': 'electric'}, 'Token No1': {'name': 'bulbasaur', 'image_link': 'https://raw.githubusercontent.com/PokeAPI/sprites/master/sprites/pokemon/1.png', 'description': 'grass'}, 'Token No2': {'name': 'charmander', 'image_link': 'https://raw.githubusercontent.com/PokeAPI/sprites/master/sprites/pokemon/4.png', 'description': 'fire'}, 'Token No3': {'name': 'squirtle', 'image_link': 'https://raw.githubusercontent.com/PokeAPI/sprites/master/sprites/pokemon/7.png', 'description': 'water'}, 'Token No4': {'name': 'caterpie', 'image_link': 'https://raw.githubusercontent.com/PokeAPI/sprites/master/sprites/pokemon/10.png', 'description': 'bug'}, 'Token No5': {'name': 'pidgey', 'image_link': 'https://raw.githubusercontent.com/PokeAPI/sprites/master/sprites/pokemon/16.png', 'description': 'normal'}, 'Token No6': {'name': 'rattata', 'image_link': 'https://raw.githubusercontent.com/PokeAPI/sprites/master/sprites/pokemon/19.png', 'description': 'normal'}, 'Token No7': {'name': 'spearow', 'image_link': 'https://raw.githubusercontent.com/PokeAPI/sprites/master/sprites/pokemon/21.png', 'description': 'normal'}, 'Token No8': {'name': 'ekans', 'image_link': 'https://raw.githubusercontent.com/PokeAPI/sprites/master/sprites/pokemon/23.png', 'description': 'poison'}, 'Token No9': {'name': 'sandshrew', 'image_link': 'https://raw.githubusercontent.com/PokeAPI/sprites/master/sprites/pokemon/27.png', 'description': 'ground'}, 'Token No10': {'name': 'clefairy', 'image_link': 'https://raw.githubusercontent.com/PokeAPI/sprites/master/sprites/pokemon/35.png', 'description': 'fairy'}, 'Token No11': {'name': 'vulpix', 'image_link': 'https://raw.githubusercontent.com/PokeAPI/sprites/master/sprites/pokemon/37.png', 'description': 'fire'}, 'Token No12': {'name': 'jigglypuff', 'image_link': 'https://raw.githubusercontent.com/PokeAPI/sprites/master/sprites/pokemon/39.png', 'description': 'normal'}, 'Token No13': {'name': 'zubat', 'image_link': 'https://raw.githubusercontent.com/PokeAPI/sprites/master/sprites/pokemon/41.png', 'description': 'poison'}, 'Token No14': {'name': 'oddish', 'image_link': 'https://raw.githubusercontent.com/PokeAPI/sprites/master/sprites/pokemon/43.png', 'description': 'grass'}, 'Token No15': {'name': 'paras', 'image_link': 'https://raw.githubusercontent.com/PokeAPI/sprites/master/sprites/pokemon/46.png', 'description': 'bug'}, 'Token No16': {'name': 'venonat', 'image_link': 'https://raw.githubusercontent.com/PokeAPI/sprites/master/sprites/pokemon/48.png', 'description': 'bug'}, 'Token No17': {'name': 'diglett', 'image_link': 'https://raw.githubusercontent.com/PokeAPI/sprites/master/sprites/pokemon/50.png', 'description': 'ground'}, 'Token No18': {'name': 'meowth', 'image_link': 'https://raw.githubusercontent.com/PokeAPI/sprites/master/sprites/pokemon/52.png', 'description': 'normal'}, 'Token No19': {'name': 'psyduck', 'image_link': 'https://raw.githubusercontent.com/PokeAPI/sprites/master/sprites/pokemon/54.png', 'description': 'water'}, 'Token No20': {'name': 'mankey', 'image_link': 'https://raw.githubusercontent.com/PokeAPI/sprites/master/sprites/pokemon/56.png', 'description': 'fighting'}, 'Token No21': {'name': 'growlithe', 'image_link': 'https://raw.githubusercontent.com/PokeAPI/sprites/master/sprites/pokemon/58.png', 'description': 'fire'}, 'Token No22': {'name': 'poliwag', 'image_link': 'https://raw.githubusercontent.com/PokeAPI/sprites/master/sprites/pokemon/60.png', 'description': 'water'}, 'Token No23': {'name': 'abra', 'image_link': 'https://raw.githubusercontent.com/PokeAPI/sprites/master/sprites/pokemon/63.png', 'description': 'psychic'}, 'Token No24': {'name': 'machop', 'image_link': 'https://raw.githubusercontent.com/PokeAPI/sprites/master/sprites/pokemon/66.png', 'description': 'fighting'}, 'Token No25': {'name': 'bellsprout', 'image_link': 'https://raw.githubusercontent.com/PokeAPI/sprites/master/sprites/pokemon/69.png', 'description': 'grass'}, 'Token No26': {'name': 'tentacool', 'image_link': 'https://raw.githubusercontent.com/PokeAPI/sprites/master/sprites/pokemon/72.png', 'description': 'water'}, 'Token No27': {'name': 'geodude', 'image_link': 'https://raw.githubusercontent.com/PokeAPI/sprites/master/sprites/pokemon/74.png', 'description': 'rock'}, 'Token No28': {'name': 'ponyta', 'image_link': 'https://raw.githubusercontent.com/PokeAPI/sprites/master/sprites/pokemon/77.png', 'description': 'fire'}, 'Token No29': {'name': 'slowpoke', 'image_link': 'https://raw.githubusercontent.com/PokeAPI/sprites/master/sprites/pokemon/79.png', 'description': 'water'}, 'Token No30': {'name': 'magnemite', 'image_link': 'https://raw.githubusercontent.com/PokeAPI/sprites/master/sprites/pokemon/81.png', 'description': 'electric'}, 'Token No31': {'name': 'doduo', 'image_link': 'https://raw.githubusercontent.com/PokeAPI/sprites/master/sprites/pokemon/84.png', 'description': 'normal'}, 'Token No32': {'name': 'seel', 'image_link': 'https://raw.githubusercontent.com/PokeAPI/sprites/master/sprites/pokemon/86.png', 'description': 'water'}, 'Token No33': {'name': 'grimer', 'image_link': 'https://raw.githubusercontent.com/PokeAPI/sprites/master/sprites/pokemon/88.png', 'description': 'poison'}, 'Token No34': {'name': 'shellder', 'image_link': 'https://raw.githubusercontent.com/PokeAPI/sprites/master/sprites/pokemon/90.png', 'description': 'water'}, 'Token No35': {'name': 'gastly', 'image_link': 'https://raw.githubusercontent.com/PokeAPI/sprites/master/sprites/pokemon/92.png', 'description': 'ghost'}, 'Token No36': {'name': 'onix', 'image_link': 'https://raw.githubusercontent.com/PokeAPI/sprites/master/sprites/pokemon/95.png', 'description': 'rock'}, 'Token No37': {'name': 'drowzee', 'image_link': 'https://raw.githubusercontent.com/PokeAPI/sprites/master/sprites/pokemon/96.png', 'description': 'psychic'}, 'Token No38': {'name': 'krabby', 'image_link': 'https://raw.githubusercontent.com/PokeAPI/sprites/master/sprites/pokemon/98.png', 'description': 'water'}, 'Token No39': {'name': 'voltorb', 'image_link': 'https://raw.githubusercontent.com/PokeAPI/sprites/master/sprites/pokemon/100.png', 'description': 'electric'}, 'Token No40': {'name': 'exeggcute', 'image_link': 'https://raw.githubusercontent.com/PokeAPI/sprites/master/sprites/pokemon/102.png', 'description': 'grass'}, 'Token No41': {'name': 'cubone', 'image_link': 'https://raw.githubusercontent.com/PokeAPI/sprites/master/sprites/pokemon/104.png', 'description': 'ground'}, 'Token No42': {'name': 'hitmonlee', 'image_link': 'https://raw.githubusercontent.com/PokeAPI/sprites/master/sprites/pokemon/106.png', 'description': 'fighting'}, 'Token No43': {'name': 'lickitung', 'image_link': 'https://raw.githubusercontent.com/PokeAPI/sprites/master/sprites/pokemon/108.png', 'description': 'normal'}, 'Token No44': {'name': 'koffing', 'image_link': 'https://raw.githubusercontent.com/PokeAPI/sprites/master/sprites/pokemon/109.png', 'description': 'poison'}, 'Token No45': {'name': 'rhyhorn', 'image_link': 'https://raw.githubusercontent.com/PokeAPI/sprites/master/sprites/pokemon/111.png', 'description': 'ground'}, 'Token No46': {'name': 'tangela', 'image_link': 'https://raw.githubusercontent.com/PokeAPI/sprites/master/sprites/pokemon/114.png', 'description': 'grass'}, 'Token No47': {'name': 'kangaskhan', 'image_link': 'https://raw.githubusercontent.com/PokeAPI/sprites/master/sprites/pokemon/115.png', 'description': 'normal'}, 'Token No48': {'name': 'horsea', 'image_link': 'https://raw.githubusercontent.com/PokeAPI/sprites/master/sprites/pokemon/116.png', 'description': 'water'}, 'Token No49': {'name': 'goldeen', 'image_link': 'https://raw.githubusercontent.com/PokeAPI/sprites/master/sprites/pokemon/118.png', 'description': 'water'}, 'Token No50': {'name': 'staryu', 'image_link': 'https://raw.githubusercontent.com/PokeAPI/sprites/master/sprites/pokemon/120.png', 'description': 'water'}, 'Token No51': {'name': 'mr-mime', 'image_link': 'https://raw.githubusercontent.com/PokeAPI/sprites/master/sprites/pokemon/122.png', 'description': 'psychic'}, 'Token No52': {'name': 'scyther', 'image_link': 'https://raw.githubusercontent.com/PokeAPI/sprites/master/sprites/pokemon/123.png', 'description': 'bug'}, 'Token No53': {'name': 'jynx', 'image_link': 'https://raw.githubusercontent.com/PokeAPI/sprites/master/sprites/pokemon/124.png', 'description': 'ice'}, 'Token No54': {'name': 'electabuzz', 'image_link': 'https://raw.githubusercontent.com/PokeAPI/sprites/master/sprites/pokemon/125.png', 'description': 'electric'}, 'Token No55': {'name': 'magmar', 'image_link': 'https://raw.githubusercontent.com/PokeAPI/sprites/master/sprites/pokemon/126.png', 'description': 'fire'}, 'Token No56': {'name': 'pinsir', 'image_link': 'https://raw.githubusercontent.com/PokeAPI/sprites/master/sprites/pokemon/127.png', 'description': 'bug'}, 'Token No57': {'name': 'tauros', 'image_link': 'https://raw.githubusercontent.com/PokeAPI/sprites/master/sprites/pokemon/128.png', 'description': 'normal'}, 'Token No58': {'name': 'magikarp', 'image_link': 'https://raw.githubusercontent.com/PokeAPI/sprites/master/sprites/pokemon/129.png', 'description': 'water'}, 'Token No59': {'name': 'lapras', 'image_link': 'https://raw.githubusercontent.com/PokeAPI/sprites/master/sprites/pokemon/131.png', 'description': 'water'}, 'Token No60': {'name': 'ditto', 'image_link': 'https://raw.githubusercontent.com/PokeAPI/sprites/master/sprites/pokemon/132.png', 'description': 'normal'}, 'Token No61': {'name': 'eevee', 'image_link': 'https://raw.githubusercontent.com/PokeAPI/sprites/master/sprites/pokemon/133.png', 'description': 'normal'}, 'Token No62': {'name': 'porygon', 'image_link': 'https://raw.githubusercontent.com/PokeAPI/sprites/master/sprites/pokemon/137.png', 'description': 'normal'}, 'Token No63': {'name': 'omanyte', 'image_link': 'https://raw.githubusercontent.com/PokeAPI/sprites/master/sprites/pokemon/138.png', 'description': 'rock'}, 'Token No64': {'name': 'kabuto', 'image_link': 'https://raw.githubusercontent.com/PokeAPI/sprites/master/sprites/pokemon/140.png', 'description': 'rock'}, 'Token No65': {'name': 'aerodactyl', 'image_link': 'https://raw.githubusercontent.com/PokeAPI/sprites/master/sprites/pokemon/142.png', 'description': 'rock'}, 'Token No66': {'name': 'snorlax', 'image_link': 'https://raw.githubusercontent.com/PokeAPI/sprites/master/sprites/pokemon/143.png', 'description': 'normal'}, 'Token No67': {'name': 'articuno', 'image_link': 'https://raw.githubusercontent.com/PokeAPI/sprites/master/sprites/pokemon/144.png', 'description': 'ice'}, 'Token No68': {'name': 'zapdos', 'image_link': 'https://raw.githubusercontent.com/PokeAPI/sprites/master/sprites/pokemon/145.png', 'description': 'electric'}, 'Token No69': {'name': 'moltres', 'image_link': 'https://raw.githubusercontent.com/PokeAPI/sprites/master/sprites/pokemon/146.png', 'description': 'fire'}, 'Token No70': {'name': 'dratini', 'image_link': 'https://raw.githubusercontent.com/PokeAPI/sprites/master/sprites/pokemon/147.png', 'description': 'dragon'}, 'Token No71': {'name': 'mewtwo', 'image_link': 'https://raw.githubusercontent.com/PokeAPI/sprites/master/sprites/pokemon/150.png', 'description': 'psychic'}, 'Token No72': {'name': 'mew', 'image_link': 'https://raw.githubusercontent.com/PokeAPI/sprites/master/sprites/pokemon/151.png', 'description': 'psychic'}, 'Token No73': {'name': 'chikorita', 'image_link': 'https://raw.githubusercontent.com/PokeAPI/sprites/master/sprites/pokemon/152.png', 'description': 'grass'}, 'Token No74': {'name': 'cyndaquil', 'image_link': 'https://raw.githubusercontent.com/PokeAPI/sprites/master/sprites/pokemon/155.png', 'description': 'fire'}, 'Token No75': {'name': 'totodile', 'image_link': 'https://raw.githubusercontent.com/PokeAPI/sprites/master/sprites/pokemon/158.png', 'description': 'water'}, 'Token No76': {'name': 'sentret', 'image_link': 'https://raw.githubusercontent.com/PokeAPI/sprites/master/sprites/pokemon/161.png', 'description': 'normal'}, 'Token No77': {'name': 'hoothoot', 'image_link': 'https://raw.githubusercontent.com/PokeAPI/sprites/master/sprites/pokemon/163.png', 'description': 'normal'}, 'Token No78': {'name': 'ledyba', 'image_link': 'https://raw.githubusercontent.com/PokeAPI/sprites/master/sprites/pokemon/165.png', 'description': 'bug'}, 'Token No79': {'name': 'spinarak', 'image_link': 'https://raw.githubusercontent.com/PokeAPI/sprites/master/sprites/pokemon/167.png', 'description': 'bug'}, 'Token No80': {'name': 'chinchou', 'image_link': 'https://raw.githubusercontent.com/PokeAPI/sprites/master/sprites/pokemon/170.png', 'description': 'water'}, 'Token No81': {'name': 'pichu', 'image_link': 'https://raw.githubusercontent.com/PokeAPI/sprites/master/sprites/pokemon/172.png', 'description': 'electric'}, 'Token No82': {'name': 'cleffa', 'image_link': 'https://raw.githubusercontent.com/PokeAPI/sprites/master/sprites/pokemon/173.png', 'description': 'fairy'}, 'Token No83': {'name': 'igglybuff', 'image_link': 'https://raw.githubusercontent.com/PokeAPI/sprites/master/sprites/pokemon/174.png', 'description': 'normal'}, 'Token No84': {'name': 'togepi', 'image_link': 'https://raw.githubusercontent.com/PokeAPI/sprites/master/sprites/pokemon/175.png', 'description': 'fairy'}, 'Token No85': {'name': 'natu', 'image_link': 'https://raw.githubusercontent.com/PokeAPI/sprites/master/sprites/pokemon/177.png', 'description': 'psychic'}, 'Token No86': {'name': 'mareep', 'image_link': 'https://raw.githubusercontent.com/PokeAPI/sprites/master/sprites/pokemon/179.png', 'description': 'electric'}, 'Token No87': {'name': 'marill', 'image_link': 'https://raw.githubusercontent.com/PokeAPI/sprites/master/sprites/pokemon/183.png', 'description': 'water'}, 'Token No88': {'name': 'sudowoodo', 'image_link': 'https://raw.githubusercontent.com/PokeAPI/sprites/master/sprites/pokemon/185.png', 'description': 'rock'}, 'Token No89': {'name': 'hoppip', 'image_link': 'https://raw.githubusercontent.com/PokeAPI/sprites/master/sprites/pokemon/187.png', 'description': 'grass'}}\n",
      "Token No0\n",
      "Token No1\n",
      "Token No2\n",
      "Token No3\n",
      "Token No4\n",
      "Token No5\n",
      "Token No6\n",
      "Token No7\n",
      "Token No8\n",
      "Token No9\n",
      "Token No10\n",
      "Token No11\n",
      "Token No12\n",
      "Token No13\n",
      "Token No14\n",
      "Token No15\n",
      "Token No16\n",
      "Token No17\n",
      "Token No18\n",
      "Token No19\n",
      "Token No20\n",
      "Token No21\n",
      "Token No22\n",
      "Token No23\n",
      "Token No24\n",
      "Token No25\n",
      "Token No26\n",
      "Token No27\n",
      "Token No28\n",
      "Token No29\n",
      "Token No30\n",
      "Token No31\n",
      "Token No32\n",
      "Token No33\n",
      "Token No34\n",
      "Token No35\n",
      "Token No36\n",
      "Token No37\n",
      "Token No38\n",
      "Token No39\n",
      "Token No40\n",
      "Token No41\n",
      "Token No42\n",
      "Token No43\n",
      "Token No44\n",
      "Token No45\n",
      "Token No46\n",
      "Token No47\n",
      "Token No48\n",
      "Token No49\n",
      "Token No50\n",
      "Token No51\n",
      "Token No52\n",
      "Token No53\n",
      "Token No54\n",
      "Token No55\n",
      "Token No56\n",
      "Token No57\n",
      "Token No58\n",
      "Token No59\n",
      "Token No60\n",
      "Token No61\n",
      "Token No62\n",
      "Token No63\n",
      "Token No64\n",
      "Token No65\n",
      "Token No66\n",
      "Token No67\n",
      "Token No68\n",
      "Token No69\n",
      "Token No70\n",
      "Token No71\n",
      "Token No72\n",
      "Token No73\n",
      "Token No74\n",
      "Token No75\n",
      "Token No76\n",
      "Token No77\n",
      "Token No78\n",
      "Token No79\n",
      "Token No80\n",
      "Token No81\n",
      "Token No82\n",
      "Token No83\n",
      "Token No84\n",
      "Token No85\n",
      "Token No86\n",
      "Token No87\n",
      "Token No88\n",
      "Token No89\n"
     ]
    }
   ],
   "source": [
    "print(collection_nft.tokens)\n",
    "for token in collection_nft.tokens:\n",
    "    print(token)"
   ]
  },
  {
   "cell_type": "markdown",
   "metadata": {},
   "source": [
    "Each token must be linked with a unique image or a description of a game item"
   ]
  },
  {
   "cell_type": "code",
   "execution_count": 42,
   "metadata": {},
   "outputs": [
    {
     "data": {
      "text/plain": [
       "{'name': 'squirtle',\n",
       " 'image_link': 'https://raw.githubusercontent.com/PokeAPI/sprites/master/sprites/pokemon/7.png',\n",
       " 'description': 'water'}"
      ]
     },
     "execution_count": 43,
     "metadata": {},
     "output_type": "execute_result"
    }
   ],
   "source": [
    "collection_nft.tokens['Token No3']"
   ]
  },
  {
   "cell_type": "code",
   "execution_count": 44,
   "metadata": {},
   "outputs": [
    {
     "data": {
      "text/html": [
       "<img src=\"https://raw.githubusercontent.com/PokeAPI/sprites/master/sprites/pokemon/7.png\"/>"
      ],
      "text/plain": [
       "<IPython.core.display.Image object>"
      ]
     },
     "execution_count": 44,
     "metadata": {},
     "output_type": "execute_result"
    }
   ],
   "source": [
    "Image(url=collection_nft.tokens['Token No3']['image_link'])"
   ]
  },
  {
   "cell_type": "markdown",
   "metadata": {},
   "source": [
    "We need to be able to know at any time who is owning which of those tokens"
   ]
  },
  {
   "cell_type": "code",
   "execution_count": 38,
   "metadata": {},
   "outputs": [
    {
     "name": "stdout",
     "output_type": "stream",
     "text": [
      "['hash token', '30820122300d06092a864886f70d01010105000382010f003082010a0282010100b8662070edcf22d3d7a345d20ae30ee66491ff7f74690b3f9b554ea20a71467f8ef9fcfbd5150d2ef478808fd27c68c79953db9de40109b0c07b9dcf24b04f8db9e66ce6c4bbc0cbff3327da6c27e0859343039377692eafb417e6499165710d5c24fa7092b63f2a63b159e03f6afee946d234e5767549d3e7214e895151d0192abdb09087d350fc10c57b542c5c94e419dc3164e42cd5246423642b3d4fed909f330b7db96a2ed12388e39fc2fb643e0bdbc7daabb7efd664fb42880fb35e00989588de76d41f706e7e0944ecff41fd9180cae1e4f57b1209f45e86bd0288376237a48a25b2a9da2318cf9da0aafd231096bc3e2edcf30eb2bffd4a9ca74e710203010001']\n",
      "ownership changed\n"
     ]
    }
   ],
   "source": [
    "change_ownership_SmartContractWritingOperation = SmartContractWritingOperation(\n",
    "    walletAlice.publicKey,\n",
    "    dummySmartContractDefinition.hash(),\n",
    "    'change_ownership',\n",
    "    ['hash token',walletTiméo.publicKey]\n",
    ")\n",
    "walletAlice.sign(change_ownership_SmartContractWritingOperation)\n",
    "change_ownership_SmartContractWritingOperation.apply_on_contract(collection_nft)\n",
    "node1.new_certificate(change_ownership_SmartContractWritingOperation)\n",
    "\n",
    "\n",
    "for i in range(4):\n",
    "    certificate = Certificate(walletAlice.publicKey)\n",
    "    walletAlice.sign(certificate)\n",
    "    node1.new_certificate(certificate)"
   ]
  },
  {
   "cell_type": "markdown",
   "metadata": {},
   "source": [
    "Each token must be linked with a unique image or a description of a game item"
   ]
  },
  {
   "cell_type": "code",
   "execution_count": 39,
   "metadata": {},
   "outputs": [
    {
     "name": "stdout",
     "output_type": "stream",
     "text": [
      "{'type': 'Block', 'issuer': '...0000000000000000...', 'timestamp': 0, 'hash': '998cc8c77c2c1f9b...', 'signature': '...', 'index': 0, 'parent': '0000000000000000...', 'certificates': [], 'nonce': 0}\n",
      "{'type': 'Block', 'issuer': '...7f0491fe788fdcfb...', 'timestamp': 1741205971638, 'hash': '8f294a504c13081d...', 'signature': '0fb3a49af65c38bf...', 'index': 1, 'parent': '998cc8c77c2c1f9b...', 'certificates': [{'type': 'Certificate', 'issuer': '...c1b64d20ace1dbf0...', 'timestamp': 1741205971477, 'hash': '7ab6ad9fe92702da...', 'signature': '3ba9d6112a09af41...'}, {'type': 'SmartContractWritingOperation', 'issuer': '...c1b64d20ace1dbf0...', 'timestamp': 1741205971435, 'hash': 'eb66889adc48bb50...', 'signature': 'cd4dac4b3f954b66...'}, {'type': 'Certificate', 'issuer': '...c1b64d20ace1dbf0...', 'timestamp': 1741205971600, 'hash': '364ffae4bd96b04d...', 'signature': '0cdb41122c04089c...'}, {'type': 'Certificate', 'issuer': '...c1b64d20ace1dbf0...', 'timestamp': 1741205971518, 'hash': 'fb985764cdba8c44...', 'signature': '87fb4e94c7373bbc...'}, {'type': 'Certificate', 'issuer': '...c1b64d20ace1dbf0...', 'timestamp': 1741205971558, 'hash': '180ce99ee369f044...', 'signature': '9c07f7c86918e986...'}], 'nonce': 0}\n",
      "{'type': 'Block', 'issuer': '...7f0491fe788fdcfb...', 'timestamp': 1741205971930, 'hash': '9ef05be2cc67f9a6...', 'signature': '55bbb8130f75c8b7...', 'index': 2, 'parent': '8f294a504c13081d...', 'certificates': [{'type': 'Certificate', 'issuer': '...c1b64d20ace1dbf0...', 'timestamp': 1741205971762, 'hash': 'd32215fb3ff85124...', 'signature': '5e67affc8ed330b5...'}, {'type': 'Certificate', 'issuer': '...c1b64d20ace1dbf0...', 'timestamp': 1741205971850, 'hash': '3c6abf5d06668cff...', 'signature': 'b4c1888c04584cbf...'}, {'type': 'Certificate', 'issuer': '...c1b64d20ace1dbf0...', 'timestamp': 1741205971892, 'hash': 'b4ad1e41a9ef3f10...', 'signature': '616ca80b22638214...'}, {'type': 'SmartContractWritingOperation', 'issuer': '...c1b64d20ace1dbf0...', 'timestamp': 1741205971721, 'hash': 'f6d3657734894544...', 'signature': '912442df647344fe...'}, {'type': 'Certificate', 'issuer': '...c1b64d20ace1dbf0...', 'timestamp': 1741205971803, 'hash': '16de69c2e67d70d8...', 'signature': 'a347f8f091e7450e...'}], 'nonce': 0}\n",
      "{'type': 'Block', 'issuer': '...7f0491fe788fdcfb...', 'timestamp': 1741205972265, 'hash': '23b5abfe0c893a15...', 'signature': '3148b1b096863d94...', 'index': 3, 'parent': '9ef05be2cc67f9a6...', 'certificates': [{'type': 'Certificate', 'issuer': '...c1b64d20ace1dbf0...', 'timestamp': 1741205972227, 'hash': '029d6331c67b2fbf...', 'signature': 'ce3056ac8789a216...'}, {'type': 'SmartContractWritingOperation', 'issuer': '...c1b64d20ace1dbf0...', 'timestamp': 1741205972051, 'hash': 'e73be505981832f2...', 'signature': '2602cd0727851d34...'}, {'type': 'Certificate', 'issuer': '...c1b64d20ace1dbf0...', 'timestamp': 1741205972142, 'hash': 'e616dd2274a95b79...', 'signature': '7280ce5d4e6eff57...'}, {'type': 'Certificate', 'issuer': '...c1b64d20ace1dbf0...', 'timestamp': 1741205972098, 'hash': '0f1ff9f0a8cf3abc...', 'signature': '99e075ebcf6713b4...'}, {'type': 'Certificate', 'issuer': '...c1b64d20ace1dbf0...', 'timestamp': 1741205972184, 'hash': '711ecbaac4d992e4...', 'signature': 'caa0156ec17b90ba...'}], 'nonce': 0}\n",
      "{'type': 'Block', 'issuer': '...7f0491fe788fdcfb...', 'timestamp': 1741205972651, 'hash': 'a30dfc03b781883f...', 'signature': '2f4dd5ad83ea8e37...', 'index': 4, 'parent': '23b5abfe0c893a15...', 'certificates': [{'type': 'SmartContractWritingOperation', 'issuer': '...c1b64d20ace1dbf0...', 'timestamp': 1741205972436, 'hash': '6d290de9e6fcc525...', 'signature': '0d1e8632b8d1e89a...'}, {'type': 'Certificate', 'issuer': '...c1b64d20ace1dbf0...', 'timestamp': 1741205972525, 'hash': '7161085f200f4c98...', 'signature': 'b4ea8812f27df03f...'}, {'type': 'Certificate', 'issuer': '...c1b64d20ace1dbf0...', 'timestamp': 1741205972481, 'hash': '4de093ebdcefe774...', 'signature': '3fe3188a9071b31a...'}, {'type': 'Certificate', 'issuer': '...c1b64d20ace1dbf0...', 'timestamp': 1741205972569, 'hash': '592e92d808a03b09...', 'signature': 'a981de734e4131e2...'}, {'type': 'Certificate', 'issuer': '...c1b64d20ace1dbf0...', 'timestamp': 1741205972613, 'hash': '6222e966777c02fb...', 'signature': '6b5e1f51b18145d1...'}], 'nonce': 0}\n",
      "{'type': 'Block', 'issuer': '...7f0491fe788fdcfb...', 'timestamp': 1741205972952, 'hash': 'a0a202c105627d73...', 'signature': '270f801fda63a7b8...', 'index': 5, 'parent': 'a30dfc03b781883f...', 'certificates': [{'type': 'Certificate', 'issuer': '...c1b64d20ace1dbf0...', 'timestamp': 1741205972872, 'hash': '5b6655b49b6bb3eb...', 'signature': 'c0e98aeb589aa8cd...'}, {'type': 'Certificate', 'issuer': '...c1b64d20ace1dbf0...', 'timestamp': 1741205972916, 'hash': '778f4bc4208563d7...', 'signature': '5339bbd47c5d1e8c...'}, {'type': 'Certificate', 'issuer': '...c1b64d20ace1dbf0...', 'timestamp': 1741205972830, 'hash': 'd322364b69575e7c...', 'signature': 'b7331a47ed22b270...'}, {'type': 'SmartContractWritingOperation', 'issuer': '...c1b64d20ace1dbf0...', 'timestamp': 1741205972744, 'hash': '15b3cff0f187ba0a...', 'signature': '14e8ed7d627f4805...'}, {'type': 'Certificate', 'issuer': '...c1b64d20ace1dbf0...', 'timestamp': 1741205972787, 'hash': '1fa9d32ebe037d6f...', 'signature': '6a892881cec5ed3c...'}], 'nonce': 0}\n",
      "{'type': 'Block', 'issuer': '...7f0491fe788fdcfb...', 'timestamp': 1741205973337, 'hash': '214c5107a238b667...', 'signature': '978ec3099bcfedf0...', 'index': 6, 'parent': 'a0a202c105627d73...', 'certificates': [{'type': 'Certificate', 'issuer': '...c1b64d20ace1dbf0...', 'timestamp': 1741205973121, 'hash': 'bdc8b60aad8e140e...', 'signature': 'a46c7e1389b46d1a...'}, {'type': 'Certificate', 'issuer': '...c1b64d20ace1dbf0...', 'timestamp': 1741205973078, 'hash': '01c9fbdf1d9df5d2...', 'signature': 'a8a67f0691b2dc86...'}, {'type': 'Certificate', 'issuer': '...c1b64d20ace1dbf0...', 'timestamp': 1741205973211, 'hash': '9c2d38b6142369e4...', 'signature': '425ae753275b03ea...'}, {'type': 'Certificate', 'issuer': '...c1b64d20ace1dbf0...', 'timestamp': 1741205973167, 'hash': 'a74296295c7e485a...', 'signature': '205070462cac9970...'}, {'type': 'Certificate', 'issuer': '...c1b64d20ace1dbf0...', 'timestamp': 1741205973297, 'hash': 'a9b94cdcfcae423d...', 'signature': 'a1ae089a18bc69b2...'}], 'nonce': 0}\n",
      "{'type': 'Block', 'issuer': '...7f0491fe788fdcfb...', 'timestamp': 1741205973689, 'hash': '1e9806ea0f944213...', 'signature': '35f7fcf4fb00f797...', 'index': 7, 'parent': '214c5107a238b667...', 'certificates': [{'type': 'Certificate', 'issuer': '...c1b64d20ace1dbf0...', 'timestamp': 1741205973651, 'hash': '82b5c086e54073b7...', 'signature': '5932607345dfcd86...'}, {'type': 'Certificate', 'issuer': '...c1b64d20ace1dbf0...', 'timestamp': 1741205973433, 'hash': '5bf4c134d16e8f65...', 'signature': 'd3eb09921e71eace...'}, {'type': 'Certificate', 'issuer': '...c1b64d20ace1dbf0...', 'timestamp': 1741205973524, 'hash': '47e4b23f96fcf768...', 'signature': '5936e7c16d2167fc...'}, {'type': 'Certificate', 'issuer': '...c1b64d20ace1dbf0...', 'timestamp': 1741205973606, 'hash': 'c39474ccafbe01ca...', 'signature': '35bd0e41ecf79c89...'}, {'type': 'Certificate', 'issuer': '...c1b64d20ace1dbf0...', 'timestamp': 1741205973480, 'hash': '6f115802e4454441...', 'signature': 'b0673d06ce9df832...'}], 'nonce': 0}\n",
      "{'type': 'Block', 'issuer': '...7f0491fe788fdcfb...', 'timestamp': 1741205974037, 'hash': 'd70413fe7233334a...', 'signature': '6beccdc132c9c90e...', 'index': 8, 'parent': '1e9806ea0f944213...', 'certificates': [{'type': 'Certificate', 'issuer': '...c1b64d20ace1dbf0...', 'timestamp': 1741205973786, 'hash': '058654cc23632f0b...', 'signature': '9981a657e7d48669...'}, {'type': 'Certificate', 'issuer': '...c1b64d20ace1dbf0...', 'timestamp': 1741205973912, 'hash': 'a16f74b1a765a24b...', 'signature': 'c3cf899ff9415c82...'}, {'type': 'Certificate', 'issuer': '...c1b64d20ace1dbf0...', 'timestamp': 1741205973831, 'hash': '4217e18f55c20e6a...', 'signature': '0a81835fae4be822...'}, {'type': 'Certificate', 'issuer': '...c1b64d20ace1dbf0...', 'timestamp': 1741205973999, 'hash': 'b22dd8997d4e501e...', 'signature': '68a854ce85ecff5b...'}, {'type': 'Certificate', 'issuer': '...c1b64d20ace1dbf0...', 'timestamp': 1741205973956, 'hash': '90916d3eaf0f31a9...', 'signature': '4ee66a1153f1358d...'}], 'nonce': 0}\n",
      "{'type': 'Block', 'issuer': '...7f0491fe788fdcfb...', 'timestamp': 1741205974443, 'hash': '551a626b463367b6...', 'signature': '001a733c88425bd7...', 'index': 9, 'parent': 'd70413fe7233334a...', 'certificates': [{'type': 'Certificate', 'issuer': '...c1b64d20ace1dbf0...', 'timestamp': 1741205974218, 'hash': 'f6ba3886b90f8a4d...', 'signature': '912a75e24ff28b63...'}, {'type': 'Certificate', 'issuer': '...c1b64d20ace1dbf0...', 'timestamp': 1741205974361, 'hash': '72ca49f7b5ccecd2...', 'signature': '3752a170f7e54652...'}, {'type': 'Certificate', 'issuer': '...c1b64d20ace1dbf0...', 'timestamp': 1741205974135, 'hash': 'c79cb33645b3469e...', 'signature': '5109339d78505013...'}, {'type': 'Certificate', 'issuer': '...c1b64d20ace1dbf0...', 'timestamp': 1741205974262, 'hash': '5fbf9f02fa07a8e0...', 'signature': '1a466727c17dbfb5...'}, {'type': 'Certificate', 'issuer': '...c1b64d20ace1dbf0...', 'timestamp': 1741205974405, 'hash': 'c7eb2f98401910a8...', 'signature': 'bd17af4cd18876b7...'}], 'nonce': 0}\n",
      "{'type': 'Block', 'issuer': '...7f0491fe788fdcfb...', 'timestamp': 1741205974845, 'hash': 'a3e0a705ca27a45a...', 'signature': '38fab4b99c1f2fa0...', 'index': 10, 'parent': '551a626b463367b6...', 'certificates': [{'type': 'Certificate', 'issuer': '...c1b64d20ace1dbf0...', 'timestamp': 1741205974721, 'hash': '4a8a50a05d1f34fd...', 'signature': '9e3e2c1884d8701e...'}, {'type': 'Certificate', 'issuer': '...c1b64d20ace1dbf0...', 'timestamp': 1741205974675, 'hash': '873aa1b19422f66a...', 'signature': 'b3fe92c7a37fedd0...'}, {'type': 'Certificate', 'issuer': '...c1b64d20ace1dbf0...', 'timestamp': 1741205974628, 'hash': '4fa11a38df1c3efd...', 'signature': 'cd175e6ad6823d13...'}, {'type': 'Certificate', 'issuer': '...c1b64d20ace1dbf0...', 'timestamp': 1741205974581, 'hash': '8c50728c71e11aca...', 'signature': '471d7bdd696e4afb...'}, {'type': 'Certificate', 'issuer': '...c1b64d20ace1dbf0...', 'timestamp': 1741205974805, 'hash': 'b29c78c3750e0383...', 'signature': '267f5831d251e31a...'}], 'nonce': 0}\n",
      "{'type': 'Block', 'issuer': '...7f0491fe788fdcfb...', 'timestamp': 1741205975218, 'hash': '99dd5fe8bb6ee615...', 'signature': '83607180ebdcd1d5...', 'index': 11, 'parent': 'a3e0a705ca27a45a...', 'certificates': [{'type': 'Certificate', 'issuer': '...c1b64d20ace1dbf0...', 'timestamp': 1741205975133, 'hash': '1d410a59b3450870...', 'signature': '44ea2769f139bc9f...'}, {'type': 'Certificate', 'issuer': '...c1b64d20ace1dbf0...', 'timestamp': 1741205974948, 'hash': 'bd4fa48da386cba8...', 'signature': '04701f0e604bac40...'}, {'type': 'Certificate', 'issuer': '...c1b64d20ace1dbf0...', 'timestamp': 1741205975180, 'hash': 'e26703135842442e...', 'signature': 'c9de7fe8a44cfb6a...'}, {'type': 'Certificate', 'issuer': '...c1b64d20ace1dbf0...', 'timestamp': 1741205975041, 'hash': 'dcf588b4d136925f...', 'signature': 'b7d110f0e2854730...'}, {'type': 'Certificate', 'issuer': '...c1b64d20ace1dbf0...', 'timestamp': 1741205974993, 'hash': 'e25f9036513fdd35...', 'signature': 'a912df3957b8b2cd...'}], 'nonce': 0}\n",
      "{'type': 'Block', 'issuer': '...7f0491fe788fdcfb...', 'timestamp': 1741205975599, 'hash': '3563c49163f7290e...', 'signature': '45f723df428dfec0...', 'index': 12, 'parent': '99dd5fe8bb6ee615...', 'certificates': [{'type': 'Certificate', 'issuer': '...c1b64d20ace1dbf0...', 'timestamp': 1741205975462, 'hash': '340475acc6b92db6...', 'signature': 'b3aa3d4a14209f93...'}, {'type': 'Certificate', 'issuer': '...c1b64d20ace1dbf0...', 'timestamp': 1741205975376, 'hash': '147c83702a1840ba...', 'signature': '8c1f3268edee699c...'}, {'type': 'Certificate', 'issuer': '...c1b64d20ace1dbf0...', 'timestamp': 1741205975514, 'hash': '1216cff24c72109e...', 'signature': '67dc66cf59417426...'}, {'type': 'Certificate', 'issuer': '...c1b64d20ace1dbf0...', 'timestamp': 1741205975560, 'hash': 'e5f4c0525d9693be...', 'signature': '066588cd87a15a60...'}, {'type': 'Certificate', 'issuer': '...c1b64d20ace1dbf0...', 'timestamp': 1741205975327, 'hash': '17079740171b8bcb...', 'signature': 'a54e98e059522d78...'}], 'nonce': 0}\n",
      "{'type': 'Block', 'issuer': '...7f0491fe788fdcfb...', 'timestamp': 1741205976043, 'hash': '580213054b9e26ac...', 'signature': '5eb9411491746229...', 'index': 13, 'parent': '3563c49163f7290e...', 'certificates': [{'type': 'Certificate', 'issuer': '...c1b64d20ace1dbf0...', 'timestamp': 1741205975957, 'hash': '1ceea38e13fbed88...', 'signature': '0f4bacff45c06088...'}, {'type': 'SmartContractWritingOperation', 'issuer': '...c1b64d20ace1dbf0...', 'timestamp': 1741205975856, 'hash': 'b8ed98bd2397e7ae...', 'signature': '54163893600a8df7...'}, {'type': 'Certificate', 'issuer': '...c1b64d20ace1dbf0...', 'timestamp': 1741205975722, 'hash': 'c2884d425dc043ed...', 'signature': '2ea5e921c936fbdf...'}, {'type': 'Certificate', 'issuer': '...c1b64d20ace1dbf0...', 'timestamp': 1741205975910, 'hash': '8afa0fbf0af21020...', 'signature': '23940864f8edddf2...'}, {'type': 'Certificate', 'issuer': '...c1b64d20ace1dbf0...', 'timestamp': 1741205976004, 'hash': '7bbb342928a5a2a9...', 'signature': '5514b6d7cb515b63...'}], 'nonce': 0}\n"
     ]
    },
    {
     "ename": "AttributeError",
     "evalue": "'NoneType' object has no attribute 'messages'",
     "output_type": "error",
     "traceback": [
      "\u001b[31m---------------------------------------------------------------------------\u001b[39m",
      "\u001b[31mAttributeError\u001b[39m                            Traceback (most recent call last)",
      "\u001b[36mCell\u001b[39m\u001b[36m \u001b[39m\u001b[32mIn[39]\u001b[39m\u001b[32m, line 7\u001b[39m\n\u001b[32m      1\u001b[39m smartContractObject = SmartContractDefinition.get_smart_contract_at_current_state(\n\u001b[32m      2\u001b[39m     node1.blockchain,\n\u001b[32m      3\u001b[39m     dummySmartContractDefinition.hash()\n\u001b[32m      4\u001b[39m )\n\u001b[32m----> \u001b[39m\u001b[32m7\u001b[39m \u001b[38;5;28;01massert\u001b[39;00m \u001b[43msmartContractObject\u001b[49m\u001b[43m.\u001b[49m\u001b[43mmessages\u001b[49m[\u001b[32m0\u001b[39m][\u001b[32m11\u001b[39m:] == \u001b[33m\"\u001b[39m\u001b[33mBonjour!\u001b[39m\u001b[33m\"\u001b[39m\n\u001b[32m      9\u001b[39m \u001b[33m\"\u001b[39m\u001b[33mSuccess!\u001b[39m\u001b[33m\"\u001b[39m\n",
      "\u001b[31mAttributeError\u001b[39m: 'NoneType' object has no attribute 'messages'"
     ]
    }
   ],
   "source": [
    "\n",
    "\n",
    "smartContractObject = SmartContractDefinition.get_smart_contract_at_current_state(\n",
    "    node1.blockchain,\n",
    "    dummySmartContractDefinition.hash()\n",
    ")\n",
    "\n",
    "\n",
    "assert smartContractObject.messages[0][11:] == \"Bonjour!\"\n",
    "\n",
    "\"Success!\""
   ]
  },
  {
   "cell_type": "code",
   "execution_count": null,
   "metadata": {},
   "outputs": [],
   "source": [
    "from certificate import Certificate\n",
    "\n",
    "\n",
    "\n",
    "for i in range(4):\n",
    "    certificate = Certificate(walletAlice.publicKey)\n",
    "    walletAlice.sign(certificate)\n",
    "    node1.new_certificate(certificate)\n",
    "    "
   ]
  },
  {
   "cell_type": "code",
   "execution_count": null,
   "metadata": {},
   "outputs": [
    {
     "name": "stdout",
     "output_type": "stream",
     "text": [
      "Minting\n",
      "Minted !\n",
      "Minting\n",
      "Minted !\n",
      "Minting\n",
      "Minted !\n",
      "Minting\n",
      "Minted !\n",
      "Minting\n",
      "Minted !\n",
      "Minting\n",
      "Minted !\n",
      "Minting\n",
      "Minted !\n",
      "Minting\n",
      "Minted !\n",
      "Minting\n",
      "Minted !\n",
      "Minting\n",
      "Minted !\n",
      "Limit of tokens reached\n",
      "Limit of tokens reached\n"
     ]
    }
   ],
   "source": [
    "CollectionA.mint_token(CollectionA.CollectionOwner, get_pokemon_info(\"pikachu\")[0], get_pokemon_info(\"pikachu\")[1])\n",
    "CollectionA.mint_token(CollectionA.CollectionOwner, get_pokemon_info(\"bulbasaur\")[0], get_pokemon_info(\"bulbasaur\")[1])\n",
    "CollectionA.mint_token(CollectionA.CollectionOwner, get_pokemon_info(\"charmander\")[0], get_pokemon_info(\"charmander\")[1])\n",
    "CollectionA.mint_token(CollectionA.CollectionOwner, get_pokemon_info(\"squirtle\")[0], get_pokemon_info(\"squirtle\")[1])\n",
    "CollectionA.mint_token(CollectionA.CollectionOwner, get_pokemon_info(\"caterpie\")[0], get_pokemon_info(\"caterpie\")[1])\n",
    "CollectionA.mint_token(CollectionA.CollectionOwner, get_pokemon_info(\"pidgey\")[0], get_pokemon_info(\"pidgey\")[1])\n",
    "CollectionA.mint_token(CollectionA.CollectionOwner, get_pokemon_info(\"rattata\")[0], get_pokemon_info(\"rattata\")[1])\n",
    "CollectionA.mint_token(CollectionA.CollectionOwner, get_pokemon_info(\"spearow\")[0], get_pokemon_info(\"spearow\")[1])\n",
    "CollectionA.mint_token(CollectionA.CollectionOwner, get_pokemon_info(\"ekans\")[0], get_pokemon_info(\"ekans\")[1])\n",
    "CollectionA.mint_token(CollectionA.CollectionOwner, get_pokemon_info(\"sandshrew\")[0], get_pokemon_info(\"sandshrew\")[1])\n",
    "CollectionA.mint_token(CollectionA.CollectionOwner, get_pokemon_info(\"clefairy\")[0], get_pokemon_info(\"clefairy\")[1])\n",
    "CollectionA.mint_token(CollectionA.CollectionOwner, get_pokemon_info(\"vulpix\")[0], get_pokemon_info(\"vulpix\")[1])\n"
   ]
  },
  {
   "cell_type": "code",
   "execution_count": null,
   "metadata": {},
   "outputs": [
    {
     "data": {
      "text/plain": [
       "{'Token No0': {'image_link': 'https://raw.githubusercontent.com/PokeAPI/sprites/master/sprites/pokemon/25.png',\n",
       "  'description': 'electric',\n",
       "  'can_be_exchanged': False,\n",
       "  'identifier': '59118dc5174852c28d73cfaaf7b5f3ebc957ca35d06854d5212cf01a06d91fd9',\n",
       "  'owner': 'George'},\n",
       " 'Token No1': {'image_link': 'https://raw.githubusercontent.com/PokeAPI/sprites/master/sprites/pokemon/1.png',\n",
       "  'description': 'grass',\n",
       "  'can_be_exchanged': True,\n",
       "  'identifier': 'd8fed864393e81a96f7c6587db5933f6f745715b9037550e21475ce1f32b5887',\n",
       "  'owner': 'George'},\n",
       " 'Token No2': {'image_link': 'https://raw.githubusercontent.com/PokeAPI/sprites/master/sprites/pokemon/4.png',\n",
       "  'description': 'fire',\n",
       "  'can_be_exchanged': False,\n",
       "  'identifier': 'e5e4e3f2623e4a45bd7f9b0da0630320672ad13e8efad08ea70c732a3092f63c',\n",
       "  'owner': 'George'},\n",
       " 'Token No3': {'image_link': 'https://raw.githubusercontent.com/PokeAPI/sprites/master/sprites/pokemon/7.png',\n",
       "  'description': 'water',\n",
       "  'can_be_exchanged': True,\n",
       "  'identifier': '289819341682e319d27e8e5f0c57e4f2ab315617b4c5ea97012df6a6ddb4e1b9',\n",
       "  'owner': 'George'},\n",
       " 'Token No4': {'image_link': 'https://raw.githubusercontent.com/PokeAPI/sprites/master/sprites/pokemon/10.png',\n",
       "  'description': 'bug',\n",
       "  'can_be_exchanged': False,\n",
       "  'identifier': '7cc56b3ea3ef370c4234a18fa664ee7e4a46d5686b8ea55ae0640cb7f646997c',\n",
       "  'owner': 'George'},\n",
       " 'Token No5': {'image_link': 'https://raw.githubusercontent.com/PokeAPI/sprites/master/sprites/pokemon/16.png',\n",
       "  'description': 'normal',\n",
       "  'can_be_exchanged': False,\n",
       "  'identifier': '7400e2199a6c21590c582e2afdc36a73caabc7c9aeabfcfaac254bafeb73dacf',\n",
       "  'owner': 'George'},\n",
       " 'Token No6': {'image_link': 'https://raw.githubusercontent.com/PokeAPI/sprites/master/sprites/pokemon/19.png',\n",
       "  'description': 'normal',\n",
       "  'can_be_exchanged': True,\n",
       "  'identifier': '696afe6b95a6978ccc0c699cff0a7fe07e85743b501ac3ed04f059dc14be2d41',\n",
       "  'owner': 'George'},\n",
       " 'Token No7': {'image_link': 'https://raw.githubusercontent.com/PokeAPI/sprites/master/sprites/pokemon/21.png',\n",
       "  'description': 'normal',\n",
       "  'can_be_exchanged': False,\n",
       "  'identifier': '2f6f3d16046c71f666089199e46feee401d2682ae96f21dd45cadfd5aaf834f4',\n",
       "  'owner': 'George'},\n",
       " 'Token No8': {'image_link': 'https://raw.githubusercontent.com/PokeAPI/sprites/master/sprites/pokemon/23.png',\n",
       "  'description': 'poison',\n",
       "  'can_be_exchanged': True,\n",
       "  'identifier': 'abfb70f12ac40d6c400e672a8a9e4e5bd5990a67d08f6c7e1197f16393769f71',\n",
       "  'owner': 'George'},\n",
       " 'Token No9': {'image_link': 'https://raw.githubusercontent.com/PokeAPI/sprites/master/sprites/pokemon/27.png',\n",
       "  'description': 'ground',\n",
       "  'can_be_exchanged': False,\n",
       "  'identifier': '594f20460e7a1c2817d15e229bc25cccf61f59b5583600b5c3ec3ecfc0a75b0e',\n",
       "  'owner': 'George'}}"
      ]
     },
     "execution_count": 13,
     "metadata": {},
     "output_type": "execute_result"
    }
   ],
   "source": [
    "CollectionA.display()"
   ]
  },
  {
   "cell_type": "code",
   "execution_count": null,
   "metadata": {},
   "outputs": [],
   "source": [
    "CollectionA.change_ownership(\"Mike\",\"289819341682e319d27e8e5f0c57e4f2ab315617b4c5ea97012df6a6ddb4e1b9\")"
   ]
  },
  {
   "cell_type": "code",
   "execution_count": null,
   "metadata": {},
   "outputs": [
    {
     "data": {
      "text/plain": [
       "{'image_link': 'https://raw.githubusercontent.com/PokeAPI/sprites/master/sprites/pokemon/7.png',\n",
       " 'description': 'water',\n",
       " 'can_be_exchanged': True,\n",
       " 'identifier': '289819341682e319d27e8e5f0c57e4f2ab315617b4c5ea97012df6a6ddb4e1b9',\n",
       " 'owner': 'Mike'}"
      ]
     },
     "execution_count": 15,
     "metadata": {},
     "output_type": "execute_result"
    }
   ],
   "source": [
    "CollectionA.display()['Token No3']"
   ]
  },
  {
   "cell_type": "code",
   "execution_count": null,
   "metadata": {},
   "outputs": [
    {
     "data": {
      "text/html": [
       "<img src=\"https://raw.githubusercontent.com/PokeAPI/sprites/master/sprites/pokemon/10.png\"/>"
      ],
      "text/plain": [
       "<IPython.core.display.Image object>"
      ]
     },
     "execution_count": 16,
     "metadata": {},
     "output_type": "execute_result"
    }
   ],
   "source": [
    "Image(url=CollectionA.display()['Token No4']['image_link'])"
   ]
  },
  {
   "cell_type": "code",
   "execution_count": null,
   "metadata": {},
   "outputs": [
    {
     "name": "stdout",
     "output_type": "stream",
     "text": [
      "Minting is open\n"
     ]
    }
   ],
   "source": [
    "CollectionA.open_minting(5)"
   ]
  },
  {
   "cell_type": "code",
   "execution_count": null,
   "metadata": {},
   "outputs": [
    {
     "name": "stdout",
     "output_type": "stream",
     "text": [
      "Minting is closed lol\n",
      "Minting is closed lol\n",
      "Minting is closed lol\n",
      "Minting is closed lol\n",
      "Minting is closed lol\n",
      "Minting is closed lol\n",
      "Minting is closed lol\n",
      "Minting is closed lol\n",
      "Minting is closed lol\n",
      "Minting is closed lol\n",
      "Minting is closed lol\n",
      "Minting is closed lol\n"
     ]
    }
   ],
   "source": [
    "CollectionA.mint_token(CollectionA.CollectionOwner, get_pokemon_info(\"pikachu\")[0], get_pokemon_info(\"pikachu\")[1])\n",
    "CollectionA.mint_token(CollectionA.CollectionOwner, get_pokemon_info(\"bulbasaur\")[0], get_pokemon_info(\"bulbasaur\")[1])\n",
    "CollectionA.mint_token(CollectionA.CollectionOwner, get_pokemon_info(\"charmander\")[0], get_pokemon_info(\"charmander\")[1])\n",
    "CollectionA.mint_token(CollectionA.CollectionOwner, get_pokemon_info(\"squirtle\")[0], get_pokemon_info(\"squirtle\")[1])\n",
    "CollectionA.mint_token(CollectionA.CollectionOwner, get_pokemon_info(\"caterpie\")[0], get_pokemon_info(\"caterpie\")[1])\n",
    "CollectionA.mint_token(CollectionA.CollectionOwner, get_pokemon_info(\"pidgey\")[0], get_pokemon_info(\"pidgey\")[1])\n",
    "CollectionA.mint_token(CollectionA.CollectionOwner, get_pokemon_info(\"rattata\")[0], get_pokemon_info(\"rattata\")[1])\n",
    "CollectionA.mint_token(CollectionA.CollectionOwner, get_pokemon_info(\"spearow\")[0], get_pokemon_info(\"spearow\")[1])\n",
    "CollectionA.mint_token(CollectionA.CollectionOwner, get_pokemon_info(\"ekans\")[0], get_pokemon_info(\"ekans\")[1])\n",
    "CollectionA.mint_token(CollectionA.CollectionOwner, get_pokemon_info(\"sandshrew\")[0], get_pokemon_info(\"sandshrew\")[1])\n",
    "CollectionA.mint_token(CollectionA.CollectionOwner, get_pokemon_info(\"clefairy\")[0], get_pokemon_info(\"clefairy\")[1])\n",
    "CollectionA.mint_token(CollectionA.CollectionOwner, get_pokemon_info(\"vulpix\")[0], get_pokemon_info(\"vulpix\")[1])\n",
    "\n"
   ]
  },
  {
   "cell_type": "code",
   "execution_count": null,
   "metadata": {},
   "outputs": [
    {
     "name": "stdout",
     "output_type": "stream",
     "text": [
      "Minting is open\n",
      "Minting\n",
      "[{'identifier': 0, 'image_link': 'https://raw.githubusercontent.com/PokeAPI/sprites/master/sprites/pokemon/25.png', 'description': 'electric', 'owner': 'George'}]\n",
      "Minted !\n",
      "Minting\n",
      "[{'identifier': 0, 'image_link': 'https://raw.githubusercontent.com/PokeAPI/sprites/master/sprites/pokemon/25.png', 'description': 'electric', 'owner': 'George'}, {'identifier': 1, 'image_link': 'https://raw.githubusercontent.com/PokeAPI/sprites/master/sprites/pokemon/1.png', 'description': 'grass', 'owner': 'George'}]\n",
      "Minted !\n",
      "Minting\n",
      "[{'identifier': 0, 'image_link': 'https://raw.githubusercontent.com/PokeAPI/sprites/master/sprites/pokemon/25.png', 'description': 'electric', 'owner': 'George'}, {'identifier': 1, 'image_link': 'https://raw.githubusercontent.com/PokeAPI/sprites/master/sprites/pokemon/1.png', 'description': 'grass', 'owner': 'George'}, {'identifier': 2, 'image_link': 'https://raw.githubusercontent.com/PokeAPI/sprites/master/sprites/pokemon/4.png', 'description': 'fire', 'owner': 'George'}]\n",
      "Minted !\n",
      "Minting\n",
      "[{'identifier': 0, 'image_link': 'https://raw.githubusercontent.com/PokeAPI/sprites/master/sprites/pokemon/25.png', 'description': 'electric', 'owner': 'George'}, {'identifier': 1, 'image_link': 'https://raw.githubusercontent.com/PokeAPI/sprites/master/sprites/pokemon/1.png', 'description': 'grass', 'owner': 'George'}, {'identifier': 2, 'image_link': 'https://raw.githubusercontent.com/PokeAPI/sprites/master/sprites/pokemon/4.png', 'description': 'fire', 'owner': 'George'}, {'identifier': 3, 'image_link': 'https://raw.githubusercontent.com/PokeAPI/sprites/master/sprites/pokemon/7.png', 'description': 'water', 'owner': 'George'}]\n",
      "Minted !\n",
      "Minting\n",
      "[{'identifier': 0, 'image_link': 'https://raw.githubusercontent.com/PokeAPI/sprites/master/sprites/pokemon/25.png', 'description': 'electric', 'owner': 'George'}, {'identifier': 1, 'image_link': 'https://raw.githubusercontent.com/PokeAPI/sprites/master/sprites/pokemon/1.png', 'description': 'grass', 'owner': 'George'}, {'identifier': 2, 'image_link': 'https://raw.githubusercontent.com/PokeAPI/sprites/master/sprites/pokemon/4.png', 'description': 'fire', 'owner': 'George'}, {'identifier': 3, 'image_link': 'https://raw.githubusercontent.com/PokeAPI/sprites/master/sprites/pokemon/7.png', 'description': 'water', 'owner': 'George'}, {'identifier': 4, 'image_link': 'https://raw.githubusercontent.com/PokeAPI/sprites/master/sprites/pokemon/10.png', 'description': 'bug', 'owner': 'George'}]\n",
      "Minted !\n",
      "Minting\n",
      "[{'identifier': 0, 'image_link': 'https://raw.githubusercontent.com/PokeAPI/sprites/master/sprites/pokemon/25.png', 'description': 'electric', 'owner': 'George'}, {'identifier': 1, 'image_link': 'https://raw.githubusercontent.com/PokeAPI/sprites/master/sprites/pokemon/1.png', 'description': 'grass', 'owner': 'George'}, {'identifier': 2, 'image_link': 'https://raw.githubusercontent.com/PokeAPI/sprites/master/sprites/pokemon/4.png', 'description': 'fire', 'owner': 'George'}, {'identifier': 3, 'image_link': 'https://raw.githubusercontent.com/PokeAPI/sprites/master/sprites/pokemon/7.png', 'description': 'water', 'owner': 'George'}, {'identifier': 4, 'image_link': 'https://raw.githubusercontent.com/PokeAPI/sprites/master/sprites/pokemon/10.png', 'description': 'bug', 'owner': 'George'}, {'identifier': 5, 'image_link': 'https://raw.githubusercontent.com/PokeAPI/sprites/master/sprites/pokemon/16.png', 'description': 'normal', 'owner': 'George'}]\n",
      "Minted !\n",
      "Minting\n",
      "[{'identifier': 0, 'image_link': 'https://raw.githubusercontent.com/PokeAPI/sprites/master/sprites/pokemon/25.png', 'description': 'electric', 'owner': 'George'}, {'identifier': 1, 'image_link': 'https://raw.githubusercontent.com/PokeAPI/sprites/master/sprites/pokemon/1.png', 'description': 'grass', 'owner': 'George'}, {'identifier': 2, 'image_link': 'https://raw.githubusercontent.com/PokeAPI/sprites/master/sprites/pokemon/4.png', 'description': 'fire', 'owner': 'George'}, {'identifier': 3, 'image_link': 'https://raw.githubusercontent.com/PokeAPI/sprites/master/sprites/pokemon/7.png', 'description': 'water', 'owner': 'George'}, {'identifier': 4, 'image_link': 'https://raw.githubusercontent.com/PokeAPI/sprites/master/sprites/pokemon/10.png', 'description': 'bug', 'owner': 'George'}, {'identifier': 5, 'image_link': 'https://raw.githubusercontent.com/PokeAPI/sprites/master/sprites/pokemon/16.png', 'description': 'normal', 'owner': 'George'}, {'identifier': 6, 'image_link': 'https://raw.githubusercontent.com/PokeAPI/sprites/master/sprites/pokemon/19.png', 'description': 'normal', 'owner': 'George'}]\n",
      "Minted !\n",
      "Minting is closed\n",
      "Minting is closed\n",
      "Minting is closed\n",
      "Minting is closed\n",
      "Minting is closed\n"
     ]
    }
   ],
   "source": [
    "CollectionA = Collection(\"George\", 10)\n",
    "CollectionA.open_minting(1)\n",
    "CollectionA.mint_token(CollectionA.CollectionOwner, get_pokemon_info(\"pikachu\")[0], get_pokemon_info(\"pikachu\")[1])\n",
    "CollectionA.mint_token(CollectionA.CollectionOwner, get_pokemon_info(\"bulbasaur\")[0], get_pokemon_info(\"bulbasaur\")[1])\n",
    "CollectionA.mint_token(CollectionA.CollectionOwner, get_pokemon_info(\"charmander\")[0], get_pokemon_info(\"charmander\")[1])\n",
    "CollectionA.mint_token(CollectionA.CollectionOwner, get_pokemon_info(\"squirtle\")[0], get_pokemon_info(\"squirtle\")[1])\n",
    "CollectionA.mint_token(CollectionA.CollectionOwner, get_pokemon_info(\"caterpie\")[0], get_pokemon_info(\"caterpie\")[1])\n",
    "CollectionA.mint_token(CollectionA.CollectionOwner, get_pokemon_info(\"pidgey\")[0], get_pokemon_info(\"pidgey\")[1])\n",
    "CollectionA.mint_token(CollectionA.CollectionOwner, get_pokemon_info(\"rattata\")[0], get_pokemon_info(\"rattata\")[1])\n",
    "CollectionA.mint_token(CollectionA.CollectionOwner, get_pokemon_info(\"spearow\")[0], get_pokemon_info(\"spearow\")[1])\n",
    "CollectionA.mint_token(CollectionA.CollectionOwner, get_pokemon_info(\"ekans\")[0], get_pokemon_info(\"ekans\")[1])\n",
    "CollectionA.mint_token(CollectionA.CollectionOwner, get_pokemon_info(\"sandshrew\")[0], get_pokemon_info(\"sandshrew\")[1])\n",
    "CollectionA.mint_token(CollectionA.CollectionOwner, get_pokemon_info(\"clefairy\")[0], get_pokemon_info(\"clefairy\")[1])\n",
    "CollectionA.mint_token(CollectionA.CollectionOwner, get_pokemon_info(\"vulpix\")[0], get_pokemon_info(\"vulpix\")[1])\n"
   ]
  },
  {
   "cell_type": "code",
   "execution_count": null,
   "metadata": {},
   "outputs": [],
   "source": []
  }
 ],
 "metadata": {
  "kernelspec": {
   "display_name": "environment_anaconda_pj",
   "language": "python",
   "name": "python3"
  },
  "language_info": {
   "codemirror_mode": {
    "name": "ipython",
    "version": 3
   },
   "file_extension": ".py",
   "mimetype": "text/x-python",
   "name": "python",
   "nbconvert_exporter": "python",
   "pygments_lexer": "ipython3",
   "version": "3.12.4"
  }
 },
 "nbformat": 4,
 "nbformat_minor": 4
}
