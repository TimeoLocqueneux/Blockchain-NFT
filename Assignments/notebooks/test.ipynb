{
 "cells": [
  {
   "cell_type": "code",
   "execution_count": 53,
   "metadata": {},
   "outputs": [
    {
     "name": "stdout",
     "output_type": "stream",
     "text": [
      "The autoreload extension is already loaded. To reload it, use:\n",
      "  %reload_ext autoreload\n"
     ]
    }
   ],
   "source": [
    "%load_ext autoreload\n",
    "%autoreload 2\n",
    "\n",
    "from sys import path\n",
    "\n",
    "path.append('../scripts')\n"
   ]
  },
  {
   "cell_type": "code",
   "execution_count": 54,
   "metadata": {},
   "outputs": [],
   "source": [
    "import requests\n",
    "from IPython.display import Image\n",
    "\n",
    "\n",
    "\n"
   ]
  },
  {
   "cell_type": "code",
   "execution_count": 55,
   "metadata": {},
   "outputs": [],
   "source": [
    "def get_pokemon_info(name):\n",
    "\n",
    "    base_url = \"https://pokeapi.co/api/v2/\"\n",
    "\n",
    "    url = f\"{base_url}/pokemon/{name}\"\n",
    "    response = requests.get(url)\n",
    "\n",
    "    if response.status_code == 200:\n",
    "\n",
    "        pokemon_info =  response.json()\n",
    "        url1 = pokemon_info[\"sprites\"]['front_default']\n",
    "        url2 = pokemon_info['types'][0]['type']['name']\n",
    "        \n",
    "        return [url1, url2]\n",
    "\n",
    "    else:\n",
    "        print(f\"Failed to retrieve data. Error {response.status_code}\")\n"
   ]
  },
  {
   "cell_type": "code",
   "execution_count": null,
   "metadata": {},
   "outputs": [
    {
     "data": {
      "text/plain": [
       "True"
      ]
     },
     "execution_count": 11,
     "metadata": {},
     "output_type": "execute_result"
    }
   ],
   "source": [
    "# from certificate import Certificate\n",
    "# from wallet import Wallet\n",
    "\n",
    "# Alice = Wallet()\n",
    "# cert = Certificate(Alice.publicKey)\n",
    "# Alice.sign(cert)\n",
    "# cert.is_legit()\n"
   ]
  },
  {
   "cell_type": "markdown",
   "metadata": {},
   "source": [
    "# INITIALISATION"
   ]
  },
  {
   "cell_type": "code",
   "execution_count": 56,
   "metadata": {},
   "outputs": [],
   "source": [
    "from node import BlockchainNode\n",
    "from network import Node\n",
    "from wallet import Wallet\n",
    "from proof_of_stake import ProofOfStake\n",
    "\n",
    "walletNode1 = Wallet()\n",
    "walletNode2 = Wallet()\n",
    "walletNode3 = Wallet()\n",
    "\n",
    "walletAlice = Wallet()\n",
    "walletSacha = Wallet()\n",
    "walletTiméo = Wallet()\n",
    "\n",
    "pos = ProofOfStake(walletNode1.publicKey)\n",
    "\n",
    "def reset_blockchain():\n",
    "    Node.reset_network()\n",
    "    global node1, node2, node3\n",
    "    node1 = BlockchainNode(walletNode1, pos)\n",
    "    node2 = BlockchainNode(walletNode2, pos)\n",
    "    node3 = BlockchainNode(walletNode3, pos)\n",
    "\n",
    "\n"
   ]
  },
  {
   "cell_type": "markdown",
   "metadata": {},
   "source": [
    "# Smart contract importation"
   ]
  },
  {
   "cell_type": "code",
   "execution_count": 57,
   "metadata": {},
   "outputs": [
    {
     "name": "stdout",
     "output_type": "stream",
     "text": [
      "{'self': <smart_contract.SmartContractDefinition object at 0x00000128FE8384A0>, 'size': 8, 'Collection': <class 'smart_contract.Collection'>}\n"
     ]
    }
   ],
   "source": [
    "from smart_contract import SmartContractDefinition, SmartContractWritingOperation\n",
    "from CollectionNFT import Collection\n",
    "from certificate import Certificate\n",
    "import inspect\n",
    "\n",
    "\n",
    "reset_blockchain()\n",
    "collection = inspect.getsource(Collection)\n",
    "dummySmartContractDefinition = SmartContractDefinition(walletSacha.publicKey, collection)\n",
    "walletAlice.sign(dummySmartContractDefinition)\n",
    "\n",
    "collection_nft = dummySmartContractDefinition.instantiate_collection(8)\n",
    "\n",
    "\n",
    "\n",
    "\n",
    "    \n",
    "# change_ownership_SmartContractWritingOperation = SmartContractWritingOperation(\n",
    "#     walletAlice.publicKey,\n",
    "#     collection.hash(),\n",
    "#     'change_ownership',\n",
    "#     ['receiver publicKey']\n",
    "# )\n",
    "\n",
    "\n",
    "# open_mint_SmartContractWritingOperation = SmartContractWritingOperation(\n",
    "#     walletAlice.publicKey,\n",
    "#     collection.hash(),\n",
    "#     'open_minting',\n",
    "#     ['time in seconds']\n",
    "# )\n",
    "\n",
    "\n",
    "\n",
    "\n"
   ]
  },
  {
   "cell_type": "markdown",
   "metadata": {},
   "source": [
    "Users can “mint” tokens under certain conditions :  \n",
    "- Once the limit of N has been reached, there is no minting allowed anymore. \n",
    "- There should be a “mint” period. The owner of the collection can open the collection"
   ]
  },
  {
   "cell_type": "code",
   "execution_count": 58,
   "metadata": {},
   "outputs": [
    {
     "name": "stdout",
     "output_type": "stream",
     "text": [
      "[10000]\n",
      "Minting is open\n",
      "[]\n",
      "Minting\n",
      "Minted !\n",
      "ownership changed\n"
     ]
    }
   ],
   "source": [
    "open_minting_SmartContractWritingOperation = SmartContractWritingOperation(\n",
    "    walletAlice.publicKey,\n",
    "    dummySmartContractDefinition.hash(),\n",
    "    'open_minting',\n",
    "    [10000]\n",
    ")\n",
    "walletAlice.sign(open_minting_SmartContractWritingOperation)\n",
    "open_minting_SmartContractWritingOperation.apply_on_contract(collection_nft)\n",
    "node1.new_certificate(open_minting_SmartContractWritingOperation)\n",
    "\n",
    "\n",
    "for i in range(4):\n",
    "    certificate = Certificate(walletAlice.publicKey)\n",
    "    walletAlice.sign(certificate)\n",
    "    node1.new_certificate(certificate)\n",
    "\n",
    "\n",
    "\n",
    "    \n",
    "\n",
    "mint_token_SmartContractWritingOperation = SmartContractWritingOperation(\n",
    "    walletAlice.publicKey,\n",
    "    dummySmartContractDefinition.hash(),\n",
    "    'mint_token',\n",
    "    []\n",
    ")\n",
    "walletAlice.sign(mint_token_SmartContractWritingOperation)\n",
    "mint_token_SmartContractWritingOperation.apply_on_contract(collection_nft)\n",
    "node1.new_certificate(mint_token_SmartContractWritingOperation)\n",
    "\n",
    "\n",
    "for i in range(4):\n",
    "    certificate = Certificate(walletAlice.publicKey)\n",
    "    walletAlice.sign(certificate)\n",
    "    node1.new_certificate(certificate)"
   ]
  },
  {
   "cell_type": "code",
   "execution_count": 59,
   "metadata": {},
   "outputs": [
    {
     "name": "stdout",
     "output_type": "stream",
     "text": [
      "[]\n",
      "Minting is closed, sorry\n"
     ]
    }
   ],
   "source": [
    "mint_token_SmartContractWritingOperation = SmartContractWritingOperation(\n",
    "    walletAlice.publicKey,\n",
    "    dummySmartContractDefinition.hash(),\n",
    "    'mint_token',\n",
    "    []\n",
    ")\n",
    "walletAlice.sign(mint_token_SmartContractWritingOperation)\n",
    "mint_token_SmartContractWritingOperation.apply_on_contract(collection_nft)\n",
    "node1.new_certificate(mint_token_SmartContractWritingOperation)\n",
    "\n",
    "\n",
    "for i in range(4):\n",
    "    certificate = Certificate(walletAlice.publicKey)\n",
    "    walletAlice.sign(certificate)\n",
    "    node1.new_certificate(certificate)"
   ]
  },
  {
   "cell_type": "code",
   "execution_count": 60,
   "metadata": {},
   "outputs": [
    {
     "name": "stdout",
     "output_type": "stream",
     "text": [
      "[10000]\n",
      "Minting is open\n",
      "[]\n",
      "Minting\n",
      "Minted !\n",
      "ownership changed\n",
      "[]\n",
      "Minting\n",
      "Minted !\n",
      "ownership changed\n",
      "[]\n",
      "Minting\n",
      "Minted !\n",
      "ownership changed\n",
      "[]\n",
      "Minting\n",
      "Minted !\n",
      "ownership changed\n",
      "[]\n",
      "Minting\n",
      "Minted !\n",
      "ownership changed\n",
      "[]\n",
      "Minting\n",
      "Minted !\n",
      "ownership changed\n",
      "[]\n",
      "Minting\n",
      "Minted !\n",
      "ownership changed\n",
      "[]\n",
      "Limit of tokens reached\n",
      "ownership changed\n",
      "[]\n",
      "Limit of tokens reached\n",
      "ownership changed\n",
      "[]\n",
      "Limit of tokens reached\n",
      "ownership changed\n"
     ]
    }
   ],
   "source": [
    "open_minting_SmartContractWritingOperation = SmartContractWritingOperation(\n",
    "    walletAlice.publicKey,\n",
    "    dummySmartContractDefinition.hash(),\n",
    "    'open_minting',\n",
    "    [10000]\n",
    ")\n",
    "walletAlice.sign(open_minting_SmartContractWritingOperation)\n",
    "open_minting_SmartContractWritingOperation.apply_on_contract(collection_nft)\n",
    "node1.new_certificate(open_minting_SmartContractWritingOperation)\n",
    "\n",
    "\n",
    "for i in range(4):\n",
    "    certificate = Certificate(walletAlice.publicKey)\n",
    "    walletAlice.sign(certificate)\n",
    "    node1.new_certificate(certificate)\n",
    "\n",
    "\n",
    "\n",
    "    \n",
    "\n",
    "mint_token_SmartContractWritingOperation = SmartContractWritingOperation(\n",
    "    walletAlice.publicKey,\n",
    "    dummySmartContractDefinition.hash(),\n",
    "    'mint_token',\n",
    "    []\n",
    ")\n",
    "\n",
    "for i in range (10):\n",
    "    walletAlice.sign(mint_token_SmartContractWritingOperation)\n",
    "    mint_token_SmartContractWritingOperation.apply_on_contract(collection_nft)\n",
    "    node1.new_certificate(mint_token_SmartContractWritingOperation)\n",
    "\n",
    "\n",
    "    for i in range(4):\n",
    "        certificate = Certificate(walletAlice.publicKey)\n",
    "        walletAlice.sign(certificate)\n",
    "        node1.new_certificate(certificate)\n"
   ]
  },
  {
   "cell_type": "code",
   "execution_count": 101,
   "metadata": {},
   "outputs": [
    {
     "name": "stdout",
     "output_type": "stream",
     "text": [
      "['hash token', '30820122300d06092a864886f70d01010105000382010f003082010a0282010100cdb96ad1302fe54432f58de1395e4231d54b0364be455faf95cc8afb59a06a4055008e4331fcd65f8c1b429a039db134fa1896bb5e405b5fb39acaba35be4fbf35597c9e1e187aac6e190a76616c0367eb2479a73137db56aad52315f2234ae8118a23fdce21917c9b3da8bed88b23b2b1d95fd36609d305bb0b549224fb523337c375b43e93aece6e01bc4faf0bee6abed4da4603405a2e57c7170b4a3d69d5a5d915e3f033e7c7957aa8e8beeafdbb402b0279f1fb1c8c08935a44f8aa5b179822cc36c07e6fb775adc58bf00c822927618def7e5d3837f7e2aaba4492c0a5b114443a1b47ba4b5f8a37d0b684e3cafdc9f29076446956b7cc2ac60bf8527d0203010001']\n",
      "ownership changed\n"
     ]
    }
   ],
   "source": [
    "change_ownership_SmartContractWritingOperation = SmartContractWritingOperation(\n",
    "    walletAlice.publicKey,\n",
    "    dummySmartContractDefinition.hash(),\n",
    "    'change_ownership',\n",
    "    ['hash token',walletTiméo.publicKey]\n",
    ")\n",
    "walletAlice.sign(change_ownership_SmartContractWritingOperation)\n",
    "change_ownership_SmartContractWritingOperation.apply_on_contract(collection_nft)\n",
    "node1.new_certificate(change_ownership_SmartContractWritingOperation)\n",
    "\n",
    "\n",
    "for i in range(4):\n",
    "    certificate = Certificate(walletAlice.publicKey)\n",
    "    walletAlice.sign(certificate)\n",
    "    node1.new_certificate(certificate)"
   ]
  },
  {
   "cell_type": "code",
   "execution_count": null,
   "metadata": {},
   "outputs": [
    {
     "name": "stdout",
     "output_type": "stream",
     "text": [
      "{'type': 'Block', 'issuer': '...0000000000000000...', 'timestamp': 0, 'hash': '998cc8c77c2c1f9b...', 'signature': '...', 'index': 0, 'parent': '0000000000000000...', 'certificates': [], 'nonce': 0}\n",
      "{'type': 'Block', 'issuer': '...a96a39c3de9ab35c...', 'timestamp': 1741011110706, 'hash': 'b38492f65557a674...', 'signature': '2924ca8693f5d3d4...', 'index': 1, 'parent': '998cc8c77c2c1f9b...', 'certificates': [{'type': 'SmartContractWritingOperation', 'issuer': '...65bf55ed718621fe...', 'timestamp': 1741011110093, 'hash': '3270886fec745fbd...', 'signature': '37af9c989d99c65b...'}, {'type': 'Certificate', 'issuer': '...65bf55ed718621fe...', 'timestamp': 1741011110598, 'hash': 'b6599fd9c98aee10...', 'signature': '87c12a3edebc2e4d...'}, {'type': 'Certificate', 'issuer': '...65bf55ed718621fe...', 'timestamp': 1741011110241, 'hash': 'b91889c1def033d2...', 'signature': '8613008f3a15c75a...'}, {'type': 'Certificate', 'issuer': '...65bf55ed718621fe...', 'timestamp': 1741011110390, 'hash': 'a0a4ddc39c215f5e...', 'signature': '4d41549c90c31d2e...'}, {'type': 'SmartContractDefinition', 'issuer': '...65bf55ed718621fe...', 'timestamp': 1741011109965, 'hash': '82827a23dcdd9683...', 'signature': '046a42ba8d958bf5...'}], 'nonce': 0}\n"
     ]
    },
    {
     "data": {
      "text/plain": [
       "'Success!'"
      ]
     },
     "metadata": {},
     "output_type": "display_data"
    }
   ],
   "source": [
    "\n",
    "\n",
    "smartContractObject = SmartContractDefinition.get_smart_contract_at_current_state(\n",
    "    node1.blockchain,\n",
    "    dummySmartContractDefinition.hash()\n",
    ")\n",
    "\n",
    "\n",
    "assert smartContractObject.messages[0][11:] == \"Bonjour!\"\n",
    "\n",
    "\"Success!\""
   ]
  },
  {
   "cell_type": "code",
   "execution_count": null,
   "metadata": {},
   "outputs": [],
   "source": [
    "from certificate import Certificate\n",
    "\n",
    "\n",
    "\n",
    "for i in range(4):\n",
    "    certificate = Certificate(walletAlice.publicKey)\n",
    "    walletAlice.sign(certificate)\n",
    "    node1.new_certificate(certificate)\n",
    "    "
   ]
  },
  {
   "cell_type": "code",
   "execution_count": null,
   "metadata": {},
   "outputs": [
    {
     "name": "stdout",
     "output_type": "stream",
     "text": [
      "Minting\n",
      "Minted !\n",
      "Minting\n",
      "Minted !\n",
      "Minting\n",
      "Minted !\n",
      "Minting\n",
      "Minted !\n",
      "Minting\n",
      "Minted !\n",
      "Minting\n",
      "Minted !\n",
      "Minting\n",
      "Minted !\n",
      "Minting\n",
      "Minted !\n",
      "Minting\n",
      "Minted !\n",
      "Minting\n",
      "Minted !\n",
      "Limit of tokens reached\n",
      "Limit of tokens reached\n"
     ]
    }
   ],
   "source": [
    "CollectionA.mint_token(CollectionA.CollectionOwner, get_pokemon_info(\"pikachu\")[0], get_pokemon_info(\"pikachu\")[1])\n",
    "CollectionA.mint_token(CollectionA.CollectionOwner, get_pokemon_info(\"bulbasaur\")[0], get_pokemon_info(\"bulbasaur\")[1])\n",
    "CollectionA.mint_token(CollectionA.CollectionOwner, get_pokemon_info(\"charmander\")[0], get_pokemon_info(\"charmander\")[1])\n",
    "CollectionA.mint_token(CollectionA.CollectionOwner, get_pokemon_info(\"squirtle\")[0], get_pokemon_info(\"squirtle\")[1])\n",
    "CollectionA.mint_token(CollectionA.CollectionOwner, get_pokemon_info(\"caterpie\")[0], get_pokemon_info(\"caterpie\")[1])\n",
    "CollectionA.mint_token(CollectionA.CollectionOwner, get_pokemon_info(\"pidgey\")[0], get_pokemon_info(\"pidgey\")[1])\n",
    "CollectionA.mint_token(CollectionA.CollectionOwner, get_pokemon_info(\"rattata\")[0], get_pokemon_info(\"rattata\")[1])\n",
    "CollectionA.mint_token(CollectionA.CollectionOwner, get_pokemon_info(\"spearow\")[0], get_pokemon_info(\"spearow\")[1])\n",
    "CollectionA.mint_token(CollectionA.CollectionOwner, get_pokemon_info(\"ekans\")[0], get_pokemon_info(\"ekans\")[1])\n",
    "CollectionA.mint_token(CollectionA.CollectionOwner, get_pokemon_info(\"sandshrew\")[0], get_pokemon_info(\"sandshrew\")[1])\n",
    "CollectionA.mint_token(CollectionA.CollectionOwner, get_pokemon_info(\"clefairy\")[0], get_pokemon_info(\"clefairy\")[1])\n",
    "CollectionA.mint_token(CollectionA.CollectionOwner, get_pokemon_info(\"vulpix\")[0], get_pokemon_info(\"vulpix\")[1])\n"
   ]
  },
  {
   "cell_type": "code",
   "execution_count": 13,
   "metadata": {},
   "outputs": [
    {
     "data": {
      "text/plain": [
       "{'Token No0': {'image_link': 'https://raw.githubusercontent.com/PokeAPI/sprites/master/sprites/pokemon/25.png',\n",
       "  'description': 'electric',\n",
       "  'can_be_exchanged': False,\n",
       "  'identifier': '59118dc5174852c28d73cfaaf7b5f3ebc957ca35d06854d5212cf01a06d91fd9',\n",
       "  'owner': 'George'},\n",
       " 'Token No1': {'image_link': 'https://raw.githubusercontent.com/PokeAPI/sprites/master/sprites/pokemon/1.png',\n",
       "  'description': 'grass',\n",
       "  'can_be_exchanged': True,\n",
       "  'identifier': 'd8fed864393e81a96f7c6587db5933f6f745715b9037550e21475ce1f32b5887',\n",
       "  'owner': 'George'},\n",
       " 'Token No2': {'image_link': 'https://raw.githubusercontent.com/PokeAPI/sprites/master/sprites/pokemon/4.png',\n",
       "  'description': 'fire',\n",
       "  'can_be_exchanged': False,\n",
       "  'identifier': 'e5e4e3f2623e4a45bd7f9b0da0630320672ad13e8efad08ea70c732a3092f63c',\n",
       "  'owner': 'George'},\n",
       " 'Token No3': {'image_link': 'https://raw.githubusercontent.com/PokeAPI/sprites/master/sprites/pokemon/7.png',\n",
       "  'description': 'water',\n",
       "  'can_be_exchanged': True,\n",
       "  'identifier': '289819341682e319d27e8e5f0c57e4f2ab315617b4c5ea97012df6a6ddb4e1b9',\n",
       "  'owner': 'George'},\n",
       " 'Token No4': {'image_link': 'https://raw.githubusercontent.com/PokeAPI/sprites/master/sprites/pokemon/10.png',\n",
       "  'description': 'bug',\n",
       "  'can_be_exchanged': False,\n",
       "  'identifier': '7cc56b3ea3ef370c4234a18fa664ee7e4a46d5686b8ea55ae0640cb7f646997c',\n",
       "  'owner': 'George'},\n",
       " 'Token No5': {'image_link': 'https://raw.githubusercontent.com/PokeAPI/sprites/master/sprites/pokemon/16.png',\n",
       "  'description': 'normal',\n",
       "  'can_be_exchanged': False,\n",
       "  'identifier': '7400e2199a6c21590c582e2afdc36a73caabc7c9aeabfcfaac254bafeb73dacf',\n",
       "  'owner': 'George'},\n",
       " 'Token No6': {'image_link': 'https://raw.githubusercontent.com/PokeAPI/sprites/master/sprites/pokemon/19.png',\n",
       "  'description': 'normal',\n",
       "  'can_be_exchanged': True,\n",
       "  'identifier': '696afe6b95a6978ccc0c699cff0a7fe07e85743b501ac3ed04f059dc14be2d41',\n",
       "  'owner': 'George'},\n",
       " 'Token No7': {'image_link': 'https://raw.githubusercontent.com/PokeAPI/sprites/master/sprites/pokemon/21.png',\n",
       "  'description': 'normal',\n",
       "  'can_be_exchanged': False,\n",
       "  'identifier': '2f6f3d16046c71f666089199e46feee401d2682ae96f21dd45cadfd5aaf834f4',\n",
       "  'owner': 'George'},\n",
       " 'Token No8': {'image_link': 'https://raw.githubusercontent.com/PokeAPI/sprites/master/sprites/pokemon/23.png',\n",
       "  'description': 'poison',\n",
       "  'can_be_exchanged': True,\n",
       "  'identifier': 'abfb70f12ac40d6c400e672a8a9e4e5bd5990a67d08f6c7e1197f16393769f71',\n",
       "  'owner': 'George'},\n",
       " 'Token No9': {'image_link': 'https://raw.githubusercontent.com/PokeAPI/sprites/master/sprites/pokemon/27.png',\n",
       "  'description': 'ground',\n",
       "  'can_be_exchanged': False,\n",
       "  'identifier': '594f20460e7a1c2817d15e229bc25cccf61f59b5583600b5c3ec3ecfc0a75b0e',\n",
       "  'owner': 'George'}}"
      ]
     },
     "execution_count": 13,
     "metadata": {},
     "output_type": "execute_result"
    }
   ],
   "source": [
    "CollectionA.display()"
   ]
  },
  {
   "cell_type": "code",
   "execution_count": 14,
   "metadata": {},
   "outputs": [],
   "source": [
    "CollectionA.change_ownership(\"Mike\",\"289819341682e319d27e8e5f0c57e4f2ab315617b4c5ea97012df6a6ddb4e1b9\")"
   ]
  },
  {
   "cell_type": "code",
   "execution_count": 15,
   "metadata": {},
   "outputs": [
    {
     "data": {
      "text/plain": [
       "{'image_link': 'https://raw.githubusercontent.com/PokeAPI/sprites/master/sprites/pokemon/7.png',\n",
       " 'description': 'water',\n",
       " 'can_be_exchanged': True,\n",
       " 'identifier': '289819341682e319d27e8e5f0c57e4f2ab315617b4c5ea97012df6a6ddb4e1b9',\n",
       " 'owner': 'Mike'}"
      ]
     },
     "execution_count": 15,
     "metadata": {},
     "output_type": "execute_result"
    }
   ],
   "source": [
    "CollectionA.display()['Token No3']"
   ]
  },
  {
   "cell_type": "code",
   "execution_count": 16,
   "metadata": {},
   "outputs": [
    {
     "data": {
      "text/html": [
       "<img src=\"https://raw.githubusercontent.com/PokeAPI/sprites/master/sprites/pokemon/10.png\"/>"
      ],
      "text/plain": [
       "<IPython.core.display.Image object>"
      ]
     },
     "execution_count": 16,
     "metadata": {},
     "output_type": "execute_result"
    }
   ],
   "source": [
    "Image(url=CollectionA.display()['Token No4']['image_link'])"
   ]
  },
  {
   "cell_type": "code",
   "execution_count": 30,
   "metadata": {},
   "outputs": [
    {
     "name": "stdout",
     "output_type": "stream",
     "text": [
      "Minting is open\n"
     ]
    }
   ],
   "source": [
    "CollectionA.open_minting(5)"
   ]
  },
  {
   "cell_type": "code",
   "execution_count": null,
   "metadata": {},
   "outputs": [
    {
     "name": "stdout",
     "output_type": "stream",
     "text": [
      "Minting is closed lol\n",
      "Minting is closed lol\n",
      "Minting is closed lol\n",
      "Minting is closed lol\n",
      "Minting is closed lol\n",
      "Minting is closed lol\n",
      "Minting is closed lol\n",
      "Minting is closed lol\n",
      "Minting is closed lol\n",
      "Minting is closed lol\n",
      "Minting is closed lol\n",
      "Minting is closed lol\n"
     ]
    }
   ],
   "source": [
    "CollectionA.mint_token(CollectionA.CollectionOwner, get_pokemon_info(\"pikachu\")[0], get_pokemon_info(\"pikachu\")[1])\n",
    "CollectionA.mint_token(CollectionA.CollectionOwner, get_pokemon_info(\"bulbasaur\")[0], get_pokemon_info(\"bulbasaur\")[1])\n",
    "CollectionA.mint_token(CollectionA.CollectionOwner, get_pokemon_info(\"charmander\")[0], get_pokemon_info(\"charmander\")[1])\n",
    "CollectionA.mint_token(CollectionA.CollectionOwner, get_pokemon_info(\"squirtle\")[0], get_pokemon_info(\"squirtle\")[1])\n",
    "CollectionA.mint_token(CollectionA.CollectionOwner, get_pokemon_info(\"caterpie\")[0], get_pokemon_info(\"caterpie\")[1])\n",
    "CollectionA.mint_token(CollectionA.CollectionOwner, get_pokemon_info(\"pidgey\")[0], get_pokemon_info(\"pidgey\")[1])\n",
    "CollectionA.mint_token(CollectionA.CollectionOwner, get_pokemon_info(\"rattata\")[0], get_pokemon_info(\"rattata\")[1])\n",
    "CollectionA.mint_token(CollectionA.CollectionOwner, get_pokemon_info(\"spearow\")[0], get_pokemon_info(\"spearow\")[1])\n",
    "CollectionA.mint_token(CollectionA.CollectionOwner, get_pokemon_info(\"ekans\")[0], get_pokemon_info(\"ekans\")[1])\n",
    "CollectionA.mint_token(CollectionA.CollectionOwner, get_pokemon_info(\"sandshrew\")[0], get_pokemon_info(\"sandshrew\")[1])\n",
    "CollectionA.mint_token(CollectionA.CollectionOwner, get_pokemon_info(\"clefairy\")[0], get_pokemon_info(\"clefairy\")[1])\n",
    "CollectionA.mint_token(CollectionA.CollectionOwner, get_pokemon_info(\"vulpix\")[0], get_pokemon_info(\"vulpix\")[1])\n",
    "\n"
   ]
  },
  {
   "cell_type": "code",
   "execution_count": 48,
   "metadata": {},
   "outputs": [
    {
     "name": "stdout",
     "output_type": "stream",
     "text": [
      "Minting is open\n",
      "Minting\n",
      "[{'identifier': 0, 'image_link': 'https://raw.githubusercontent.com/PokeAPI/sprites/master/sprites/pokemon/25.png', 'description': 'electric', 'owner': 'George'}]\n",
      "Minted !\n",
      "Minting\n",
      "[{'identifier': 0, 'image_link': 'https://raw.githubusercontent.com/PokeAPI/sprites/master/sprites/pokemon/25.png', 'description': 'electric', 'owner': 'George'}, {'identifier': 1, 'image_link': 'https://raw.githubusercontent.com/PokeAPI/sprites/master/sprites/pokemon/1.png', 'description': 'grass', 'owner': 'George'}]\n",
      "Minted !\n",
      "Minting\n",
      "[{'identifier': 0, 'image_link': 'https://raw.githubusercontent.com/PokeAPI/sprites/master/sprites/pokemon/25.png', 'description': 'electric', 'owner': 'George'}, {'identifier': 1, 'image_link': 'https://raw.githubusercontent.com/PokeAPI/sprites/master/sprites/pokemon/1.png', 'description': 'grass', 'owner': 'George'}, {'identifier': 2, 'image_link': 'https://raw.githubusercontent.com/PokeAPI/sprites/master/sprites/pokemon/4.png', 'description': 'fire', 'owner': 'George'}]\n",
      "Minted !\n",
      "Minting\n",
      "[{'identifier': 0, 'image_link': 'https://raw.githubusercontent.com/PokeAPI/sprites/master/sprites/pokemon/25.png', 'description': 'electric', 'owner': 'George'}, {'identifier': 1, 'image_link': 'https://raw.githubusercontent.com/PokeAPI/sprites/master/sprites/pokemon/1.png', 'description': 'grass', 'owner': 'George'}, {'identifier': 2, 'image_link': 'https://raw.githubusercontent.com/PokeAPI/sprites/master/sprites/pokemon/4.png', 'description': 'fire', 'owner': 'George'}, {'identifier': 3, 'image_link': 'https://raw.githubusercontent.com/PokeAPI/sprites/master/sprites/pokemon/7.png', 'description': 'water', 'owner': 'George'}]\n",
      "Minted !\n",
      "Minting\n",
      "[{'identifier': 0, 'image_link': 'https://raw.githubusercontent.com/PokeAPI/sprites/master/sprites/pokemon/25.png', 'description': 'electric', 'owner': 'George'}, {'identifier': 1, 'image_link': 'https://raw.githubusercontent.com/PokeAPI/sprites/master/sprites/pokemon/1.png', 'description': 'grass', 'owner': 'George'}, {'identifier': 2, 'image_link': 'https://raw.githubusercontent.com/PokeAPI/sprites/master/sprites/pokemon/4.png', 'description': 'fire', 'owner': 'George'}, {'identifier': 3, 'image_link': 'https://raw.githubusercontent.com/PokeAPI/sprites/master/sprites/pokemon/7.png', 'description': 'water', 'owner': 'George'}, {'identifier': 4, 'image_link': 'https://raw.githubusercontent.com/PokeAPI/sprites/master/sprites/pokemon/10.png', 'description': 'bug', 'owner': 'George'}]\n",
      "Minted !\n",
      "Minting\n",
      "[{'identifier': 0, 'image_link': 'https://raw.githubusercontent.com/PokeAPI/sprites/master/sprites/pokemon/25.png', 'description': 'electric', 'owner': 'George'}, {'identifier': 1, 'image_link': 'https://raw.githubusercontent.com/PokeAPI/sprites/master/sprites/pokemon/1.png', 'description': 'grass', 'owner': 'George'}, {'identifier': 2, 'image_link': 'https://raw.githubusercontent.com/PokeAPI/sprites/master/sprites/pokemon/4.png', 'description': 'fire', 'owner': 'George'}, {'identifier': 3, 'image_link': 'https://raw.githubusercontent.com/PokeAPI/sprites/master/sprites/pokemon/7.png', 'description': 'water', 'owner': 'George'}, {'identifier': 4, 'image_link': 'https://raw.githubusercontent.com/PokeAPI/sprites/master/sprites/pokemon/10.png', 'description': 'bug', 'owner': 'George'}, {'identifier': 5, 'image_link': 'https://raw.githubusercontent.com/PokeAPI/sprites/master/sprites/pokemon/16.png', 'description': 'normal', 'owner': 'George'}]\n",
      "Minted !\n",
      "Minting\n",
      "[{'identifier': 0, 'image_link': 'https://raw.githubusercontent.com/PokeAPI/sprites/master/sprites/pokemon/25.png', 'description': 'electric', 'owner': 'George'}, {'identifier': 1, 'image_link': 'https://raw.githubusercontent.com/PokeAPI/sprites/master/sprites/pokemon/1.png', 'description': 'grass', 'owner': 'George'}, {'identifier': 2, 'image_link': 'https://raw.githubusercontent.com/PokeAPI/sprites/master/sprites/pokemon/4.png', 'description': 'fire', 'owner': 'George'}, {'identifier': 3, 'image_link': 'https://raw.githubusercontent.com/PokeAPI/sprites/master/sprites/pokemon/7.png', 'description': 'water', 'owner': 'George'}, {'identifier': 4, 'image_link': 'https://raw.githubusercontent.com/PokeAPI/sprites/master/sprites/pokemon/10.png', 'description': 'bug', 'owner': 'George'}, {'identifier': 5, 'image_link': 'https://raw.githubusercontent.com/PokeAPI/sprites/master/sprites/pokemon/16.png', 'description': 'normal', 'owner': 'George'}, {'identifier': 6, 'image_link': 'https://raw.githubusercontent.com/PokeAPI/sprites/master/sprites/pokemon/19.png', 'description': 'normal', 'owner': 'George'}]\n",
      "Minted !\n",
      "Minting is closed\n",
      "Minting is closed\n",
      "Minting is closed\n",
      "Minting is closed\n",
      "Minting is closed\n"
     ]
    }
   ],
   "source": [
    "CollectionA = Collection(\"George\", 10)\n",
    "CollectionA.open_minting(1)\n",
    "CollectionA.mint_token(CollectionA.CollectionOwner, get_pokemon_info(\"pikachu\")[0], get_pokemon_info(\"pikachu\")[1])\n",
    "CollectionA.mint_token(CollectionA.CollectionOwner, get_pokemon_info(\"bulbasaur\")[0], get_pokemon_info(\"bulbasaur\")[1])\n",
    "CollectionA.mint_token(CollectionA.CollectionOwner, get_pokemon_info(\"charmander\")[0], get_pokemon_info(\"charmander\")[1])\n",
    "CollectionA.mint_token(CollectionA.CollectionOwner, get_pokemon_info(\"squirtle\")[0], get_pokemon_info(\"squirtle\")[1])\n",
    "CollectionA.mint_token(CollectionA.CollectionOwner, get_pokemon_info(\"caterpie\")[0], get_pokemon_info(\"caterpie\")[1])\n",
    "CollectionA.mint_token(CollectionA.CollectionOwner, get_pokemon_info(\"pidgey\")[0], get_pokemon_info(\"pidgey\")[1])\n",
    "CollectionA.mint_token(CollectionA.CollectionOwner, get_pokemon_info(\"rattata\")[0], get_pokemon_info(\"rattata\")[1])\n",
    "CollectionA.mint_token(CollectionA.CollectionOwner, get_pokemon_info(\"spearow\")[0], get_pokemon_info(\"spearow\")[1])\n",
    "CollectionA.mint_token(CollectionA.CollectionOwner, get_pokemon_info(\"ekans\")[0], get_pokemon_info(\"ekans\")[1])\n",
    "CollectionA.mint_token(CollectionA.CollectionOwner, get_pokemon_info(\"sandshrew\")[0], get_pokemon_info(\"sandshrew\")[1])\n",
    "CollectionA.mint_token(CollectionA.CollectionOwner, get_pokemon_info(\"clefairy\")[0], get_pokemon_info(\"clefairy\")[1])\n",
    "CollectionA.mint_token(CollectionA.CollectionOwner, get_pokemon_info(\"vulpix\")[0], get_pokemon_info(\"vulpix\")[1])\n"
   ]
  },
  {
   "cell_type": "code",
   "execution_count": null,
   "metadata": {},
   "outputs": [],
   "source": []
  }
 ],
 "metadata": {
  "kernelspec": {
   "display_name": "environment_anaconda_pj",
   "language": "python",
   "name": "python3"
  },
  "language_info": {
   "codemirror_mode": {
    "name": "ipython",
    "version": 3
   },
   "file_extension": ".py",
   "mimetype": "text/x-python",
   "name": "python",
   "nbconvert_exporter": "python",
   "pygments_lexer": "ipython3",
   "version": "3.12.4"
  }
 },
 "nbformat": 4,
 "nbformat_minor": 4
}
