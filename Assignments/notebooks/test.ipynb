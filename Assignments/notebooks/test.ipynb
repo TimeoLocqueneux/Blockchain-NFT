{
 "cells": [
  {
   "cell_type": "markdown",
   "metadata": {},
   "source": [
    "# Locqueneux Timéo, Le Rossignol Pierre-Jean, Bodin Titouan, Vandemeulebroucke Sacha"
   ]
  },
  {
   "cell_type": "code",
   "execution_count": 589,
   "metadata": {},
   "outputs": [
    {
     "name": "stdout",
     "output_type": "stream",
     "text": [
      "The autoreload extension is already loaded. To reload it, use:\n",
      "  %reload_ext autoreload\n"
     ]
    }
   ],
   "source": [
    "%load_ext autoreload\n",
    "%autoreload 2\n",
    "\n",
    "from sys import path\n",
    "\n",
    "path.append('../scripts')\n"
   ]
  },
  {
   "cell_type": "code",
   "execution_count": null,
   "metadata": {},
   "outputs": [],
   "source": [
    "from IPython.display import Image"
   ]
  },
  {
   "cell_type": "markdown",
   "metadata": {},
   "source": [
    "# INITIALISATION"
   ]
  },
  {
   "cell_type": "code",
   "execution_count": 591,
   "metadata": {},
   "outputs": [],
   "source": [
    "from node import BlockchainNode\n",
    "from network import Node\n",
    "from wallet import Wallet\n",
    "from proof_of_stake import ProofOfStake\n",
    "\n",
    "walletNode1 = Wallet()\n",
    "walletNode2 = Wallet()\n",
    "walletNode3 = Wallet()\n",
    "\n",
    "walletAlice = Wallet()\n",
    "walletSacha = Wallet()\n",
    "walletTiméo = Wallet()\n",
    "\n",
    "\n",
    "pos = ProofOfStake(walletNode1.publicKey)\n",
    "\n",
    "def reset_blockchain():\n",
    "    Node.reset_network()\n",
    "    global node1, node2, node3\n",
    "    node1 = BlockchainNode(walletNode1, pos)\n",
    "    node2 = BlockchainNode(walletNode2, pos)\n",
    "    node3 = BlockchainNode(walletNode3, pos)\n",
    "\n",
    "\n"
   ]
  },
  {
   "cell_type": "markdown",
   "metadata": {},
   "source": [
    "# Smart contract importation"
   ]
  },
  {
   "cell_type": "code",
   "execution_count": 592,
   "metadata": {},
   "outputs": [],
   "source": [
    "from smart_contract import SmartContractDefinition, SmartContractWritingOperation\n",
    "from CollectionNFT import Collection\n",
    "from certificate import Certificate\n",
    "import inspect\n",
    "\n",
    "\n",
    "reset_blockchain()\n",
    "\n",
    "\n",
    "# collection : string du smart contract\n",
    "collection = inspect.getsource(Collection)\n",
    "dummySmartContractDefinition = SmartContractDefinition(walletAlice.publicKey, collection)\n",
    "walletAlice.sign(dummySmartContractDefinition)\n",
    "\n",
    "collection_nft = dummySmartContractDefinition.instantiate_collection(8)\n",
    "node1.new_certificate(dummySmartContractDefinition)\n",
    "\n",
    "\n",
    "\n"
   ]
  },
  {
   "cell_type": "markdown",
   "metadata": {},
   "source": [
    "Users can “mint” tokens under certain conditions :  \n",
    "- Once the limit of N has been reached, there is no minting allowed anymore. \n",
    "- There should be a “mint” period. The owner of the collection can open the collection"
   ]
  },
  {
   "cell_type": "code",
   "execution_count": 593,
   "metadata": {},
   "outputs": [
    {
     "name": "stdout",
     "output_type": "stream",
     "text": [
      "Minting is open\n",
      "Minted !\n",
      "ownership changed\n"
     ]
    }
   ],
   "source": [
    "open_minting_SmartContractWritingOperation = SmartContractWritingOperation(\n",
    "    walletAlice.publicKey,\n",
    "    dummySmartContractDefinition.hash(),\n",
    "    'open_minting',\n",
    "    [node1.blockchain.get_latest_block().indexInBlockchain,2]\n",
    ")\n",
    "walletAlice.sign(open_minting_SmartContractWritingOperation)\n",
    "open_minting_SmartContractWritingOperation.apply_on_contract(collection_nft)\n",
    "node1.new_certificate(open_minting_SmartContractWritingOperation)\n",
    "\n",
    "\n",
    "for i in range(4):\n",
    "    certificate = Certificate(walletAlice.publicKey)\n",
    "    walletAlice.sign(certificate)\n",
    "    node1.new_certificate(certificate)\n",
    "\n",
    "    \n",
    "\n",
    "mint_token_SmartContractWritingOperation = SmartContractWritingOperation(\n",
    "    walletAlice.publicKey,\n",
    "    dummySmartContractDefinition.hash(),\n",
    "    'mint_token',\n",
    "    [node1.blockchain.get_latest_block().indexInBlockchain]\n",
    ")\n",
    "walletAlice.sign(mint_token_SmartContractWritingOperation)\n",
    "mint_token_SmartContractWritingOperation.apply_on_contract(collection_nft)\n",
    "node1.new_certificate(mint_token_SmartContractWritingOperation)\n",
    "\n",
    "\n",
    "for i in range(4):\n",
    "    certificate = Certificate(walletAlice.publicKey)\n",
    "    walletAlice.sign(certificate)\n",
    "    node1.new_certificate(certificate)"
   ]
  },
  {
   "cell_type": "markdown",
   "metadata": {},
   "source": [
    "# Mint period with number of blocks"
   ]
  },
  {
   "cell_type": "code",
   "execution_count": 594,
   "metadata": {},
   "outputs": [
    {
     "name": "stdout",
     "output_type": "stream",
     "text": [
      "Minting is closed\n"
     ]
    }
   ],
   "source": [
    "\n",
    "for i in range(15):\n",
    "    certificate = Certificate(walletAlice.publicKey)\n",
    "    walletAlice.sign(certificate)\n",
    "    node1.new_certificate(certificate)\n",
    "\n",
    "mint_token_SmartContractWritingOperation = SmartContractWritingOperation(\n",
    "walletAlice.publicKey,\n",
    "dummySmartContractDefinition.hash(),\n",
    "'mint_token',\n",
    "[node1.blockchain.get_latest_block().indexInBlockchain]\n",
    ")\n",
    "walletAlice.sign(mint_token_SmartContractWritingOperation)\n",
    "mint_token_SmartContractWritingOperation.apply_on_contract(collection_nft)\n",
    "node1.new_certificate(mint_token_SmartContractWritingOperation)\n"
   ]
  },
  {
   "cell_type": "markdown",
   "metadata": {},
   "source": [
    "# Limit of N tokens"
   ]
  },
  {
   "cell_type": "code",
   "execution_count": 595,
   "metadata": {},
   "outputs": [
    {
     "name": "stdout",
     "output_type": "stream",
     "text": [
      "Minting is open\n",
      "Minted !\n",
      "ownership changed\n",
      "Minted !\n",
      "ownership changed\n",
      "Minted !\n",
      "ownership changed\n",
      "Minted !\n",
      "ownership changed\n",
      "Minted !\n",
      "ownership changed\n",
      "Minted !\n",
      "ownership changed\n",
      "Minted !\n",
      "ownership changed\n",
      "Limit of tokens reached\n",
      "ownership changed\n",
      "Limit of tokens reached\n",
      "ownership changed\n",
      "Limit of tokens reached\n",
      "ownership changed\n"
     ]
    }
   ],
   "source": [
    "open_minting_SmartContractWritingOperation = SmartContractWritingOperation(\n",
    "    walletAlice.publicKey,\n",
    "    dummySmartContractDefinition.hash(),\n",
    "    'open_minting',\n",
    "    [node1.blockchain.get_latest_block().indexInBlockchain,10]\n",
    ")\n",
    "walletAlice.sign(open_minting_SmartContractWritingOperation)\n",
    "open_minting_SmartContractWritingOperation.apply_on_contract(collection_nft)\n",
    "node1.new_certificate(open_minting_SmartContractWritingOperation)\n",
    "\n",
    "\n",
    "for i in range(4):\n",
    "    certificate = Certificate(walletAlice.publicKey)\n",
    "    walletAlice.sign(certificate)\n",
    "    node1.new_certificate(certificate)\n",
    "\n",
    "\n",
    "\n",
    "    \n",
    "\n",
    "mint_token_SmartContractWritingOperation = SmartContractWritingOperation(\n",
    "    walletAlice.publicKey,\n",
    "    dummySmartContractDefinition.hash(),\n",
    "    'mint_token',\n",
    "    [node1.blockchain.get_latest_block().indexInBlockchain]\n",
    ")\n",
    "\n",
    "for i in range (10):\n",
    "    walletAlice.sign(mint_token_SmartContractWritingOperation)\n",
    "    mint_token_SmartContractWritingOperation.apply_on_contract(collection_nft)\n",
    "    node1.new_certificate(mint_token_SmartContractWritingOperation)\n",
    "\n",
    "\n",
    "    for i in range(4):\n",
    "        certificate = Certificate(walletAlice.publicKey)\n",
    "        walletAlice.sign(certificate)\n",
    "        node1.new_certificate(certificate)\n"
   ]
  },
  {
   "cell_type": "markdown",
   "metadata": {},
   "source": [
    "# Users can exchange ownership of their tokens"
   ]
  },
  {
   "cell_type": "code",
   "execution_count": 596,
   "metadata": {},
   "outputs": [
    {
     "name": "stdout",
     "output_type": "stream",
     "text": [
      "ownership changed\n"
     ]
    }
   ],
   "source": [
    "change_ownership_SmartContractWritingOperation = SmartContractWritingOperation(\n",
    "    walletAlice.publicKey,\n",
    "    dummySmartContractDefinition.hash(),\n",
    "    'change_ownership',\n",
    "    [1,walletTiméo.publicKey]\n",
    ")\n",
    "\n",
    "walletAlice.sign(change_ownership_SmartContractWritingOperation)\n",
    "change_ownership_SmartContractWritingOperation.apply_on_contract(collection_nft)\n",
    "node1.new_certificate(change_ownership_SmartContractWritingOperation)\n",
    "\n",
    "\n",
    "for i in range(4):\n",
    "    certificate = Certificate(walletAlice.publicKey)\n",
    "    walletAlice.sign(certificate)\n",
    "    node1.new_certificate(certificate)"
   ]
  },
  {
   "cell_type": "code",
   "execution_count": 597,
   "metadata": {},
   "outputs": [
    {
     "name": "stdout",
     "output_type": "stream",
     "text": [
      "Minting is open\n",
      "Minted !\n",
      "ownership changed\n",
      "Minting is closed\n",
      "Minting is open\n",
      "Minted !\n",
      "ownership changed\n",
      "ownership changed\n",
      "\n",
      " token number  1  has public key : 1975e1efe0bf274f\n",
      "Timéo's wallet :       1975e1efe0bf274f\n",
      "ownership changed\n",
      "Minting is open\n",
      "Minted !\n",
      "ownership changed\n",
      "Minting is closed\n",
      "Minting is open\n",
      "Minted !\n",
      "ownership changed\n",
      "ownership changed\n",
      "ownership changed\n",
      "\n",
      " token number  1  has public key : eac9cd2f9c9d4e05\n",
      "Sacha's wallet :     eac9cd2f9c9d4e05\n"
     ]
    }
   ],
   "source": [
    "def get_token_owner(token_number, smart_contract, node):\n",
    "    smartContractObject = SmartContractDefinition.get_smart_contract_at_current_state(\n",
    "    node.blockchain,\n",
    "    smart_contract.hash())\n",
    "    print('\\n','token number ', token_number, ' has public key :', smartContractObject.tokens[f'Token No{token_number}']['owner'][256:272])\n",
    "\n",
    "get_token_owner(1, dummySmartContractDefinition, node1)\n",
    "print(\"Timéo's wallet :      \",walletTiméo.publicKey[256:272])\n",
    "\n",
    "change_ownership_SmartContractWritingOperation = SmartContractWritingOperation(\n",
    "    walletTiméo.publicKey,\n",
    "    dummySmartContractDefinition.hash(),\n",
    "    'change_ownership',\n",
    "    [1,walletSacha.publicKey]\n",
    ")\n",
    "walletTiméo.sign(change_ownership_SmartContractWritingOperation)\n",
    "change_ownership_SmartContractWritingOperation.apply_on_contract(collection_nft)\n",
    "node1.new_certificate(change_ownership_SmartContractWritingOperation)\n",
    "\n",
    "\n",
    "for i in range(4):\n",
    "    certificate = Certificate(walletAlice.publicKey)\n",
    "    walletAlice.sign(certificate)\n",
    "    node1.new_certificate(certificate)\n",
    "\n",
    "\n",
    "get_token_owner(1, dummySmartContractDefinition, node1)\n",
    "print(\"Sacha's wallet :    \",walletSacha.publicKey[256:272])"
   ]
  },
  {
   "cell_type": "markdown",
   "metadata": {},
   "source": [
    "# Create a collection of N tokens that all have a distinguishable identifier"
   ]
  },
  {
   "cell_type": "code",
   "execution_count": 598,
   "metadata": {},
   "outputs": [
    {
     "name": "stdout",
     "output_type": "stream",
     "text": [
      "{'Token No0': {'name': 'pikachu', 'image_link': 'https://raw.githubusercontent.com/PokeAPI/sprites/master/sprites/pokemon/25.png', 'description': 'electric'}, 'Token No1': {'name': 'bulbasaur', 'image_link': 'https://raw.githubusercontent.com/PokeAPI/sprites/master/sprites/pokemon/1.png', 'description': 'grass', 'owner': '30820122300d06092a864886f70d01010105000382010f003082010a02820101009f7f3ad01fb72384f79a7b1f6cc4d82dd4e35899a413e597cff39a970894769681d20294c42b436eecf53d7b18c82fff34db29051d9ad0b03561625676856d0d2ddf7cb9c6af1b33f493a86b5c36aeda0e3204c64fc57762edf3a9da3de265eac9cd2f9c9d4e058888bf596936f70c05fdc433db997e81e05a5df358508ac709bdc8e6593f04d957f99eeec33e33813db0da070dabe8d39f8c40e1ccaa4e5b3f94da874f23513e7f8c5011696657b296d1f662579effc8a30d8371bd1813a4814ad0880840cf1cdd53ac958cdaf2b9c476fcf86e26a9b41c96d24439f7079afd10cde2e67d33de0465748a523c2c7930a96d35d44ee985deca4584520dd27c330203010001'}, 'Token No2': {'name': 'charmander', 'image_link': 'https://raw.githubusercontent.com/PokeAPI/sprites/master/sprites/pokemon/4.png', 'description': 'fire', 'owner': '30820122300d06092a864886f70d01010105000382010f003082010a0282010100b224e8dd2495122da56988dbcd8ea241d67448f6351afe04b316a20d9e6e2b5db74324997c923f3ad12c2a6d605422ff5632596c470de73c7078d1ff3b2bb9136a1329be22df4a2671d2569752fe694dd9d803af1c9f96b7fc17e0a0b869c6e08f32225644f86932ce87e824be83a4a1bfe3a50c6c1f0859800f16abccb994727224b759cd8f961a6c16a94d6d08f6e47917fa79eb9b359e52d71af9da861d88b3fd159515ebded5704c94ccfda4064c36aba4a05e82f0e3c6960359149c658d299198ee78655a2c2c89e2ec68c9e5309e74a3292372606878f91d210b4111a42f3c744aa51ca85e20e3768b28e75387f319deb14af5c9b509a96f18ee8311b90203010001'}, 'Token No3': {'name': 'squirtle', 'image_link': 'https://raw.githubusercontent.com/PokeAPI/sprites/master/sprites/pokemon/7.png', 'description': 'water', 'owner': '30820122300d06092a864886f70d01010105000382010f003082010a0282010100b224e8dd2495122da56988dbcd8ea241d67448f6351afe04b316a20d9e6e2b5db74324997c923f3ad12c2a6d605422ff5632596c470de73c7078d1ff3b2bb9136a1329be22df4a2671d2569752fe694dd9d803af1c9f96b7fc17e0a0b869c6e08f32225644f86932ce87e824be83a4a1bfe3a50c6c1f0859800f16abccb994727224b759cd8f961a6c16a94d6d08f6e47917fa79eb9b359e52d71af9da861d88b3fd159515ebded5704c94ccfda4064c36aba4a05e82f0e3c6960359149c658d299198ee78655a2c2c89e2ec68c9e5309e74a3292372606878f91d210b4111a42f3c744aa51ca85e20e3768b28e75387f319deb14af5c9b509a96f18ee8311b90203010001'}, 'Token No4': {'name': 'caterpie', 'image_link': 'https://raw.githubusercontent.com/PokeAPI/sprites/master/sprites/pokemon/10.png', 'description': 'bug', 'owner': '30820122300d06092a864886f70d01010105000382010f003082010a0282010100b224e8dd2495122da56988dbcd8ea241d67448f6351afe04b316a20d9e6e2b5db74324997c923f3ad12c2a6d605422ff5632596c470de73c7078d1ff3b2bb9136a1329be22df4a2671d2569752fe694dd9d803af1c9f96b7fc17e0a0b869c6e08f32225644f86932ce87e824be83a4a1bfe3a50c6c1f0859800f16abccb994727224b759cd8f961a6c16a94d6d08f6e47917fa79eb9b359e52d71af9da861d88b3fd159515ebded5704c94ccfda4064c36aba4a05e82f0e3c6960359149c658d299198ee78655a2c2c89e2ec68c9e5309e74a3292372606878f91d210b4111a42f3c744aa51ca85e20e3768b28e75387f319deb14af5c9b509a96f18ee8311b90203010001'}, 'Token No5': {'name': 'pidgey', 'image_link': 'https://raw.githubusercontent.com/PokeAPI/sprites/master/sprites/pokemon/16.png', 'description': 'normal', 'owner': '30820122300d06092a864886f70d01010105000382010f003082010a0282010100b224e8dd2495122da56988dbcd8ea241d67448f6351afe04b316a20d9e6e2b5db74324997c923f3ad12c2a6d605422ff5632596c470de73c7078d1ff3b2bb9136a1329be22df4a2671d2569752fe694dd9d803af1c9f96b7fc17e0a0b869c6e08f32225644f86932ce87e824be83a4a1bfe3a50c6c1f0859800f16abccb994727224b759cd8f961a6c16a94d6d08f6e47917fa79eb9b359e52d71af9da861d88b3fd159515ebded5704c94ccfda4064c36aba4a05e82f0e3c6960359149c658d299198ee78655a2c2c89e2ec68c9e5309e74a3292372606878f91d210b4111a42f3c744aa51ca85e20e3768b28e75387f319deb14af5c9b509a96f18ee8311b90203010001'}, 'Token No6': {'name': 'rattata', 'image_link': 'https://raw.githubusercontent.com/PokeAPI/sprites/master/sprites/pokemon/19.png', 'description': 'normal', 'owner': '30820122300d06092a864886f70d01010105000382010f003082010a0282010100b224e8dd2495122da56988dbcd8ea241d67448f6351afe04b316a20d9e6e2b5db74324997c923f3ad12c2a6d605422ff5632596c470de73c7078d1ff3b2bb9136a1329be22df4a2671d2569752fe694dd9d803af1c9f96b7fc17e0a0b869c6e08f32225644f86932ce87e824be83a4a1bfe3a50c6c1f0859800f16abccb994727224b759cd8f961a6c16a94d6d08f6e47917fa79eb9b359e52d71af9da861d88b3fd159515ebded5704c94ccfda4064c36aba4a05e82f0e3c6960359149c658d299198ee78655a2c2c89e2ec68c9e5309e74a3292372606878f91d210b4111a42f3c744aa51ca85e20e3768b28e75387f319deb14af5c9b509a96f18ee8311b90203010001'}, 'Token No7': {'name': 'spearow', 'image_link': 'https://raw.githubusercontent.com/PokeAPI/sprites/master/sprites/pokemon/21.png', 'description': 'normal', 'owner': '30820122300d06092a864886f70d01010105000382010f003082010a0282010100b224e8dd2495122da56988dbcd8ea241d67448f6351afe04b316a20d9e6e2b5db74324997c923f3ad12c2a6d605422ff5632596c470de73c7078d1ff3b2bb9136a1329be22df4a2671d2569752fe694dd9d803af1c9f96b7fc17e0a0b869c6e08f32225644f86932ce87e824be83a4a1bfe3a50c6c1f0859800f16abccb994727224b759cd8f961a6c16a94d6d08f6e47917fa79eb9b359e52d71af9da861d88b3fd159515ebded5704c94ccfda4064c36aba4a05e82f0e3c6960359149c658d299198ee78655a2c2c89e2ec68c9e5309e74a3292372606878f91d210b4111a42f3c744aa51ca85e20e3768b28e75387f319deb14af5c9b509a96f18ee8311b90203010001'}, 'Token No8': {'name': 'ekans', 'image_link': 'https://raw.githubusercontent.com/PokeAPI/sprites/master/sprites/pokemon/23.png', 'description': 'poison', 'owner': '30820122300d06092a864886f70d01010105000382010f003082010a0282010100b224e8dd2495122da56988dbcd8ea241d67448f6351afe04b316a20d9e6e2b5db74324997c923f3ad12c2a6d605422ff5632596c470de73c7078d1ff3b2bb9136a1329be22df4a2671d2569752fe694dd9d803af1c9f96b7fc17e0a0b869c6e08f32225644f86932ce87e824be83a4a1bfe3a50c6c1f0859800f16abccb994727224b759cd8f961a6c16a94d6d08f6e47917fa79eb9b359e52d71af9da861d88b3fd159515ebded5704c94ccfda4064c36aba4a05e82f0e3c6960359149c658d299198ee78655a2c2c89e2ec68c9e5309e74a3292372606878f91d210b4111a42f3c744aa51ca85e20e3768b28e75387f319deb14af5c9b509a96f18ee8311b90203010001'}, 'Token No9': {'name': 'sandshrew', 'image_link': 'https://raw.githubusercontent.com/PokeAPI/sprites/master/sprites/pokemon/27.png', 'description': 'ground'}, 'Token No10': {'name': 'clefairy', 'image_link': 'https://raw.githubusercontent.com/PokeAPI/sprites/master/sprites/pokemon/35.png', 'description': 'fairy'}, 'Token No11': {'name': 'vulpix', 'image_link': 'https://raw.githubusercontent.com/PokeAPI/sprites/master/sprites/pokemon/37.png', 'description': 'fire'}, 'Token No12': {'name': 'jigglypuff', 'image_link': 'https://raw.githubusercontent.com/PokeAPI/sprites/master/sprites/pokemon/39.png', 'description': 'normal'}, 'Token No13': {'name': 'zubat', 'image_link': 'https://raw.githubusercontent.com/PokeAPI/sprites/master/sprites/pokemon/41.png', 'description': 'poison'}, 'Token No14': {'name': 'oddish', 'image_link': 'https://raw.githubusercontent.com/PokeAPI/sprites/master/sprites/pokemon/43.png', 'description': 'grass'}, 'Token No15': {'name': 'paras', 'image_link': 'https://raw.githubusercontent.com/PokeAPI/sprites/master/sprites/pokemon/46.png', 'description': 'bug'}, 'Token No16': {'name': 'venonat', 'image_link': 'https://raw.githubusercontent.com/PokeAPI/sprites/master/sprites/pokemon/48.png', 'description': 'bug'}, 'Token No17': {'name': 'diglett', 'image_link': 'https://raw.githubusercontent.com/PokeAPI/sprites/master/sprites/pokemon/50.png', 'description': 'ground'}, 'Token No18': {'name': 'meowth', 'image_link': 'https://raw.githubusercontent.com/PokeAPI/sprites/master/sprites/pokemon/52.png', 'description': 'normal'}, 'Token No19': {'name': 'psyduck', 'image_link': 'https://raw.githubusercontent.com/PokeAPI/sprites/master/sprites/pokemon/54.png', 'description': 'water'}, 'Token No20': {'name': 'mankey', 'image_link': 'https://raw.githubusercontent.com/PokeAPI/sprites/master/sprites/pokemon/56.png', 'description': 'fighting'}, 'Token No21': {'name': 'growlithe', 'image_link': 'https://raw.githubusercontent.com/PokeAPI/sprites/master/sprites/pokemon/58.png', 'description': 'fire'}, 'Token No22': {'name': 'poliwag', 'image_link': 'https://raw.githubusercontent.com/PokeAPI/sprites/master/sprites/pokemon/60.png', 'description': 'water'}, 'Token No23': {'name': 'abra', 'image_link': 'https://raw.githubusercontent.com/PokeAPI/sprites/master/sprites/pokemon/63.png', 'description': 'psychic'}, 'Token No24': {'name': 'machop', 'image_link': 'https://raw.githubusercontent.com/PokeAPI/sprites/master/sprites/pokemon/66.png', 'description': 'fighting'}, 'Token No25': {'name': 'bellsprout', 'image_link': 'https://raw.githubusercontent.com/PokeAPI/sprites/master/sprites/pokemon/69.png', 'description': 'grass'}, 'Token No26': {'name': 'tentacool', 'image_link': 'https://raw.githubusercontent.com/PokeAPI/sprites/master/sprites/pokemon/72.png', 'description': 'water'}, 'Token No27': {'name': 'geodude', 'image_link': 'https://raw.githubusercontent.com/PokeAPI/sprites/master/sprites/pokemon/74.png', 'description': 'rock'}, 'Token No28': {'name': 'ponyta', 'image_link': 'https://raw.githubusercontent.com/PokeAPI/sprites/master/sprites/pokemon/77.png', 'description': 'fire'}, 'Token No29': {'name': 'slowpoke', 'image_link': 'https://raw.githubusercontent.com/PokeAPI/sprites/master/sprites/pokemon/79.png', 'description': 'water'}, 'Token No30': {'name': 'magnemite', 'image_link': 'https://raw.githubusercontent.com/PokeAPI/sprites/master/sprites/pokemon/81.png', 'description': 'electric'}, 'Token No31': {'name': 'doduo', 'image_link': 'https://raw.githubusercontent.com/PokeAPI/sprites/master/sprites/pokemon/84.png', 'description': 'normal'}, 'Token No32': {'name': 'seel', 'image_link': 'https://raw.githubusercontent.com/PokeAPI/sprites/master/sprites/pokemon/86.png', 'description': 'water'}, 'Token No33': {'name': 'grimer', 'image_link': 'https://raw.githubusercontent.com/PokeAPI/sprites/master/sprites/pokemon/88.png', 'description': 'poison'}, 'Token No34': {'name': 'shellder', 'image_link': 'https://raw.githubusercontent.com/PokeAPI/sprites/master/sprites/pokemon/90.png', 'description': 'water'}, 'Token No35': {'name': 'gastly', 'image_link': 'https://raw.githubusercontent.com/PokeAPI/sprites/master/sprites/pokemon/92.png', 'description': 'ghost'}, 'Token No36': {'name': 'onix', 'image_link': 'https://raw.githubusercontent.com/PokeAPI/sprites/master/sprites/pokemon/95.png', 'description': 'rock'}, 'Token No37': {'name': 'drowzee', 'image_link': 'https://raw.githubusercontent.com/PokeAPI/sprites/master/sprites/pokemon/96.png', 'description': 'psychic'}, 'Token No38': {'name': 'krabby', 'image_link': 'https://raw.githubusercontent.com/PokeAPI/sprites/master/sprites/pokemon/98.png', 'description': 'water'}, 'Token No39': {'name': 'voltorb', 'image_link': 'https://raw.githubusercontent.com/PokeAPI/sprites/master/sprites/pokemon/100.png', 'description': 'electric'}, 'Token No40': {'name': 'exeggcute', 'image_link': 'https://raw.githubusercontent.com/PokeAPI/sprites/master/sprites/pokemon/102.png', 'description': 'grass'}, 'Token No41': {'name': 'cubone', 'image_link': 'https://raw.githubusercontent.com/PokeAPI/sprites/master/sprites/pokemon/104.png', 'description': 'ground'}, 'Token No42': {'name': 'hitmonlee', 'image_link': 'https://raw.githubusercontent.com/PokeAPI/sprites/master/sprites/pokemon/106.png', 'description': 'fighting'}, 'Token No43': {'name': 'lickitung', 'image_link': 'https://raw.githubusercontent.com/PokeAPI/sprites/master/sprites/pokemon/108.png', 'description': 'normal'}, 'Token No44': {'name': 'koffing', 'image_link': 'https://raw.githubusercontent.com/PokeAPI/sprites/master/sprites/pokemon/109.png', 'description': 'poison'}, 'Token No45': {'name': 'rhyhorn', 'image_link': 'https://raw.githubusercontent.com/PokeAPI/sprites/master/sprites/pokemon/111.png', 'description': 'ground'}, 'Token No46': {'name': 'tangela', 'image_link': 'https://raw.githubusercontent.com/PokeAPI/sprites/master/sprites/pokemon/114.png', 'description': 'grass'}, 'Token No47': {'name': 'kangaskhan', 'image_link': 'https://raw.githubusercontent.com/PokeAPI/sprites/master/sprites/pokemon/115.png', 'description': 'normal'}, 'Token No48': {'name': 'horsea', 'image_link': 'https://raw.githubusercontent.com/PokeAPI/sprites/master/sprites/pokemon/116.png', 'description': 'water'}, 'Token No49': {'name': 'goldeen', 'image_link': 'https://raw.githubusercontent.com/PokeAPI/sprites/master/sprites/pokemon/118.png', 'description': 'water'}, 'Token No50': {'name': 'staryu', 'image_link': 'https://raw.githubusercontent.com/PokeAPI/sprites/master/sprites/pokemon/120.png', 'description': 'water'}, 'Token No51': {'name': 'mr-mime', 'image_link': 'https://raw.githubusercontent.com/PokeAPI/sprites/master/sprites/pokemon/122.png', 'description': 'psychic'}, 'Token No52': {'name': 'scyther', 'image_link': 'https://raw.githubusercontent.com/PokeAPI/sprites/master/sprites/pokemon/123.png', 'description': 'bug'}, 'Token No53': {'name': 'jynx', 'image_link': 'https://raw.githubusercontent.com/PokeAPI/sprites/master/sprites/pokemon/124.png', 'description': 'ice'}, 'Token No54': {'name': 'electabuzz', 'image_link': 'https://raw.githubusercontent.com/PokeAPI/sprites/master/sprites/pokemon/125.png', 'description': 'electric'}, 'Token No55': {'name': 'magmar', 'image_link': 'https://raw.githubusercontent.com/PokeAPI/sprites/master/sprites/pokemon/126.png', 'description': 'fire'}, 'Token No56': {'name': 'pinsir', 'image_link': 'https://raw.githubusercontent.com/PokeAPI/sprites/master/sprites/pokemon/127.png', 'description': 'bug'}, 'Token No57': {'name': 'tauros', 'image_link': 'https://raw.githubusercontent.com/PokeAPI/sprites/master/sprites/pokemon/128.png', 'description': 'normal'}, 'Token No58': {'name': 'magikarp', 'image_link': 'https://raw.githubusercontent.com/PokeAPI/sprites/master/sprites/pokemon/129.png', 'description': 'water'}, 'Token No59': {'name': 'lapras', 'image_link': 'https://raw.githubusercontent.com/PokeAPI/sprites/master/sprites/pokemon/131.png', 'description': 'water'}, 'Token No60': {'name': 'ditto', 'image_link': 'https://raw.githubusercontent.com/PokeAPI/sprites/master/sprites/pokemon/132.png', 'description': 'normal'}, 'Token No61': {'name': 'eevee', 'image_link': 'https://raw.githubusercontent.com/PokeAPI/sprites/master/sprites/pokemon/133.png', 'description': 'normal'}, 'Token No62': {'name': 'porygon', 'image_link': 'https://raw.githubusercontent.com/PokeAPI/sprites/master/sprites/pokemon/137.png', 'description': 'normal'}, 'Token No63': {'name': 'omanyte', 'image_link': 'https://raw.githubusercontent.com/PokeAPI/sprites/master/sprites/pokemon/138.png', 'description': 'rock'}, 'Token No64': {'name': 'kabuto', 'image_link': 'https://raw.githubusercontent.com/PokeAPI/sprites/master/sprites/pokemon/140.png', 'description': 'rock'}, 'Token No65': {'name': 'aerodactyl', 'image_link': 'https://raw.githubusercontent.com/PokeAPI/sprites/master/sprites/pokemon/142.png', 'description': 'rock'}, 'Token No66': {'name': 'snorlax', 'image_link': 'https://raw.githubusercontent.com/PokeAPI/sprites/master/sprites/pokemon/143.png', 'description': 'normal'}, 'Token No67': {'name': 'articuno', 'image_link': 'https://raw.githubusercontent.com/PokeAPI/sprites/master/sprites/pokemon/144.png', 'description': 'ice'}, 'Token No68': {'name': 'zapdos', 'image_link': 'https://raw.githubusercontent.com/PokeAPI/sprites/master/sprites/pokemon/145.png', 'description': 'electric'}, 'Token No69': {'name': 'moltres', 'image_link': 'https://raw.githubusercontent.com/PokeAPI/sprites/master/sprites/pokemon/146.png', 'description': 'fire'}, 'Token No70': {'name': 'dratini', 'image_link': 'https://raw.githubusercontent.com/PokeAPI/sprites/master/sprites/pokemon/147.png', 'description': 'dragon'}, 'Token No71': {'name': 'mewtwo', 'image_link': 'https://raw.githubusercontent.com/PokeAPI/sprites/master/sprites/pokemon/150.png', 'description': 'psychic'}, 'Token No72': {'name': 'mew', 'image_link': 'https://raw.githubusercontent.com/PokeAPI/sprites/master/sprites/pokemon/151.png', 'description': 'psychic'}, 'Token No73': {'name': 'chikorita', 'image_link': 'https://raw.githubusercontent.com/PokeAPI/sprites/master/sprites/pokemon/152.png', 'description': 'grass'}, 'Token No74': {'name': 'cyndaquil', 'image_link': 'https://raw.githubusercontent.com/PokeAPI/sprites/master/sprites/pokemon/155.png', 'description': 'fire'}, 'Token No75': {'name': 'totodile', 'image_link': 'https://raw.githubusercontent.com/PokeAPI/sprites/master/sprites/pokemon/158.png', 'description': 'water'}, 'Token No76': {'name': 'sentret', 'image_link': 'https://raw.githubusercontent.com/PokeAPI/sprites/master/sprites/pokemon/161.png', 'description': 'normal'}, 'Token No77': {'name': 'hoothoot', 'image_link': 'https://raw.githubusercontent.com/PokeAPI/sprites/master/sprites/pokemon/163.png', 'description': 'normal'}, 'Token No78': {'name': 'ledyba', 'image_link': 'https://raw.githubusercontent.com/PokeAPI/sprites/master/sprites/pokemon/165.png', 'description': 'bug'}, 'Token No79': {'name': 'spinarak', 'image_link': 'https://raw.githubusercontent.com/PokeAPI/sprites/master/sprites/pokemon/167.png', 'description': 'bug'}, 'Token No80': {'name': 'chinchou', 'image_link': 'https://raw.githubusercontent.com/PokeAPI/sprites/master/sprites/pokemon/170.png', 'description': 'water'}, 'Token No81': {'name': 'pichu', 'image_link': 'https://raw.githubusercontent.com/PokeAPI/sprites/master/sprites/pokemon/172.png', 'description': 'electric'}, 'Token No82': {'name': 'cleffa', 'image_link': 'https://raw.githubusercontent.com/PokeAPI/sprites/master/sprites/pokemon/173.png', 'description': 'fairy'}, 'Token No83': {'name': 'igglybuff', 'image_link': 'https://raw.githubusercontent.com/PokeAPI/sprites/master/sprites/pokemon/174.png', 'description': 'normal'}, 'Token No84': {'name': 'togepi', 'image_link': 'https://raw.githubusercontent.com/PokeAPI/sprites/master/sprites/pokemon/175.png', 'description': 'fairy'}, 'Token No85': {'name': 'natu', 'image_link': 'https://raw.githubusercontent.com/PokeAPI/sprites/master/sprites/pokemon/177.png', 'description': 'psychic'}, 'Token No86': {'name': 'mareep', 'image_link': 'https://raw.githubusercontent.com/PokeAPI/sprites/master/sprites/pokemon/179.png', 'description': 'electric'}, 'Token No87': {'name': 'marill', 'image_link': 'https://raw.githubusercontent.com/PokeAPI/sprites/master/sprites/pokemon/183.png', 'description': 'water'}, 'Token No88': {'name': 'sudowoodo', 'image_link': 'https://raw.githubusercontent.com/PokeAPI/sprites/master/sprites/pokemon/185.png', 'description': 'rock'}, 'Token No89': {'name': 'hoppip', 'image_link': 'https://raw.githubusercontent.com/PokeAPI/sprites/master/sprites/pokemon/187.png', 'description': 'grass'}}\n",
      "Token No0\n",
      "Token No1\n",
      "Token No2\n",
      "Token No3\n",
      "Token No4\n",
      "Token No5\n",
      "Token No6\n",
      "Token No7\n",
      "Token No8\n",
      "Token No9\n",
      "Token No10\n",
      "Token No11\n",
      "Token No12\n",
      "Token No13\n",
      "Token No14\n",
      "Token No15\n",
      "Token No16\n",
      "Token No17\n",
      "Token No18\n",
      "Token No19\n",
      "Token No20\n",
      "Token No21\n",
      "Token No22\n",
      "Token No23\n",
      "Token No24\n",
      "Token No25\n",
      "Token No26\n",
      "Token No27\n",
      "Token No28\n",
      "Token No29\n",
      "Token No30\n",
      "Token No31\n",
      "Token No32\n",
      "Token No33\n",
      "Token No34\n",
      "Token No35\n",
      "Token No36\n",
      "Token No37\n",
      "Token No38\n",
      "Token No39\n",
      "Token No40\n",
      "Token No41\n",
      "Token No42\n",
      "Token No43\n",
      "Token No44\n",
      "Token No45\n",
      "Token No46\n",
      "Token No47\n",
      "Token No48\n",
      "Token No49\n",
      "Token No50\n",
      "Token No51\n",
      "Token No52\n",
      "Token No53\n",
      "Token No54\n",
      "Token No55\n",
      "Token No56\n",
      "Token No57\n",
      "Token No58\n",
      "Token No59\n",
      "Token No60\n",
      "Token No61\n",
      "Token No62\n",
      "Token No63\n",
      "Token No64\n",
      "Token No65\n",
      "Token No66\n",
      "Token No67\n",
      "Token No68\n",
      "Token No69\n",
      "Token No70\n",
      "Token No71\n",
      "Token No72\n",
      "Token No73\n",
      "Token No74\n",
      "Token No75\n",
      "Token No76\n",
      "Token No77\n",
      "Token No78\n",
      "Token No79\n",
      "Token No80\n",
      "Token No81\n",
      "Token No82\n",
      "Token No83\n",
      "Token No84\n",
      "Token No85\n",
      "Token No86\n",
      "Token No87\n",
      "Token No88\n",
      "Token No89\n"
     ]
    }
   ],
   "source": [
    "print(collection_nft.tokens)\n",
    "for token in collection_nft.tokens:\n",
    "    print(token)"
   ]
  },
  {
   "cell_type": "markdown",
   "metadata": {},
   "source": [
    "Each token must be linked with a unique image or a description of a game item"
   ]
  },
  {
   "cell_type": "code",
   "execution_count": 599,
   "metadata": {},
   "outputs": [
    {
     "data": {
      "text/plain": [
       "{'name': 'squirtle',\n",
       " 'image_link': 'https://raw.githubusercontent.com/PokeAPI/sprites/master/sprites/pokemon/7.png',\n",
       " 'description': 'water',\n",
       " 'owner': '30820122300d06092a864886f70d01010105000382010f003082010a0282010100b224e8dd2495122da56988dbcd8ea241d67448f6351afe04b316a20d9e6e2b5db74324997c923f3ad12c2a6d605422ff5632596c470de73c7078d1ff3b2bb9136a1329be22df4a2671d2569752fe694dd9d803af1c9f96b7fc17e0a0b869c6e08f32225644f86932ce87e824be83a4a1bfe3a50c6c1f0859800f16abccb994727224b759cd8f961a6c16a94d6d08f6e47917fa79eb9b359e52d71af9da861d88b3fd159515ebded5704c94ccfda4064c36aba4a05e82f0e3c6960359149c658d299198ee78655a2c2c89e2ec68c9e5309e74a3292372606878f91d210b4111a42f3c744aa51ca85e20e3768b28e75387f319deb14af5c9b509a96f18ee8311b90203010001'}"
      ]
     },
     "execution_count": 599,
     "metadata": {},
     "output_type": "execute_result"
    }
   ],
   "source": [
    "collection_nft.tokens['Token No3']"
   ]
  },
  {
   "cell_type": "code",
   "execution_count": null,
   "metadata": {},
   "outputs": [
    {
     "data": {
      "text/html": [
       "<img src=\"https://raw.githubusercontent.com/PokeAPI/sprites/master/sprites/pokemon/7.png\"/>"
      ],
      "text/plain": [
       "<IPython.core.display.Image object>"
      ]
     },
     "execution_count": 588,
     "metadata": {},
     "output_type": "execute_result"
    }
   ],
   "source": [
    "Image(url=collection_nft.tokens['Token No3']['image_link'])\n",
    "Image(url=collection_nft.tokens['Token No1']['image_link'])\n",
    "Image(url=collection_nft.tokens['Token No2']['image_link'])\n",
    "Image(url=collection_nft.tokens['Token No4']['image_link'])\n"
   ]
  }
 ],
 "metadata": {
  "kernelspec": {
   "display_name": "environment_anaconda_pj",
   "language": "python",
   "name": "python3"
  },
  "language_info": {
   "codemirror_mode": {
    "name": "ipython",
    "version": 3
   },
   "file_extension": ".py",
   "mimetype": "text/x-python",
   "name": "python",
   "nbconvert_exporter": "python",
   "pygments_lexer": "ipython3",
   "version": "3.12.4"
  }
 },
 "nbformat": 4,
 "nbformat_minor": 4
}
