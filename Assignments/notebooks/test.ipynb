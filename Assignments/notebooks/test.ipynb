{
 "cells": [
  {
   "cell_type": "code",
   "execution_count": 32,
   "metadata": {},
   "outputs": [
    {
     "name": "stdout",
     "output_type": "stream",
     "text": [
      "The autoreload extension is already loaded. To reload it, use:\n",
      "  %reload_ext autoreload\n"
     ]
    }
   ],
   "source": [
    "%load_ext autoreload\n",
    "%autoreload 2\n",
    "\n",
    "from sys import path\n",
    "\n",
    "path.append('../scripts')\n"
   ]
  },
  {
   "cell_type": "code",
   "execution_count": 33,
   "metadata": {},
   "outputs": [],
   "source": [
    "from CollectionNFT import Collection\n",
    "import requests\n",
    "from IPython.display import Image"
   ]
  },
  {
   "cell_type": "code",
   "execution_count": 34,
   "metadata": {},
   "outputs": [],
   "source": [
    "def get_pokemon_info(name):\n",
    "\n",
    "    base_url = \"https://pokeapi.co/api/v2/\"\n",
    "\n",
    "    url = f\"{base_url}/pokemon/{name}\"\n",
    "    response = requests.get(url)\n",
    "\n",
    "    if response.status_code == 200:\n",
    "\n",
    "        pokemon_info =  response.json()\n",
    "        url1 = pokemon_info[\"sprites\"]['front_default']\n",
    "        url2 = pokemon_info['types'][0]['type']['name']\n",
    "        \n",
    "        return [url1, url2]\n",
    "\n",
    "    else:\n",
    "        print(f\"Failed to retrieve data. Error {response.status_code}\")\n"
   ]
  },
  {
   "cell_type": "code",
   "execution_count": null,
   "metadata": {},
   "outputs": [],
   "source": [
    "CollectionA = Collection(\"George\", 10)"
   ]
  },
  {
   "cell_type": "code",
   "execution_count": null,
   "metadata": {},
   "outputs": [
    {
     "name": "stdout",
     "output_type": "stream",
     "text": [
      "Minting\n",
      "Minted !\n",
      "Minting\n",
      "Minted !\n",
      "Minting\n",
      "Minted !\n",
      "Minting\n",
      "Minted !\n",
      "Minting\n",
      "Minted !\n",
      "Minting\n",
      "Minted !\n",
      "Minting\n",
      "Minted !\n",
      "Minting\n",
      "Minted !\n",
      "Minting\n",
      "Minted !\n",
      "Minting\n",
      "Minted !\n",
      "Limit of tokens reached\n",
      "Limit of tokens reached\n"
     ]
    }
   ],
   "source": [
    "CollectionA.mint_token(CollectionA.CollectionOwner, get_pokemon_info(\"pikachu\")[0], get_pokemon_info(\"pikachu\")[1])\n",
    "CollectionA.mint_token(CollectionA.CollectionOwner, get_pokemon_info(\"bulbasaur\")[0], get_pokemon_info(\"bulbasaur\")[1])\n",
    "CollectionA.mint_token(CollectionA.CollectionOwner, get_pokemon_info(\"charmander\")[0], get_pokemon_info(\"charmander\")[1])\n",
    "CollectionA.mint_token(CollectionA.CollectionOwner, get_pokemon_info(\"squirtle\")[0], get_pokemon_info(\"squirtle\")[1])\n",
    "CollectionA.mint_token(CollectionA.CollectionOwner, get_pokemon_info(\"caterpie\")[0], get_pokemon_info(\"caterpie\")[1])\n",
    "CollectionA.mint_token(CollectionA.CollectionOwner, get_pokemon_info(\"pidgey\")[0], get_pokemon_info(\"pidgey\")[1])\n",
    "CollectionA.mint_token(CollectionA.CollectionOwner, get_pokemon_info(\"rattata\")[0], get_pokemon_info(\"rattata\")[1])\n",
    "CollectionA.mint_token(CollectionA.CollectionOwner, get_pokemon_info(\"spearow\")[0], get_pokemon_info(\"spearow\")[1])\n",
    "CollectionA.mint_token(CollectionA.CollectionOwner, get_pokemon_info(\"ekans\")[0], get_pokemon_info(\"ekans\")[1])\n",
    "CollectionA.mint_token(CollectionA.CollectionOwner, get_pokemon_info(\"sandshrew\")[0], get_pokemon_info(\"sandshrew\")[1])\n",
    "CollectionA.mint_token(CollectionA.CollectionOwner, get_pokemon_info(\"clefairy\")[0], get_pokemon_info(\"clefairy\")[1])\n",
    "CollectionA.mint_token(CollectionA.CollectionOwner, get_pokemon_info(\"vulpix\")[0], get_pokemon_info(\"vulpix\")[1])\n"
   ]
  },
  {
   "cell_type": "code",
   "execution_count": 13,
   "metadata": {},
   "outputs": [
    {
     "data": {
      "text/plain": [
       "{'Token No0': {'image_link': 'https://raw.githubusercontent.com/PokeAPI/sprites/master/sprites/pokemon/25.png',\n",
       "  'description': 'electric',\n",
       "  'can_be_exchanged': False,\n",
       "  'identifier': '59118dc5174852c28d73cfaaf7b5f3ebc957ca35d06854d5212cf01a06d91fd9',\n",
       "  'owner': 'George'},\n",
       " 'Token No1': {'image_link': 'https://raw.githubusercontent.com/PokeAPI/sprites/master/sprites/pokemon/1.png',\n",
       "  'description': 'grass',\n",
       "  'can_be_exchanged': True,\n",
       "  'identifier': 'd8fed864393e81a96f7c6587db5933f6f745715b9037550e21475ce1f32b5887',\n",
       "  'owner': 'George'},\n",
       " 'Token No2': {'image_link': 'https://raw.githubusercontent.com/PokeAPI/sprites/master/sprites/pokemon/4.png',\n",
       "  'description': 'fire',\n",
       "  'can_be_exchanged': False,\n",
       "  'identifier': 'e5e4e3f2623e4a45bd7f9b0da0630320672ad13e8efad08ea70c732a3092f63c',\n",
       "  'owner': 'George'},\n",
       " 'Token No3': {'image_link': 'https://raw.githubusercontent.com/PokeAPI/sprites/master/sprites/pokemon/7.png',\n",
       "  'description': 'water',\n",
       "  'can_be_exchanged': True,\n",
       "  'identifier': '289819341682e319d27e8e5f0c57e4f2ab315617b4c5ea97012df6a6ddb4e1b9',\n",
       "  'owner': 'George'},\n",
       " 'Token No4': {'image_link': 'https://raw.githubusercontent.com/PokeAPI/sprites/master/sprites/pokemon/10.png',\n",
       "  'description': 'bug',\n",
       "  'can_be_exchanged': False,\n",
       "  'identifier': '7cc56b3ea3ef370c4234a18fa664ee7e4a46d5686b8ea55ae0640cb7f646997c',\n",
       "  'owner': 'George'},\n",
       " 'Token No5': {'image_link': 'https://raw.githubusercontent.com/PokeAPI/sprites/master/sprites/pokemon/16.png',\n",
       "  'description': 'normal',\n",
       "  'can_be_exchanged': False,\n",
       "  'identifier': '7400e2199a6c21590c582e2afdc36a73caabc7c9aeabfcfaac254bafeb73dacf',\n",
       "  'owner': 'George'},\n",
       " 'Token No6': {'image_link': 'https://raw.githubusercontent.com/PokeAPI/sprites/master/sprites/pokemon/19.png',\n",
       "  'description': 'normal',\n",
       "  'can_be_exchanged': True,\n",
       "  'identifier': '696afe6b95a6978ccc0c699cff0a7fe07e85743b501ac3ed04f059dc14be2d41',\n",
       "  'owner': 'George'},\n",
       " 'Token No7': {'image_link': 'https://raw.githubusercontent.com/PokeAPI/sprites/master/sprites/pokemon/21.png',\n",
       "  'description': 'normal',\n",
       "  'can_be_exchanged': False,\n",
       "  'identifier': '2f6f3d16046c71f666089199e46feee401d2682ae96f21dd45cadfd5aaf834f4',\n",
       "  'owner': 'George'},\n",
       " 'Token No8': {'image_link': 'https://raw.githubusercontent.com/PokeAPI/sprites/master/sprites/pokemon/23.png',\n",
       "  'description': 'poison',\n",
       "  'can_be_exchanged': True,\n",
       "  'identifier': 'abfb70f12ac40d6c400e672a8a9e4e5bd5990a67d08f6c7e1197f16393769f71',\n",
       "  'owner': 'George'},\n",
       " 'Token No9': {'image_link': 'https://raw.githubusercontent.com/PokeAPI/sprites/master/sprites/pokemon/27.png',\n",
       "  'description': 'ground',\n",
       "  'can_be_exchanged': False,\n",
       "  'identifier': '594f20460e7a1c2817d15e229bc25cccf61f59b5583600b5c3ec3ecfc0a75b0e',\n",
       "  'owner': 'George'}}"
      ]
     },
     "execution_count": 13,
     "metadata": {},
     "output_type": "execute_result"
    }
   ],
   "source": [
    "CollectionA.display()"
   ]
  },
  {
   "cell_type": "code",
   "execution_count": 14,
   "metadata": {},
   "outputs": [],
   "source": [
    "CollectionA.change_ownership(\"Mike\",\"289819341682e319d27e8e5f0c57e4f2ab315617b4c5ea97012df6a6ddb4e1b9\")"
   ]
  },
  {
   "cell_type": "code",
   "execution_count": 15,
   "metadata": {},
   "outputs": [
    {
     "data": {
      "text/plain": [
       "{'image_link': 'https://raw.githubusercontent.com/PokeAPI/sprites/master/sprites/pokemon/7.png',\n",
       " 'description': 'water',\n",
       " 'can_be_exchanged': True,\n",
       " 'identifier': '289819341682e319d27e8e5f0c57e4f2ab315617b4c5ea97012df6a6ddb4e1b9',\n",
       " 'owner': 'Mike'}"
      ]
     },
     "execution_count": 15,
     "metadata": {},
     "output_type": "execute_result"
    }
   ],
   "source": [
    "CollectionA.display()['Token No3']"
   ]
  },
  {
   "cell_type": "code",
   "execution_count": 16,
   "metadata": {},
   "outputs": [
    {
     "data": {
      "text/html": [
       "<img src=\"https://raw.githubusercontent.com/PokeAPI/sprites/master/sprites/pokemon/10.png\"/>"
      ],
      "text/plain": [
       "<IPython.core.display.Image object>"
      ]
     },
     "execution_count": 16,
     "metadata": {},
     "output_type": "execute_result"
    }
   ],
   "source": [
    "Image(url=CollectionA.display()['Token No4']['image_link'])"
   ]
  },
  {
   "cell_type": "code",
   "execution_count": 30,
   "metadata": {},
   "outputs": [
    {
     "name": "stdout",
     "output_type": "stream",
     "text": [
      "Minting is open\n"
     ]
    }
   ],
   "source": [
    "CollectionA.open_minting(5)"
   ]
  },
  {
   "cell_type": "code",
   "execution_count": null,
   "metadata": {},
   "outputs": [
    {
     "name": "stdout",
     "output_type": "stream",
     "text": [
      "Minting is closed lol\n",
      "Minting is closed lol\n",
      "Minting is closed lol\n",
      "Minting is closed lol\n",
      "Minting is closed lol\n",
      "Minting is closed lol\n",
      "Minting is closed lol\n",
      "Minting is closed lol\n",
      "Minting is closed lol\n",
      "Minting is closed lol\n",
      "Minting is closed lol\n",
      "Minting is closed lol\n"
     ]
    }
   ],
   "source": [
    "CollectionA.mint_token(CollectionA.CollectionOwner, get_pokemon_info(\"pikachu\")[0], get_pokemon_info(\"pikachu\")[1])\n",
    "CollectionA.mint_token(CollectionA.CollectionOwner, get_pokemon_info(\"bulbasaur\")[0], get_pokemon_info(\"bulbasaur\")[1])\n",
    "CollectionA.mint_token(CollectionA.CollectionOwner, get_pokemon_info(\"charmander\")[0], get_pokemon_info(\"charmander\")[1])\n",
    "CollectionA.mint_token(CollectionA.CollectionOwner, get_pokemon_info(\"squirtle\")[0], get_pokemon_info(\"squirtle\")[1])\n",
    "CollectionA.mint_token(CollectionA.CollectionOwner, get_pokemon_info(\"caterpie\")[0], get_pokemon_info(\"caterpie\")[1])\n",
    "CollectionA.mint_token(CollectionA.CollectionOwner, get_pokemon_info(\"pidgey\")[0], get_pokemon_info(\"pidgey\")[1])\n",
    "CollectionA.mint_token(CollectionA.CollectionOwner, get_pokemon_info(\"rattata\")[0], get_pokemon_info(\"rattata\")[1])\n",
    "CollectionA.mint_token(CollectionA.CollectionOwner, get_pokemon_info(\"spearow\")[0], get_pokemon_info(\"spearow\")[1])\n",
    "CollectionA.mint_token(CollectionA.CollectionOwner, get_pokemon_info(\"ekans\")[0], get_pokemon_info(\"ekans\")[1])\n",
    "CollectionA.mint_token(CollectionA.CollectionOwner, get_pokemon_info(\"sandshrew\")[0], get_pokemon_info(\"sandshrew\")[1])\n",
    "CollectionA.mint_token(CollectionA.CollectionOwner, get_pokemon_info(\"clefairy\")[0], get_pokemon_info(\"clefairy\")[1])\n",
    "CollectionA.mint_token(CollectionA.CollectionOwner, get_pokemon_info(\"vulpix\")[0], get_pokemon_info(\"vulpix\")[1])\n",
    "\n"
   ]
  },
  {
   "cell_type": "code",
   "execution_count": 48,
   "metadata": {},
   "outputs": [
    {
     "name": "stdout",
     "output_type": "stream",
     "text": [
      "Minting is open\n",
      "Minting\n",
      "[{'identifier': 0, 'image_link': 'https://raw.githubusercontent.com/PokeAPI/sprites/master/sprites/pokemon/25.png', 'description': 'electric', 'owner': 'George'}]\n",
      "Minted !\n",
      "Minting\n",
      "[{'identifier': 0, 'image_link': 'https://raw.githubusercontent.com/PokeAPI/sprites/master/sprites/pokemon/25.png', 'description': 'electric', 'owner': 'George'}, {'identifier': 1, 'image_link': 'https://raw.githubusercontent.com/PokeAPI/sprites/master/sprites/pokemon/1.png', 'description': 'grass', 'owner': 'George'}]\n",
      "Minted !\n",
      "Minting\n",
      "[{'identifier': 0, 'image_link': 'https://raw.githubusercontent.com/PokeAPI/sprites/master/sprites/pokemon/25.png', 'description': 'electric', 'owner': 'George'}, {'identifier': 1, 'image_link': 'https://raw.githubusercontent.com/PokeAPI/sprites/master/sprites/pokemon/1.png', 'description': 'grass', 'owner': 'George'}, {'identifier': 2, 'image_link': 'https://raw.githubusercontent.com/PokeAPI/sprites/master/sprites/pokemon/4.png', 'description': 'fire', 'owner': 'George'}]\n",
      "Minted !\n",
      "Minting\n",
      "[{'identifier': 0, 'image_link': 'https://raw.githubusercontent.com/PokeAPI/sprites/master/sprites/pokemon/25.png', 'description': 'electric', 'owner': 'George'}, {'identifier': 1, 'image_link': 'https://raw.githubusercontent.com/PokeAPI/sprites/master/sprites/pokemon/1.png', 'description': 'grass', 'owner': 'George'}, {'identifier': 2, 'image_link': 'https://raw.githubusercontent.com/PokeAPI/sprites/master/sprites/pokemon/4.png', 'description': 'fire', 'owner': 'George'}, {'identifier': 3, 'image_link': 'https://raw.githubusercontent.com/PokeAPI/sprites/master/sprites/pokemon/7.png', 'description': 'water', 'owner': 'George'}]\n",
      "Minted !\n",
      "Minting\n",
      "[{'identifier': 0, 'image_link': 'https://raw.githubusercontent.com/PokeAPI/sprites/master/sprites/pokemon/25.png', 'description': 'electric', 'owner': 'George'}, {'identifier': 1, 'image_link': 'https://raw.githubusercontent.com/PokeAPI/sprites/master/sprites/pokemon/1.png', 'description': 'grass', 'owner': 'George'}, {'identifier': 2, 'image_link': 'https://raw.githubusercontent.com/PokeAPI/sprites/master/sprites/pokemon/4.png', 'description': 'fire', 'owner': 'George'}, {'identifier': 3, 'image_link': 'https://raw.githubusercontent.com/PokeAPI/sprites/master/sprites/pokemon/7.png', 'description': 'water', 'owner': 'George'}, {'identifier': 4, 'image_link': 'https://raw.githubusercontent.com/PokeAPI/sprites/master/sprites/pokemon/10.png', 'description': 'bug', 'owner': 'George'}]\n",
      "Minted !\n",
      "Minting\n",
      "[{'identifier': 0, 'image_link': 'https://raw.githubusercontent.com/PokeAPI/sprites/master/sprites/pokemon/25.png', 'description': 'electric', 'owner': 'George'}, {'identifier': 1, 'image_link': 'https://raw.githubusercontent.com/PokeAPI/sprites/master/sprites/pokemon/1.png', 'description': 'grass', 'owner': 'George'}, {'identifier': 2, 'image_link': 'https://raw.githubusercontent.com/PokeAPI/sprites/master/sprites/pokemon/4.png', 'description': 'fire', 'owner': 'George'}, {'identifier': 3, 'image_link': 'https://raw.githubusercontent.com/PokeAPI/sprites/master/sprites/pokemon/7.png', 'description': 'water', 'owner': 'George'}, {'identifier': 4, 'image_link': 'https://raw.githubusercontent.com/PokeAPI/sprites/master/sprites/pokemon/10.png', 'description': 'bug', 'owner': 'George'}, {'identifier': 5, 'image_link': 'https://raw.githubusercontent.com/PokeAPI/sprites/master/sprites/pokemon/16.png', 'description': 'normal', 'owner': 'George'}]\n",
      "Minted !\n",
      "Minting\n",
      "[{'identifier': 0, 'image_link': 'https://raw.githubusercontent.com/PokeAPI/sprites/master/sprites/pokemon/25.png', 'description': 'electric', 'owner': 'George'}, {'identifier': 1, 'image_link': 'https://raw.githubusercontent.com/PokeAPI/sprites/master/sprites/pokemon/1.png', 'description': 'grass', 'owner': 'George'}, {'identifier': 2, 'image_link': 'https://raw.githubusercontent.com/PokeAPI/sprites/master/sprites/pokemon/4.png', 'description': 'fire', 'owner': 'George'}, {'identifier': 3, 'image_link': 'https://raw.githubusercontent.com/PokeAPI/sprites/master/sprites/pokemon/7.png', 'description': 'water', 'owner': 'George'}, {'identifier': 4, 'image_link': 'https://raw.githubusercontent.com/PokeAPI/sprites/master/sprites/pokemon/10.png', 'description': 'bug', 'owner': 'George'}, {'identifier': 5, 'image_link': 'https://raw.githubusercontent.com/PokeAPI/sprites/master/sprites/pokemon/16.png', 'description': 'normal', 'owner': 'George'}, {'identifier': 6, 'image_link': 'https://raw.githubusercontent.com/PokeAPI/sprites/master/sprites/pokemon/19.png', 'description': 'normal', 'owner': 'George'}]\n",
      "Minted !\n",
      "Minting is closed\n",
      "Minting is closed\n",
      "Minting is closed\n",
      "Minting is closed\n",
      "Minting is closed\n"
     ]
    }
   ],
   "source": [
    "CollectionA = Collection(\"George\", 10)\n",
    "CollectionA.open_minting(1)\n",
    "CollectionA.mint_token(CollectionA.CollectionOwner, get_pokemon_info(\"pikachu\")[0], get_pokemon_info(\"pikachu\")[1])\n",
    "CollectionA.mint_token(CollectionA.CollectionOwner, get_pokemon_info(\"bulbasaur\")[0], get_pokemon_info(\"bulbasaur\")[1])\n",
    "CollectionA.mint_token(CollectionA.CollectionOwner, get_pokemon_info(\"charmander\")[0], get_pokemon_info(\"charmander\")[1])\n",
    "CollectionA.mint_token(CollectionA.CollectionOwner, get_pokemon_info(\"squirtle\")[0], get_pokemon_info(\"squirtle\")[1])\n",
    "CollectionA.mint_token(CollectionA.CollectionOwner, get_pokemon_info(\"caterpie\")[0], get_pokemon_info(\"caterpie\")[1])\n",
    "CollectionA.mint_token(CollectionA.CollectionOwner, get_pokemon_info(\"pidgey\")[0], get_pokemon_info(\"pidgey\")[1])\n",
    "CollectionA.mint_token(CollectionA.CollectionOwner, get_pokemon_info(\"rattata\")[0], get_pokemon_info(\"rattata\")[1])\n",
    "CollectionA.mint_token(CollectionA.CollectionOwner, get_pokemon_info(\"spearow\")[0], get_pokemon_info(\"spearow\")[1])\n",
    "CollectionA.mint_token(CollectionA.CollectionOwner, get_pokemon_info(\"ekans\")[0], get_pokemon_info(\"ekans\")[1])\n",
    "CollectionA.mint_token(CollectionA.CollectionOwner, get_pokemon_info(\"sandshrew\")[0], get_pokemon_info(\"sandshrew\")[1])\n",
    "CollectionA.mint_token(CollectionA.CollectionOwner, get_pokemon_info(\"clefairy\")[0], get_pokemon_info(\"clefairy\")[1])\n",
    "CollectionA.mint_token(CollectionA.CollectionOwner, get_pokemon_info(\"vulpix\")[0], get_pokemon_info(\"vulpix\")[1])\n"
   ]
  },
  {
   "cell_type": "code",
   "execution_count": null,
   "metadata": {},
   "outputs": [],
   "source": []
  }
 ],
 "metadata": {
  "kernelspec": {
   "display_name": "environment_anaconda_pj",
   "language": "python",
   "name": "python3"
  },
  "language_info": {
   "codemirror_mode": {
    "name": "ipython",
    "version": 3
   },
   "file_extension": ".py",
   "mimetype": "text/x-python",
   "name": "python",
   "nbconvert_exporter": "python",
   "pygments_lexer": "ipython3",
   "version": "3.12.4"
  }
 },
 "nbformat": 4,
 "nbformat_minor": 4
}
