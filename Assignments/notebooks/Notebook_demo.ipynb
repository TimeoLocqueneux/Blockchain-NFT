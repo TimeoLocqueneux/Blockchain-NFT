{
 "cells": [
  {
   "cell_type": "markdown",
   "metadata": {},
   "source": [
    "# Locqueneux Timéo, Le Rossignol Pierre-Jean, Bodin Titouan, Vandemeulebroucke Sacha"
   ]
  },
  {
   "cell_type": "code",
   "execution_count": 29,
   "metadata": {},
   "outputs": [
    {
     "name": "stdout",
     "output_type": "stream",
     "text": [
      "The autoreload extension is already loaded. To reload it, use:\n",
      "  %reload_ext autoreload\n"
     ]
    }
   ],
   "source": [
    "%load_ext autoreload\n",
    "%autoreload 2\n",
    "\n",
    "from sys import path\n",
    "\n",
    "path.append('../scripts')\n"
   ]
  },
  {
   "cell_type": "code",
   "execution_count": 30,
   "metadata": {},
   "outputs": [],
   "source": [
    "from IPython.display import Image"
   ]
  },
  {
   "cell_type": "markdown",
   "metadata": {},
   "source": [
    "# INITIALISATION"
   ]
  },
  {
   "cell_type": "code",
   "execution_count": 31,
   "metadata": {},
   "outputs": [],
   "source": [
    "from node import BlockchainNode\n",
    "from network import Node\n",
    "from wallet import Wallet\n",
    "from proof_of_stake import ProofOfStake\n",
    "\n",
    "walletNode1 = Wallet()\n",
    "walletNode2 = Wallet()\n",
    "walletNode3 = Wallet()\n",
    "\n",
    "walletAlice = Wallet()\n",
    "walletSacha = Wallet()\n",
    "walletTiméo = Wallet()\n",
    "\n",
    "\n",
    "pos = ProofOfStake(walletNode1.publicKey)\n",
    "\n",
    "def reset_blockchain():\n",
    "    Node.reset_network()\n",
    "    global node1, node2, node3\n",
    "    node1 = BlockchainNode(walletNode1, pos)\n",
    "    node2 = BlockchainNode(walletNode2, pos)\n",
    "    node3 = BlockchainNode(walletNode3, pos)\n",
    "\n",
    "\n"
   ]
  },
  {
   "cell_type": "markdown",
   "metadata": {},
   "source": [
    "# Smart contract importation"
   ]
  },
  {
   "cell_type": "code",
   "execution_count": 32,
   "metadata": {},
   "outputs": [],
   "source": [
    "from smart_contract import SmartContractDefinition, SmartContractWritingOperation\n",
    "from CollectionNFT import Collection\n",
    "from certificate import Certificate\n",
    "import inspect\n",
    "\n",
    "\n",
    "reset_blockchain()\n",
    "\n",
    "\n",
    "# collection : string du smart contract\n",
    "collection = inspect.getsource(Collection)\n",
    "dummySmartContractDefinition = SmartContractDefinition(walletAlice.publicKey, collection)\n",
    "walletAlice.sign(dummySmartContractDefinition)\n",
    "\n",
    "collection_nft = dummySmartContractDefinition.instantiate_collection(8)\n",
    "node1.new_certificate(dummySmartContractDefinition)\n",
    "\n",
    "\n",
    "\n"
   ]
  },
  {
   "cell_type": "markdown",
   "metadata": {},
   "source": [
    "Users can “mint” tokens under certain conditions :  \n",
    "- Once the limit of N has been reached, there is no minting allowed anymore. \n",
    "- There should be a “mint” period. The owner of the collection can open the collection"
   ]
  },
  {
   "cell_type": "code",
   "execution_count": 33,
   "metadata": {},
   "outputs": [
    {
     "name": "stdout",
     "output_type": "stream",
     "text": [
      "Minting is open\n",
      "Minted !\n",
      "ownership changed\n"
     ]
    }
   ],
   "source": [
    "open_minting_SmartContractWritingOperation = SmartContractWritingOperation(\n",
    "    walletAlice.publicKey,\n",
    "    dummySmartContractDefinition.hash(),\n",
    "    'open_minting',\n",
    "    [node1.blockchain.get_latest_block().indexInBlockchain,2]\n",
    ")\n",
    "walletAlice.sign(open_minting_SmartContractWritingOperation)\n",
    "open_minting_SmartContractWritingOperation.apply_on_contract(collection_nft)\n",
    "node1.new_certificate(open_minting_SmartContractWritingOperation)\n",
    "\n",
    "\n",
    "for i in range(4):\n",
    "    certificate = Certificate(walletAlice.publicKey)\n",
    "    walletAlice.sign(certificate)\n",
    "    node1.new_certificate(certificate)\n",
    "\n",
    "    \n",
    "\n",
    "mint_token_SmartContractWritingOperation = SmartContractWritingOperation(\n",
    "    walletAlice.publicKey,\n",
    "    dummySmartContractDefinition.hash(),\n",
    "    'mint_token',\n",
    "    [node1.blockchain.get_latest_block().indexInBlockchain]\n",
    ")\n",
    "walletAlice.sign(mint_token_SmartContractWritingOperation)\n",
    "mint_token_SmartContractWritingOperation.apply_on_contract(collection_nft)\n",
    "node1.new_certificate(mint_token_SmartContractWritingOperation)\n",
    "\n",
    "\n",
    "for i in range(4):\n",
    "    certificate = Certificate(walletAlice.publicKey)\n",
    "    walletAlice.sign(certificate)\n",
    "    node1.new_certificate(certificate)"
   ]
  },
  {
   "cell_type": "markdown",
   "metadata": {},
   "source": [
    "# Mint period with number of blocks"
   ]
  },
  {
   "cell_type": "code",
   "execution_count": 34,
   "metadata": {},
   "outputs": [
    {
     "name": "stdout",
     "output_type": "stream",
     "text": [
      "Minting is closed\n"
     ]
    }
   ],
   "source": [
    "\n",
    "for i in range(15):\n",
    "    certificate = Certificate(walletAlice.publicKey)\n",
    "    walletAlice.sign(certificate)\n",
    "    node1.new_certificate(certificate)\n",
    "\n",
    "mint_token_SmartContractWritingOperation = SmartContractWritingOperation(\n",
    "walletAlice.publicKey,\n",
    "dummySmartContractDefinition.hash(),\n",
    "'mint_token',\n",
    "[node1.blockchain.get_latest_block().indexInBlockchain]\n",
    ")\n",
    "walletAlice.sign(mint_token_SmartContractWritingOperation)\n",
    "mint_token_SmartContractWritingOperation.apply_on_contract(collection_nft)\n",
    "node1.new_certificate(mint_token_SmartContractWritingOperation)\n"
   ]
  },
  {
   "cell_type": "markdown",
   "metadata": {},
   "source": [
    "# Limit of N tokens"
   ]
  },
  {
   "cell_type": "code",
   "execution_count": 35,
   "metadata": {},
   "outputs": [
    {
     "name": "stdout",
     "output_type": "stream",
     "text": [
      "Minting is open\n",
      "Minted !\n",
      "ownership changed\n",
      "Minted !\n",
      "ownership changed\n",
      "Minted !\n",
      "ownership changed\n",
      "Minted !\n",
      "ownership changed\n",
      "Minted !\n",
      "ownership changed\n",
      "Minted !\n",
      "ownership changed\n",
      "Minted !\n",
      "ownership changed\n",
      "Limit of tokens reached\n",
      "ownership changed\n",
      "Limit of tokens reached\n",
      "ownership changed\n",
      "Limit of tokens reached\n",
      "ownership changed\n"
     ]
    }
   ],
   "source": [
    "open_minting_SmartContractWritingOperation = SmartContractWritingOperation(\n",
    "    walletAlice.publicKey,\n",
    "    dummySmartContractDefinition.hash(),\n",
    "    'open_minting',\n",
    "    [node1.blockchain.get_latest_block().indexInBlockchain,10]\n",
    ")\n",
    "walletAlice.sign(open_minting_SmartContractWritingOperation)\n",
    "open_minting_SmartContractWritingOperation.apply_on_contract(collection_nft)\n",
    "node1.new_certificate(open_minting_SmartContractWritingOperation)\n",
    "\n",
    "\n",
    "for i in range(4):\n",
    "    certificate = Certificate(walletAlice.publicKey)\n",
    "    walletAlice.sign(certificate)\n",
    "    node1.new_certificate(certificate)\n",
    "\n",
    "\n",
    "\n",
    "    \n",
    "\n",
    "mint_token_SmartContractWritingOperation = SmartContractWritingOperation(\n",
    "    walletAlice.publicKey,\n",
    "    dummySmartContractDefinition.hash(),\n",
    "    'mint_token',\n",
    "    [node1.blockchain.get_latest_block().indexInBlockchain]\n",
    ")\n",
    "\n",
    "for i in range (10):\n",
    "    walletAlice.sign(mint_token_SmartContractWritingOperation)\n",
    "    mint_token_SmartContractWritingOperation.apply_on_contract(collection_nft)\n",
    "    node1.new_certificate(mint_token_SmartContractWritingOperation)\n",
    "\n",
    "\n",
    "    for i in range(4):\n",
    "        certificate = Certificate(walletAlice.publicKey)\n",
    "        walletAlice.sign(certificate)\n",
    "        node1.new_certificate(certificate)\n"
   ]
  },
  {
   "cell_type": "markdown",
   "metadata": {},
   "source": [
    "# Users can exchange ownership of their tokens"
   ]
  },
  {
   "cell_type": "code",
   "execution_count": 36,
   "metadata": {},
   "outputs": [
    {
     "name": "stdout",
     "output_type": "stream",
     "text": [
      "ownership changed\n"
     ]
    }
   ],
   "source": [
    "change_ownership_SmartContractWritingOperation = SmartContractWritingOperation(\n",
    "    walletAlice.publicKey,\n",
    "    dummySmartContractDefinition.hash(),\n",
    "    'change_ownership',\n",
    "    [1,walletTiméo.publicKey]\n",
    ")\n",
    "\n",
    "walletAlice.sign(change_ownership_SmartContractWritingOperation)\n",
    "change_ownership_SmartContractWritingOperation.apply_on_contract(collection_nft)\n",
    "node1.new_certificate(change_ownership_SmartContractWritingOperation)\n",
    "\n",
    "\n",
    "for i in range(4):\n",
    "    certificate = Certificate(walletAlice.publicKey)\n",
    "    walletAlice.sign(certificate)\n",
    "    node1.new_certificate(certificate)"
   ]
  },
  {
   "cell_type": "code",
   "execution_count": 37,
   "metadata": {},
   "outputs": [
    {
     "name": "stdout",
     "output_type": "stream",
     "text": [
      "Minting is open\n",
      "Minted !\n",
      "ownership changed\n",
      "Minting is closed\n",
      "Minting is open\n",
      "Minted !\n",
      "ownership changed\n",
      "ownership changed\n",
      "\n",
      " token number  1  has public key : dd519d2b71428af2\n",
      "Timéo's wallet :       dd519d2b71428af2\n",
      "ownership changed\n",
      "Minting is open\n",
      "Minted !\n",
      "ownership changed\n",
      "Minting is closed\n",
      "Minting is open\n",
      "Minted !\n",
      "ownership changed\n",
      "ownership changed\n",
      "ownership changed\n",
      "\n",
      " token number  1  has public key : 228ee435d7343ca6\n",
      "Sacha's wallet :     228ee435d7343ca6\n"
     ]
    }
   ],
   "source": [
    "def get_token_owner(token_number, smart_contract, node):\n",
    "    smartContractObject = SmartContractDefinition.get_smart_contract_at_current_state(\n",
    "    node.blockchain,\n",
    "    smart_contract.hash())\n",
    "    print('\\n','token number ', token_number, ' has public key :', smartContractObject.tokens[f'Token No{token_number}']['owner'][256:272])\n",
    "\n",
    "get_token_owner(1, dummySmartContractDefinition, node1)\n",
    "print(\"Timéo's wallet :      \",walletTiméo.publicKey[256:272])\n",
    "\n",
    "change_ownership_SmartContractWritingOperation = SmartContractWritingOperation(\n",
    "    walletTiméo.publicKey,\n",
    "    dummySmartContractDefinition.hash(),\n",
    "    'change_ownership',\n",
    "    [1,walletSacha.publicKey]\n",
    ")\n",
    "walletTiméo.sign(change_ownership_SmartContractWritingOperation)\n",
    "change_ownership_SmartContractWritingOperation.apply_on_contract(collection_nft)\n",
    "node1.new_certificate(change_ownership_SmartContractWritingOperation)\n",
    "\n",
    "\n",
    "for i in range(4):\n",
    "    certificate = Certificate(walletAlice.publicKey)\n",
    "    walletAlice.sign(certificate)\n",
    "    node1.new_certificate(certificate)\n",
    "\n",
    "\n",
    "get_token_owner(1, dummySmartContractDefinition, node1)\n",
    "print(\"Sacha's wallet :    \",walletSacha.publicKey[256:272])"
   ]
  },
  {
   "cell_type": "markdown",
   "metadata": {},
   "source": [
    "# Create a collection of N tokens that all have a distinguishable identifier"
   ]
  },
  {
   "cell_type": "code",
   "execution_count": 38,
   "metadata": {},
   "outputs": [
    {
     "name": "stdout",
     "output_type": "stream",
     "text": [
      "{'Token No0': {'name': 'pikachu', 'image_link': 'https://raw.githubusercontent.com/PokeAPI/sprites/master/sprites/pokemon/25.png', 'description': 'electric'}, 'Token No1': {'name': 'bulbasaur', 'image_link': 'https://raw.githubusercontent.com/PokeAPI/sprites/master/sprites/pokemon/1.png', 'description': 'grass', 'owner': '30820122300d06092a864886f70d01010105000382010f003082010a02820101009bf0e3dba24cd106b59f045f57e2b8b083404d3cddc11a50a71738f650f3f782e25ab1e6754bee03d0505f489f1b5fb3471702b01ae90129c71d75e827b35fe5f5eb1115fcb9d8be92c4f8a6bbe417942b4876a7cd8f9fe898fb0705c5826e228ee435d7343ca6ac77ccbf05f378c0c9d92f1d0bd5cac1f64ddd652e69ebb94844d259fb2e1b852b6cd8af78ca8f6e2575473648dc77a2384debe44d009a939f7fc7073648b43b492abfc48c56e4cc518dfb94519257a1027c19fe4793e6c3ba5610a1bf3b3a05295db692e4925ed6881292744f3d9670993b9163ea4cb423bbb3457a111e6010ebfd0b62ad79105417801cbe8f432f629cb520719c62fade150203010001'}, 'Token No2': {'name': 'charmander', 'image_link': 'https://raw.githubusercontent.com/PokeAPI/sprites/master/sprites/pokemon/4.png', 'description': 'fire', 'owner': '30820122300d06092a864886f70d01010105000382010f003082010a028201010090553389d69c622cba73c790b6acbb9ac5cb93be8f135e5ff632323e3ffdbe6d76e0b91d651eed825e3813f853eb63d9d38f772a7e87264987d373ea969aa698974e687ef1dba1011a72c13cdc43ed9483be2bd70050b1b85f9ebd2c047e0de8c41d443599b680fd16c4c7a8ad16dabb41d35e9628607e4b283b96197a886b04d632145f8509c98c2c2ff1c9f694771337e61cddc0de67a28b492b49929ef0322b8400feb6270747ed8ebb9cc8daab01b50712c1996ae7c812516404630220ec6874e1826eeece948a248e66144cfc46ef1451752b9677c92e744eb3105e3e5c4a82fba68fe59a448ff548e7d22061751cd6f40ed9540616c9b6aac135fd0ca70203010001'}, 'Token No3': {'name': 'squirtle', 'image_link': 'https://raw.githubusercontent.com/PokeAPI/sprites/master/sprites/pokemon/7.png', 'description': 'water', 'owner': '30820122300d06092a864886f70d01010105000382010f003082010a028201010090553389d69c622cba73c790b6acbb9ac5cb93be8f135e5ff632323e3ffdbe6d76e0b91d651eed825e3813f853eb63d9d38f772a7e87264987d373ea969aa698974e687ef1dba1011a72c13cdc43ed9483be2bd70050b1b85f9ebd2c047e0de8c41d443599b680fd16c4c7a8ad16dabb41d35e9628607e4b283b96197a886b04d632145f8509c98c2c2ff1c9f694771337e61cddc0de67a28b492b49929ef0322b8400feb6270747ed8ebb9cc8daab01b50712c1996ae7c812516404630220ec6874e1826eeece948a248e66144cfc46ef1451752b9677c92e744eb3105e3e5c4a82fba68fe59a448ff548e7d22061751cd6f40ed9540616c9b6aac135fd0ca70203010001'}, 'Token No4': {'name': 'caterpie', 'image_link': 'https://raw.githubusercontent.com/PokeAPI/sprites/master/sprites/pokemon/10.png', 'description': 'bug', 'owner': '30820122300d06092a864886f70d01010105000382010f003082010a028201010090553389d69c622cba73c790b6acbb9ac5cb93be8f135e5ff632323e3ffdbe6d76e0b91d651eed825e3813f853eb63d9d38f772a7e87264987d373ea969aa698974e687ef1dba1011a72c13cdc43ed9483be2bd70050b1b85f9ebd2c047e0de8c41d443599b680fd16c4c7a8ad16dabb41d35e9628607e4b283b96197a886b04d632145f8509c98c2c2ff1c9f694771337e61cddc0de67a28b492b49929ef0322b8400feb6270747ed8ebb9cc8daab01b50712c1996ae7c812516404630220ec6874e1826eeece948a248e66144cfc46ef1451752b9677c92e744eb3105e3e5c4a82fba68fe59a448ff548e7d22061751cd6f40ed9540616c9b6aac135fd0ca70203010001'}, 'Token No5': {'name': 'pidgey', 'image_link': 'https://raw.githubusercontent.com/PokeAPI/sprites/master/sprites/pokemon/16.png', 'description': 'normal', 'owner': '30820122300d06092a864886f70d01010105000382010f003082010a028201010090553389d69c622cba73c790b6acbb9ac5cb93be8f135e5ff632323e3ffdbe6d76e0b91d651eed825e3813f853eb63d9d38f772a7e87264987d373ea969aa698974e687ef1dba1011a72c13cdc43ed9483be2bd70050b1b85f9ebd2c047e0de8c41d443599b680fd16c4c7a8ad16dabb41d35e9628607e4b283b96197a886b04d632145f8509c98c2c2ff1c9f694771337e61cddc0de67a28b492b49929ef0322b8400feb6270747ed8ebb9cc8daab01b50712c1996ae7c812516404630220ec6874e1826eeece948a248e66144cfc46ef1451752b9677c92e744eb3105e3e5c4a82fba68fe59a448ff548e7d22061751cd6f40ed9540616c9b6aac135fd0ca70203010001'}, 'Token No6': {'name': 'rattata', 'image_link': 'https://raw.githubusercontent.com/PokeAPI/sprites/master/sprites/pokemon/19.png', 'description': 'normal', 'owner': '30820122300d06092a864886f70d01010105000382010f003082010a028201010090553389d69c622cba73c790b6acbb9ac5cb93be8f135e5ff632323e3ffdbe6d76e0b91d651eed825e3813f853eb63d9d38f772a7e87264987d373ea969aa698974e687ef1dba1011a72c13cdc43ed9483be2bd70050b1b85f9ebd2c047e0de8c41d443599b680fd16c4c7a8ad16dabb41d35e9628607e4b283b96197a886b04d632145f8509c98c2c2ff1c9f694771337e61cddc0de67a28b492b49929ef0322b8400feb6270747ed8ebb9cc8daab01b50712c1996ae7c812516404630220ec6874e1826eeece948a248e66144cfc46ef1451752b9677c92e744eb3105e3e5c4a82fba68fe59a448ff548e7d22061751cd6f40ed9540616c9b6aac135fd0ca70203010001'}, 'Token No7': {'name': 'spearow', 'image_link': 'https://raw.githubusercontent.com/PokeAPI/sprites/master/sprites/pokemon/21.png', 'description': 'normal', 'owner': '30820122300d06092a864886f70d01010105000382010f003082010a028201010090553389d69c622cba73c790b6acbb9ac5cb93be8f135e5ff632323e3ffdbe6d76e0b91d651eed825e3813f853eb63d9d38f772a7e87264987d373ea969aa698974e687ef1dba1011a72c13cdc43ed9483be2bd70050b1b85f9ebd2c047e0de8c41d443599b680fd16c4c7a8ad16dabb41d35e9628607e4b283b96197a886b04d632145f8509c98c2c2ff1c9f694771337e61cddc0de67a28b492b49929ef0322b8400feb6270747ed8ebb9cc8daab01b50712c1996ae7c812516404630220ec6874e1826eeece948a248e66144cfc46ef1451752b9677c92e744eb3105e3e5c4a82fba68fe59a448ff548e7d22061751cd6f40ed9540616c9b6aac135fd0ca70203010001'}, 'Token No8': {'name': 'ekans', 'image_link': 'https://raw.githubusercontent.com/PokeAPI/sprites/master/sprites/pokemon/23.png', 'description': 'poison', 'owner': '30820122300d06092a864886f70d01010105000382010f003082010a028201010090553389d69c622cba73c790b6acbb9ac5cb93be8f135e5ff632323e3ffdbe6d76e0b91d651eed825e3813f853eb63d9d38f772a7e87264987d373ea969aa698974e687ef1dba1011a72c13cdc43ed9483be2bd70050b1b85f9ebd2c047e0de8c41d443599b680fd16c4c7a8ad16dabb41d35e9628607e4b283b96197a886b04d632145f8509c98c2c2ff1c9f694771337e61cddc0de67a28b492b49929ef0322b8400feb6270747ed8ebb9cc8daab01b50712c1996ae7c812516404630220ec6874e1826eeece948a248e66144cfc46ef1451752b9677c92e744eb3105e3e5c4a82fba68fe59a448ff548e7d22061751cd6f40ed9540616c9b6aac135fd0ca70203010001'}, 'Token No9': {'name': 'sandshrew', 'image_link': 'https://raw.githubusercontent.com/PokeAPI/sprites/master/sprites/pokemon/27.png', 'description': 'ground'}, 'Token No10': {'name': 'clefairy', 'image_link': 'https://raw.githubusercontent.com/PokeAPI/sprites/master/sprites/pokemon/35.png', 'description': 'fairy'}, 'Token No11': {'name': 'vulpix', 'image_link': 'https://raw.githubusercontent.com/PokeAPI/sprites/master/sprites/pokemon/37.png', 'description': 'fire'}, 'Token No12': {'name': 'jigglypuff', 'image_link': 'https://raw.githubusercontent.com/PokeAPI/sprites/master/sprites/pokemon/39.png', 'description': 'normal'}, 'Token No13': {'name': 'zubat', 'image_link': 'https://raw.githubusercontent.com/PokeAPI/sprites/master/sprites/pokemon/41.png', 'description': 'poison'}, 'Token No14': {'name': 'oddish', 'image_link': 'https://raw.githubusercontent.com/PokeAPI/sprites/master/sprites/pokemon/43.png', 'description': 'grass'}, 'Token No15': {'name': 'paras', 'image_link': 'https://raw.githubusercontent.com/PokeAPI/sprites/master/sprites/pokemon/46.png', 'description': 'bug'}, 'Token No16': {'name': 'venonat', 'image_link': 'https://raw.githubusercontent.com/PokeAPI/sprites/master/sprites/pokemon/48.png', 'description': 'bug'}, 'Token No17': {'name': 'diglett', 'image_link': 'https://raw.githubusercontent.com/PokeAPI/sprites/master/sprites/pokemon/50.png', 'description': 'ground'}, 'Token No18': {'name': 'meowth', 'image_link': 'https://raw.githubusercontent.com/PokeAPI/sprites/master/sprites/pokemon/52.png', 'description': 'normal'}, 'Token No19': {'name': 'psyduck', 'image_link': 'https://raw.githubusercontent.com/PokeAPI/sprites/master/sprites/pokemon/54.png', 'description': 'water'}, 'Token No20': {'name': 'mankey', 'image_link': 'https://raw.githubusercontent.com/PokeAPI/sprites/master/sprites/pokemon/56.png', 'description': 'fighting'}, 'Token No21': {'name': 'growlithe', 'image_link': 'https://raw.githubusercontent.com/PokeAPI/sprites/master/sprites/pokemon/58.png', 'description': 'fire'}, 'Token No22': {'name': 'poliwag', 'image_link': 'https://raw.githubusercontent.com/PokeAPI/sprites/master/sprites/pokemon/60.png', 'description': 'water'}, 'Token No23': {'name': 'abra', 'image_link': 'https://raw.githubusercontent.com/PokeAPI/sprites/master/sprites/pokemon/63.png', 'description': 'psychic'}, 'Token No24': {'name': 'machop', 'image_link': 'https://raw.githubusercontent.com/PokeAPI/sprites/master/sprites/pokemon/66.png', 'description': 'fighting'}, 'Token No25': {'name': 'bellsprout', 'image_link': 'https://raw.githubusercontent.com/PokeAPI/sprites/master/sprites/pokemon/69.png', 'description': 'grass'}, 'Token No26': {'name': 'tentacool', 'image_link': 'https://raw.githubusercontent.com/PokeAPI/sprites/master/sprites/pokemon/72.png', 'description': 'water'}, 'Token No27': {'name': 'geodude', 'image_link': 'https://raw.githubusercontent.com/PokeAPI/sprites/master/sprites/pokemon/74.png', 'description': 'rock'}, 'Token No28': {'name': 'ponyta', 'image_link': 'https://raw.githubusercontent.com/PokeAPI/sprites/master/sprites/pokemon/77.png', 'description': 'fire'}, 'Token No29': {'name': 'slowpoke', 'image_link': 'https://raw.githubusercontent.com/PokeAPI/sprites/master/sprites/pokemon/79.png', 'description': 'water'}, 'Token No30': {'name': 'magnemite', 'image_link': 'https://raw.githubusercontent.com/PokeAPI/sprites/master/sprites/pokemon/81.png', 'description': 'electric'}, 'Token No31': {'name': 'doduo', 'image_link': 'https://raw.githubusercontent.com/PokeAPI/sprites/master/sprites/pokemon/84.png', 'description': 'normal'}, 'Token No32': {'name': 'seel', 'image_link': 'https://raw.githubusercontent.com/PokeAPI/sprites/master/sprites/pokemon/86.png', 'description': 'water'}, 'Token No33': {'name': 'grimer', 'image_link': 'https://raw.githubusercontent.com/PokeAPI/sprites/master/sprites/pokemon/88.png', 'description': 'poison'}, 'Token No34': {'name': 'shellder', 'image_link': 'https://raw.githubusercontent.com/PokeAPI/sprites/master/sprites/pokemon/90.png', 'description': 'water'}, 'Token No35': {'name': 'gastly', 'image_link': 'https://raw.githubusercontent.com/PokeAPI/sprites/master/sprites/pokemon/92.png', 'description': 'ghost'}, 'Token No36': {'name': 'onix', 'image_link': 'https://raw.githubusercontent.com/PokeAPI/sprites/master/sprites/pokemon/95.png', 'description': 'rock'}, 'Token No37': {'name': 'drowzee', 'image_link': 'https://raw.githubusercontent.com/PokeAPI/sprites/master/sprites/pokemon/96.png', 'description': 'psychic'}, 'Token No38': {'name': 'krabby', 'image_link': 'https://raw.githubusercontent.com/PokeAPI/sprites/master/sprites/pokemon/98.png', 'description': 'water'}, 'Token No39': {'name': 'voltorb', 'image_link': 'https://raw.githubusercontent.com/PokeAPI/sprites/master/sprites/pokemon/100.png', 'description': 'electric'}, 'Token No40': {'name': 'exeggcute', 'image_link': 'https://raw.githubusercontent.com/PokeAPI/sprites/master/sprites/pokemon/102.png', 'description': 'grass'}, 'Token No41': {'name': 'cubone', 'image_link': 'https://raw.githubusercontent.com/PokeAPI/sprites/master/sprites/pokemon/104.png', 'description': 'ground'}, 'Token No42': {'name': 'hitmonlee', 'image_link': 'https://raw.githubusercontent.com/PokeAPI/sprites/master/sprites/pokemon/106.png', 'description': 'fighting'}, 'Token No43': {'name': 'lickitung', 'image_link': 'https://raw.githubusercontent.com/PokeAPI/sprites/master/sprites/pokemon/108.png', 'description': 'normal'}, 'Token No44': {'name': 'koffing', 'image_link': 'https://raw.githubusercontent.com/PokeAPI/sprites/master/sprites/pokemon/109.png', 'description': 'poison'}, 'Token No45': {'name': 'rhyhorn', 'image_link': 'https://raw.githubusercontent.com/PokeAPI/sprites/master/sprites/pokemon/111.png', 'description': 'ground'}, 'Token No46': {'name': 'tangela', 'image_link': 'https://raw.githubusercontent.com/PokeAPI/sprites/master/sprites/pokemon/114.png', 'description': 'grass'}, 'Token No47': {'name': 'kangaskhan', 'image_link': 'https://raw.githubusercontent.com/PokeAPI/sprites/master/sprites/pokemon/115.png', 'description': 'normal'}, 'Token No48': {'name': 'horsea', 'image_link': 'https://raw.githubusercontent.com/PokeAPI/sprites/master/sprites/pokemon/116.png', 'description': 'water'}, 'Token No49': {'name': 'goldeen', 'image_link': 'https://raw.githubusercontent.com/PokeAPI/sprites/master/sprites/pokemon/118.png', 'description': 'water'}, 'Token No50': {'name': 'staryu', 'image_link': 'https://raw.githubusercontent.com/PokeAPI/sprites/master/sprites/pokemon/120.png', 'description': 'water'}, 'Token No51': {'name': 'mr-mime', 'image_link': 'https://raw.githubusercontent.com/PokeAPI/sprites/master/sprites/pokemon/122.png', 'description': 'psychic'}, 'Token No52': {'name': 'scyther', 'image_link': 'https://raw.githubusercontent.com/PokeAPI/sprites/master/sprites/pokemon/123.png', 'description': 'bug'}, 'Token No53': {'name': 'jynx', 'image_link': 'https://raw.githubusercontent.com/PokeAPI/sprites/master/sprites/pokemon/124.png', 'description': 'ice'}, 'Token No54': {'name': 'electabuzz', 'image_link': 'https://raw.githubusercontent.com/PokeAPI/sprites/master/sprites/pokemon/125.png', 'description': 'electric'}, 'Token No55': {'name': 'magmar', 'image_link': 'https://raw.githubusercontent.com/PokeAPI/sprites/master/sprites/pokemon/126.png', 'description': 'fire'}, 'Token No56': {'name': 'pinsir', 'image_link': 'https://raw.githubusercontent.com/PokeAPI/sprites/master/sprites/pokemon/127.png', 'description': 'bug'}, 'Token No57': {'name': 'tauros', 'image_link': 'https://raw.githubusercontent.com/PokeAPI/sprites/master/sprites/pokemon/128.png', 'description': 'normal'}, 'Token No58': {'name': 'magikarp', 'image_link': 'https://raw.githubusercontent.com/PokeAPI/sprites/master/sprites/pokemon/129.png', 'description': 'water'}, 'Token No59': {'name': 'lapras', 'image_link': 'https://raw.githubusercontent.com/PokeAPI/sprites/master/sprites/pokemon/131.png', 'description': 'water'}, 'Token No60': {'name': 'ditto', 'image_link': 'https://raw.githubusercontent.com/PokeAPI/sprites/master/sprites/pokemon/132.png', 'description': 'normal'}, 'Token No61': {'name': 'eevee', 'image_link': 'https://raw.githubusercontent.com/PokeAPI/sprites/master/sprites/pokemon/133.png', 'description': 'normal'}, 'Token No62': {'name': 'porygon', 'image_link': 'https://raw.githubusercontent.com/PokeAPI/sprites/master/sprites/pokemon/137.png', 'description': 'normal'}, 'Token No63': {'name': 'omanyte', 'image_link': 'https://raw.githubusercontent.com/PokeAPI/sprites/master/sprites/pokemon/138.png', 'description': 'rock'}, 'Token No64': {'name': 'kabuto', 'image_link': 'https://raw.githubusercontent.com/PokeAPI/sprites/master/sprites/pokemon/140.png', 'description': 'rock'}, 'Token No65': {'name': 'aerodactyl', 'image_link': 'https://raw.githubusercontent.com/PokeAPI/sprites/master/sprites/pokemon/142.png', 'description': 'rock'}, 'Token No66': {'name': 'snorlax', 'image_link': 'https://raw.githubusercontent.com/PokeAPI/sprites/master/sprites/pokemon/143.png', 'description': 'normal'}, 'Token No67': {'name': 'articuno', 'image_link': 'https://raw.githubusercontent.com/PokeAPI/sprites/master/sprites/pokemon/144.png', 'description': 'ice'}, 'Token No68': {'name': 'zapdos', 'image_link': 'https://raw.githubusercontent.com/PokeAPI/sprites/master/sprites/pokemon/145.png', 'description': 'electric'}, 'Token No69': {'name': 'moltres', 'image_link': 'https://raw.githubusercontent.com/PokeAPI/sprites/master/sprites/pokemon/146.png', 'description': 'fire'}, 'Token No70': {'name': 'dratini', 'image_link': 'https://raw.githubusercontent.com/PokeAPI/sprites/master/sprites/pokemon/147.png', 'description': 'dragon'}, 'Token No71': {'name': 'mewtwo', 'image_link': 'https://raw.githubusercontent.com/PokeAPI/sprites/master/sprites/pokemon/150.png', 'description': 'psychic'}, 'Token No72': {'name': 'mew', 'image_link': 'https://raw.githubusercontent.com/PokeAPI/sprites/master/sprites/pokemon/151.png', 'description': 'psychic'}, 'Token No73': {'name': 'chikorita', 'image_link': 'https://raw.githubusercontent.com/PokeAPI/sprites/master/sprites/pokemon/152.png', 'description': 'grass'}, 'Token No74': {'name': 'cyndaquil', 'image_link': 'https://raw.githubusercontent.com/PokeAPI/sprites/master/sprites/pokemon/155.png', 'description': 'fire'}, 'Token No75': {'name': 'totodile', 'image_link': 'https://raw.githubusercontent.com/PokeAPI/sprites/master/sprites/pokemon/158.png', 'description': 'water'}, 'Token No76': {'name': 'sentret', 'image_link': 'https://raw.githubusercontent.com/PokeAPI/sprites/master/sprites/pokemon/161.png', 'description': 'normal'}, 'Token No77': {'name': 'hoothoot', 'image_link': 'https://raw.githubusercontent.com/PokeAPI/sprites/master/sprites/pokemon/163.png', 'description': 'normal'}, 'Token No78': {'name': 'ledyba', 'image_link': 'https://raw.githubusercontent.com/PokeAPI/sprites/master/sprites/pokemon/165.png', 'description': 'bug'}, 'Token No79': {'name': 'spinarak', 'image_link': 'https://raw.githubusercontent.com/PokeAPI/sprites/master/sprites/pokemon/167.png', 'description': 'bug'}, 'Token No80': {'name': 'chinchou', 'image_link': 'https://raw.githubusercontent.com/PokeAPI/sprites/master/sprites/pokemon/170.png', 'description': 'water'}, 'Token No81': {'name': 'pichu', 'image_link': 'https://raw.githubusercontent.com/PokeAPI/sprites/master/sprites/pokemon/172.png', 'description': 'electric'}, 'Token No82': {'name': 'cleffa', 'image_link': 'https://raw.githubusercontent.com/PokeAPI/sprites/master/sprites/pokemon/173.png', 'description': 'fairy'}, 'Token No83': {'name': 'igglybuff', 'image_link': 'https://raw.githubusercontent.com/PokeAPI/sprites/master/sprites/pokemon/174.png', 'description': 'normal'}, 'Token No84': {'name': 'togepi', 'image_link': 'https://raw.githubusercontent.com/PokeAPI/sprites/master/sprites/pokemon/175.png', 'description': 'fairy'}, 'Token No85': {'name': 'natu', 'image_link': 'https://raw.githubusercontent.com/PokeAPI/sprites/master/sprites/pokemon/177.png', 'description': 'psychic'}, 'Token No86': {'name': 'mareep', 'image_link': 'https://raw.githubusercontent.com/PokeAPI/sprites/master/sprites/pokemon/179.png', 'description': 'electric'}, 'Token No87': {'name': 'marill', 'image_link': 'https://raw.githubusercontent.com/PokeAPI/sprites/master/sprites/pokemon/183.png', 'description': 'water'}, 'Token No88': {'name': 'sudowoodo', 'image_link': 'https://raw.githubusercontent.com/PokeAPI/sprites/master/sprites/pokemon/185.png', 'description': 'rock'}, 'Token No89': {'name': 'hoppip', 'image_link': 'https://raw.githubusercontent.com/PokeAPI/sprites/master/sprites/pokemon/187.png', 'description': 'grass'}}\n",
      "Token No0\n",
      "Token No1\n",
      "Token No2\n",
      "Token No3\n",
      "Token No4\n",
      "Token No5\n",
      "Token No6\n",
      "Token No7\n",
      "Token No8\n",
      "Token No9\n",
      "Token No10\n",
      "Token No11\n",
      "Token No12\n",
      "Token No13\n",
      "Token No14\n",
      "Token No15\n",
      "Token No16\n",
      "Token No17\n",
      "Token No18\n",
      "Token No19\n",
      "Token No20\n",
      "Token No21\n",
      "Token No22\n",
      "Token No23\n",
      "Token No24\n",
      "Token No25\n",
      "Token No26\n",
      "Token No27\n",
      "Token No28\n",
      "Token No29\n",
      "Token No30\n",
      "Token No31\n",
      "Token No32\n",
      "Token No33\n",
      "Token No34\n",
      "Token No35\n",
      "Token No36\n",
      "Token No37\n",
      "Token No38\n",
      "Token No39\n",
      "Token No40\n",
      "Token No41\n",
      "Token No42\n",
      "Token No43\n",
      "Token No44\n",
      "Token No45\n",
      "Token No46\n",
      "Token No47\n",
      "Token No48\n",
      "Token No49\n",
      "Token No50\n",
      "Token No51\n",
      "Token No52\n",
      "Token No53\n",
      "Token No54\n",
      "Token No55\n",
      "Token No56\n",
      "Token No57\n",
      "Token No58\n",
      "Token No59\n",
      "Token No60\n",
      "Token No61\n",
      "Token No62\n",
      "Token No63\n",
      "Token No64\n",
      "Token No65\n",
      "Token No66\n",
      "Token No67\n",
      "Token No68\n",
      "Token No69\n",
      "Token No70\n",
      "Token No71\n",
      "Token No72\n",
      "Token No73\n",
      "Token No74\n",
      "Token No75\n",
      "Token No76\n",
      "Token No77\n",
      "Token No78\n",
      "Token No79\n",
      "Token No80\n",
      "Token No81\n",
      "Token No82\n",
      "Token No83\n",
      "Token No84\n",
      "Token No85\n",
      "Token No86\n",
      "Token No87\n",
      "Token No88\n",
      "Token No89\n"
     ]
    }
   ],
   "source": [
    "print(collection_nft.tokens)\n",
    "for token in collection_nft.tokens:\n",
    "    print(token)"
   ]
  },
  {
   "cell_type": "markdown",
   "metadata": {},
   "source": [
    "Each token must be linked with a unique image or a description of a game item"
   ]
  },
  {
   "cell_type": "code",
   "execution_count": 39,
   "metadata": {},
   "outputs": [
    {
     "data": {
      "text/plain": [
       "{'name': 'squirtle',\n",
       " 'image_link': 'https://raw.githubusercontent.com/PokeAPI/sprites/master/sprites/pokemon/7.png',\n",
       " 'description': 'water',\n",
       " 'owner': '30820122300d06092a864886f70d01010105000382010f003082010a028201010090553389d69c622cba73c790b6acbb9ac5cb93be8f135e5ff632323e3ffdbe6d76e0b91d651eed825e3813f853eb63d9d38f772a7e87264987d373ea969aa698974e687ef1dba1011a72c13cdc43ed9483be2bd70050b1b85f9ebd2c047e0de8c41d443599b680fd16c4c7a8ad16dabb41d35e9628607e4b283b96197a886b04d632145f8509c98c2c2ff1c9f694771337e61cddc0de67a28b492b49929ef0322b8400feb6270747ed8ebb9cc8daab01b50712c1996ae7c812516404630220ec6874e1826eeece948a248e66144cfc46ef1451752b9677c92e744eb3105e3e5c4a82fba68fe59a448ff548e7d22061751cd6f40ed9540616c9b6aac135fd0ca70203010001'}"
      ]
     },
     "execution_count": 39,
     "metadata": {},
     "output_type": "execute_result"
    }
   ],
   "source": [
    "collection_nft.tokens['Token No3']"
   ]
  },
  {
   "cell_type": "code",
   "execution_count": 40,
   "metadata": {},
   "outputs": [
    {
     "data": {
      "text/html": [
       "<img src=\"https://raw.githubusercontent.com/PokeAPI/sprites/master/sprites/pokemon/7.png\"/>"
      ],
      "text/plain": [
       "<IPython.core.display.Image object>"
      ]
     },
     "metadata": {},
     "output_type": "display_data"
    },
    {
     "data": {
      "text/html": [
       "<img src=\"https://raw.githubusercontent.com/PokeAPI/sprites/master/sprites/pokemon/1.png\"/>"
      ],
      "text/plain": [
       "<IPython.core.display.Image object>"
      ]
     },
     "metadata": {},
     "output_type": "display_data"
    },
    {
     "data": {
      "text/html": [
       "<img src=\"https://raw.githubusercontent.com/PokeAPI/sprites/master/sprites/pokemon/4.png\"/>"
      ],
      "text/plain": [
       "<IPython.core.display.Image object>"
      ]
     },
     "metadata": {},
     "output_type": "display_data"
    },
    {
     "data": {
      "text/html": [
       "<img src=\"https://raw.githubusercontent.com/PokeAPI/sprites/master/sprites/pokemon/10.png\"/>"
      ],
      "text/plain": [
       "<IPython.core.display.Image object>"
      ]
     },
     "metadata": {},
     "output_type": "display_data"
    }
   ],
   "source": [
    "display(Image(url=collection_nft.tokens['Token No3']['image_link']))\n",
    "display(Image(url=collection_nft.tokens['Token No1']['image_link']))\n",
    "display(Image(url=collection_nft.tokens['Token No2']['image_link']))\n",
    "display(Image(url=collection_nft.tokens['Token No4']['image_link']))\n"
   ]
  }
 ],
 "metadata": {
  "kernelspec": {
   "display_name": "base",
   "language": "python",
   "name": "python3"
  },
  "language_info": {
   "codemirror_mode": {
    "name": "ipython",
    "version": 3
   },
   "file_extension": ".py",
   "mimetype": "text/x-python",
   "name": "python",
   "nbconvert_exporter": "python",
   "pygments_lexer": "ipython3",
   "version": "3.12.4"
  }
 },
 "nbformat": 4,
 "nbformat_minor": 4
}
